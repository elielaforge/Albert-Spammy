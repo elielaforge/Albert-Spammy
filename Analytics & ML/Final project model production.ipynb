{
 "cells": [
  {
   "cell_type": "code",
   "execution_count": 3,
   "metadata": {},
   "outputs": [],
   "source": [
    "import pandas as pd\n",
    "import matplotlib.pyplot as plt\n",
    "import seaborn as sns"
   ]
  },
  {
   "cell_type": "code",
   "execution_count": 4,
   "metadata": {},
   "outputs": [],
   "source": [
    "from sklearn.linear_model import LogisticRegression\n",
    "from sklearn.model_selection import train_test_split\n",
    "from sklearn.feature_extraction.text import TfidfVectorizer\n",
    "from sklearn.metrics import classification_report, accuracy_score, confusion_matrix, roc_auc_score, roc_curve, f1_score\n"
   ]
  },
  {
   "cell_type": "code",
   "execution_count": 5,
   "metadata": {},
   "outputs": [
    {
     "data": {
      "text/html": [
       "<div>\n",
       "<style scoped>\n",
       "    .dataframe tbody tr th:only-of-type {\n",
       "        vertical-align: middle;\n",
       "    }\n",
       "\n",
       "    .dataframe tbody tr th {\n",
       "        vertical-align: top;\n",
       "    }\n",
       "\n",
       "    .dataframe thead th {\n",
       "        text-align: right;\n",
       "    }\n",
       "</style>\n",
       "<table border=\"1\" class=\"dataframe\">\n",
       "  <thead>\n",
       "    <tr style=\"text-align: right;\">\n",
       "      <th></th>\n",
       "      <th>Name</th>\n",
       "      <th>Comment</th>\n",
       "      <th>Time</th>\n",
       "      <th>Likes</th>\n",
       "      <th>Reply Count</th>\n",
       "      <th>Spam</th>\n",
       "    </tr>\n",
       "  </thead>\n",
       "  <tbody>\n",
       "    <tr>\n",
       "      <th>0</th>\n",
       "      <td>Taofeekat</td>\n",
       "      <td>&amp;lt;????i make my first million investing in f...</td>\n",
       "      <td>2022-09-28T02:08:55Z</td>\n",
       "      <td>30</td>\n",
       "      <td>30</td>\n",
       "      <td>1</td>\n",
       "    </tr>\n",
       "    <tr>\n",
       "      <th>1</th>\n",
       "      <td>Angelina Jordan</td>\n",
       "      <td>&amp;lt;?l will forever be indebted to you I will ...</td>\n",
       "      <td>2022-09-23T05:26:48Z</td>\n",
       "      <td>0</td>\n",
       "      <td>0</td>\n",
       "      <td>1</td>\n",
       "    </tr>\n",
       "    <tr>\n",
       "      <th>2</th>\n",
       "      <td>Fernandez Joe</td>\n",
       "      <td>&lt;b&gt;????I recommend a professional forex/Bitcoi...</td>\n",
       "      <td>2022-09-20T12:56:30Z</td>\n",
       "      <td>5</td>\n",
       "      <td>2</td>\n",
       "      <td>1</td>\n",
       "    </tr>\n",
       "    <tr>\n",
       "      <th>3</th>\n",
       "      <td>Jessica  Billy</td>\n",
       "      <td>I think I’m blessed because if not I wouldn’t ...</td>\n",
       "      <td>2022-09-17T20:20:24Z</td>\n",
       "      <td>21</td>\n",
       "      <td>34</td>\n",
       "      <td>1</td>\n",
       "    </tr>\n",
       "    <tr>\n",
       "      <th>4</th>\n",
       "      <td>Allison Zar</td>\n",
       "      <td>&lt;b&gt;I recommend a professional  broker to you g...</td>\n",
       "      <td>2022-09-05T09:19:30Z</td>\n",
       "      <td>19</td>\n",
       "      <td>27</td>\n",
       "      <td>1</td>\n",
       "    </tr>\n",
       "  </tbody>\n",
       "</table>\n",
       "</div>"
      ],
      "text/plain": [
       "              Name                                            Comment  \\\n",
       "0        Taofeekat  &lt;????i make my first million investing in f...   \n",
       "1  Angelina Jordan  &lt;?l will forever be indebted to you I will ...   \n",
       "2    Fernandez Joe  <b>????I recommend a professional forex/Bitcoi...   \n",
       "3   Jessica  Billy  I think I’m blessed because if not I wouldn’t ...   \n",
       "4      Allison Zar  <b>I recommend a professional  broker to you g...   \n",
       "\n",
       "                   Time  Likes  Reply Count  Spam  \n",
       "0  2022-09-28T02:08:55Z     30           30     1  \n",
       "1  2022-09-23T05:26:48Z      0            0     1  \n",
       "2  2022-09-20T12:56:30Z      5            2     1  \n",
       "3  2022-09-17T20:20:24Z     21           34     1  \n",
       "4  2022-09-05T09:19:30Z     19           27     1  "
      ]
     },
     "execution_count": 5,
     "metadata": {},
     "output_type": "execute_result"
    }
   ],
   "source": [
    "df_1 = pd.read_csv(\"./5000 YT comments.csv\", encoding='cp1252')\n",
    "df_1 = df_1.copy()\n",
    "df_1.head()"
   ]
  },
  {
   "cell_type": "code",
   "execution_count": 6,
   "metadata": {},
   "outputs": [],
   "source": [
    "df_1.rename(columns={\"Comment\":\"CONTENT\",\"Spam\":\"CLASS\"}, inplace=True)"
   ]
  },
  {
   "cell_type": "code",
   "execution_count": 7,
   "metadata": {},
   "outputs": [
    {
     "data": {
      "text/html": [
       "<div>\n",
       "<style scoped>\n",
       "    .dataframe tbody tr th:only-of-type {\n",
       "        vertical-align: middle;\n",
       "    }\n",
       "\n",
       "    .dataframe tbody tr th {\n",
       "        vertical-align: top;\n",
       "    }\n",
       "\n",
       "    .dataframe thead th {\n",
       "        text-align: right;\n",
       "    }\n",
       "</style>\n",
       "<table border=\"1\" class=\"dataframe\">\n",
       "  <thead>\n",
       "    <tr style=\"text-align: right;\">\n",
       "      <th></th>\n",
       "      <th>CONTENT</th>\n",
       "      <th>CLASS</th>\n",
       "    </tr>\n",
       "  </thead>\n",
       "  <tbody>\n",
       "    <tr>\n",
       "      <th>0</th>\n",
       "      <td>&amp;lt;????i make my first million investing in f...</td>\n",
       "      <td>1</td>\n",
       "    </tr>\n",
       "    <tr>\n",
       "      <th>1</th>\n",
       "      <td>&amp;lt;?l will forever be indebted to you I will ...</td>\n",
       "      <td>1</td>\n",
       "    </tr>\n",
       "    <tr>\n",
       "      <th>2</th>\n",
       "      <td>&lt;b&gt;????I recommend a professional forex/Bitcoi...</td>\n",
       "      <td>1</td>\n",
       "    </tr>\n",
       "    <tr>\n",
       "      <th>3</th>\n",
       "      <td>I think I’m blessed because if not I wouldn’t ...</td>\n",
       "      <td>1</td>\n",
       "    </tr>\n",
       "    <tr>\n",
       "      <th>4</th>\n",
       "      <td>&lt;b&gt;I recommend a professional  broker to you g...</td>\n",
       "      <td>1</td>\n",
       "    </tr>\n",
       "  </tbody>\n",
       "</table>\n",
       "</div>"
      ],
      "text/plain": [
       "                                             CONTENT  CLASS\n",
       "0  &lt;????i make my first million investing in f...      1\n",
       "1  &lt;?l will forever be indebted to you I will ...      1\n",
       "2  <b>????I recommend a professional forex/Bitcoi...      1\n",
       "3  I think I’m blessed because if not I wouldn’t ...      1\n",
       "4  <b>I recommend a professional  broker to you g...      1"
      ]
     },
     "execution_count": 7,
     "metadata": {},
     "output_type": "execute_result"
    }
   ],
   "source": [
    "df_1 = df_1[[\"CONTENT\", \"CLASS\"]]\n",
    "df_1.head()"
   ]
  },
  {
   "cell_type": "code",
   "execution_count": 8,
   "metadata": {},
   "outputs": [
    {
     "data": {
      "text/html": [
       "<div>\n",
       "<style scoped>\n",
       "    .dataframe tbody tr th:only-of-type {\n",
       "        vertical-align: middle;\n",
       "    }\n",
       "\n",
       "    .dataframe tbody tr th {\n",
       "        vertical-align: top;\n",
       "    }\n",
       "\n",
       "    .dataframe thead th {\n",
       "        text-align: right;\n",
       "    }\n",
       "</style>\n",
       "<table border=\"1\" class=\"dataframe\">\n",
       "  <thead>\n",
       "    <tr style=\"text-align: right;\">\n",
       "      <th></th>\n",
       "      <th>CONTENT</th>\n",
       "      <th>CLASS</th>\n",
       "    </tr>\n",
       "  </thead>\n",
       "  <tbody>\n",
       "    <tr>\n",
       "      <th>0</th>\n",
       "      <td>Huh, anyway check out this you[tube] channel: ...</td>\n",
       "      <td>1</td>\n",
       "    </tr>\n",
       "    <tr>\n",
       "      <th>1</th>\n",
       "      <td>Hey guys check out my new channel and our firs...</td>\n",
       "      <td>1</td>\n",
       "    </tr>\n",
       "    <tr>\n",
       "      <th>2</th>\n",
       "      <td>just for test I have to say murdev.com</td>\n",
       "      <td>1</td>\n",
       "    </tr>\n",
       "    <tr>\n",
       "      <th>3</th>\n",
       "      <td>me shaking my sexy ass on my channel enjoy ^_^ ﻿</td>\n",
       "      <td>1</td>\n",
       "    </tr>\n",
       "    <tr>\n",
       "      <th>4</th>\n",
       "      <td>watch?v=vtaRGgvGtWQ   Check this out .﻿</td>\n",
       "      <td>1</td>\n",
       "    </tr>\n",
       "  </tbody>\n",
       "</table>\n",
       "</div>"
      ],
      "text/plain": [
       "                                             CONTENT  CLASS\n",
       "0  Huh, anyway check out this you[tube] channel: ...      1\n",
       "1  Hey guys check out my new channel and our firs...      1\n",
       "2             just for test I have to say murdev.com      1\n",
       "3   me shaking my sexy ass on my channel enjoy ^_^ ﻿      1\n",
       "4            watch?v=vtaRGgvGtWQ   Check this out .﻿      1"
      ]
     },
     "execution_count": 8,
     "metadata": {},
     "output_type": "execute_result"
    }
   ],
   "source": [
    "df_2 = pd.read_csv(\"./Youtube-Spam-Dataset.csv\")\n",
    "df_2 = df_2.copy()\n",
    "df_2 = df_2[[\"CONTENT\", \"CLASS\"]]\n",
    "df_2.head()"
   ]
  },
  {
   "cell_type": "code",
   "execution_count": 9,
   "metadata": {},
   "outputs": [
    {
     "data": {
      "text/plain": [
       "(6956, 2)"
      ]
     },
     "execution_count": 9,
     "metadata": {},
     "output_type": "execute_result"
    }
   ],
   "source": [
    "df =  pd.concat([df_1, df_2], ignore_index=True)\n",
    "df.shape"
   ]
  },
  {
   "cell_type": "code",
   "execution_count": 10,
   "metadata": {},
   "outputs": [
    {
     "data": {
      "text/plain": [
       "(6453, 2)"
      ]
     },
     "execution_count": 10,
     "metadata": {},
     "output_type": "execute_result"
    }
   ],
   "source": [
    "df.drop_duplicates(inplace=True)\n",
    "df.shape\n"
   ]
  },
  {
   "cell_type": "code",
   "execution_count": 11,
   "metadata": {},
   "outputs": [],
   "source": [
    "X= df[\"CONTENT\"]\n",
    "y= df[\"CLASS\"]"
   ]
  },
  {
   "cell_type": "code",
   "execution_count": 12,
   "metadata": {},
   "outputs": [],
   "source": [
    "from sklearn.pipeline import make_pipeline\n",
    "from sklearn.ensemble import GradientBoostingRegressor"
   ]
  },
  {
   "cell_type": "code",
   "execution_count": 13,
   "metadata": {},
   "outputs": [],
   "source": [
    "# def class_model(X, y):\n",
    "#     X_train, X_test, y_train, y_test = train_test_split(X, y, test_size=0.2, random_state=13)\n",
    "\n",
    "#     # Using a pipeline to chain TF-IDF vectorization and Logistic Regression\n",
    "#     model = make_pipeline(\n",
    "#         TfidfVectorizer(),\n",
    "#         LogisticRegression(random_state=13)\n",
    "#     )\n",
    "\n",
    "#     model.fit(X_train, y_train)\n",
    "\n",
    "#     train_predictions = model.predict(X_train)\n",
    "#     train_accuracy = accuracy_score(y_train, train_predictions)\n",
    "\n",
    "#     test_predictions = model.predict(X_test)\n",
    "#     test_accuracy = accuracy_score(y_test, test_predictions)\n",
    "    \n",
    "#     # Get probabilities for ROC-AUC (for the positive class, class 1)\n",
    "#     test_probabilities = model.predict_proba(X_test)[:, 1]\n",
    "\n",
    "#     # Calculate ROC-AUC score\n",
    "#     roc_auc = roc_auc_score(y_test, test_probabilities)\n",
    "#     print(f\"ROC-AUC Score: {roc_auc:.4f}\")\n",
    "\n",
    "#     # Calculate and print F1 score\n",
    "#     f1 = f1_score(y_test, test_predictions)\n",
    "#     print(\"F1 Score:\", f1)\n",
    "\n",
    "#     cm = confusion_matrix(y_test, test_predictions)\n",
    "\n",
    "#     # Plotting confusion matrix\n",
    "#     plt.figure(figsize=(6, 4))\n",
    "#     sns.heatmap(cm, annot=True, fmt='d', cmap='Blues', cbar=False)\n",
    "#     plt.title('Log Reg Confusion Matrix')\n",
    "#     plt.ylabel('Actual')\n",
    "#     plt.xlabel('Predicted')\n",
    "#     plt.show()\n",
    "    \n",
    "#     # Compute ROC curve and plot it\n",
    "#     fpr, tpr, _ = roc_curve(y_test, test_probabilities)\n",
    "    \n",
    "#     plt.figure(figsize=(8, 6))\n",
    "#     plt.plot(fpr, tpr, color='blue', label=f'ROC curve (area = {roc_auc:.2f})')\n",
    "#     plt.plot([0, 1], [0, 1], color='gray', linestyle='--')  # Diagonal line for random guessing\n",
    "#     plt.xlabel('False Positive Rate')\n",
    "#     plt.ylabel('True Positive Rate')\n",
    "#     plt.title('Receiver Operating Characteristic (ROC) Curve')\n",
    "#     plt.legend(loc='lower right')\n",
    "#     plt.show()\n",
    "    \n",
    "#     print(f\"Train Accuracy: {train_accuracy:.4f}\")\n",
    "#     print(f\"Test Accuracy: {test_accuracy:.4f}\")"
   ]
  },
  {
   "cell_type": "code",
   "execution_count": 14,
   "metadata": {},
   "outputs": [],
   "source": [
    "# class_model(X,y)"
   ]
  },
  {
   "cell_type": "code",
   "execution_count": 15,
   "metadata": {},
   "outputs": [],
   "source": [
    "from sklearn.naive_bayes import BernoulliNB"
   ]
  },
  {
   "cell_type": "code",
   "execution_count": 16,
   "metadata": {},
   "outputs": [],
   "source": [
    "# def bernoulli(X, y):\n",
    "    \n",
    "#     vect = TfidfVectorizer(binary=True)\n",
    "#     X = vect.fit_transform(X)\n",
    "    \n",
    "#     X_train, X_test, y_train, y_test = train_test_split(X, y, test_size=0.2, random_state=13)\n",
    "\n",
    "#     ber = BernoulliNB()\n",
    "    \n",
    "#     ber.fit(X_train, y_train)\n",
    "#     predictions = ber.predict(X_test)\n",
    "    \n",
    "#     print(\"Train Score:\", ber.score(X_train, y_train))\n",
    "#     print(\"Test Score:\", ber.score(X_test, y_test))\n",
    "    \n",
    "#     # Calculate and print F1 score\n",
    "#     f1 = f1_score(y_test, predictions)\n",
    "#     print(\"F1 Score:\", f1)\n",
    "    \n",
    "#     probabilities = ber.predict_proba(X_test)[:, 1]  # Probabilities for the positive class (class 1)\n",
    "    \n",
    "#     cm = confusion_matrix(y_test, predictions)\n",
    "\n",
    "#     # Plotting confusion matrix\n",
    "#     plt.figure(figsize=(6, 4))\n",
    "#     sns.heatmap(cm, annot=True, fmt='d', cmap='Blues', cbar=False)\n",
    "#     plt.title('Naive Bayes Confusion Matrix')\n",
    "#     plt.ylabel('Actual')\n",
    "#     plt.xlabel('Predicted')\n",
    "#     plt.show()\n",
    "    \n",
    "#     roc_auc = roc_auc_score(y_test, probabilities)\n",
    "#     print(\"ROC-AUC score:\", roc_auc)\n",
    "    \n",
    "#     # Compute ROC curve and plot it\n",
    "#     fpr, tpr, _ = roc_curve(y_test, probabilities)\n",
    "    \n",
    "#     plt.figure(figsize=(8, 6))\n",
    "#     plt.plot(fpr, tpr, color='blue', label=f'ROC curve (area = {roc_auc:.2f})')\n",
    "#     plt.plot([0, 1], [0, 1], color='gray', linestyle='--')  # Diagonal line for random guessing\n",
    "#     plt.xlabel('False Positive Rate')\n",
    "#     plt.ylabel('True Positive Rate')\n",
    "#     plt.title('Receiver Operating Characteristic (ROC) Curve')\n",
    "#     plt.legend(loc='lower right')\n",
    "#     plt.show()\n"
   ]
  },
  {
   "cell_type": "code",
   "execution_count": 17,
   "metadata": {},
   "outputs": [],
   "source": [
    "# bernoulli(X,y)"
   ]
  },
  {
   "cell_type": "code",
   "execution_count": 18,
   "metadata": {},
   "outputs": [],
   "source": [
    "import xgboost as xgb\n"
   ]
  },
  {
   "cell_type": "code",
   "execution_count": 19,
   "metadata": {},
   "outputs": [],
   "source": [
    "# def xgb_model_prod(X, y):\n",
    "#     X_train, X_test, y_train, y_test = train_test_split(X, y, test_size=0.2, random_state=13)\n",
    "\n",
    "#     # Using a pipeline to chain TF-IDF vectorization and XGBoost Classifier\n",
    "#     model = make_pipeline(\n",
    "#         TfidfVectorizer(),\n",
    "#         xgb.XGBClassifier(\n",
    "#             objective='binary:logistic',\n",
    "#             max_depth=9,\n",
    "#             learning_rate=0.1,\n",
    "#             eval_metric='logloss'\n",
    "#         )\n",
    "#     )\n",
    "\n",
    "#     model.fit(X_train, y_train)\n",
    "\n",
    "#     train_predictions = model.predict(X_train)\n",
    "#     train_accuracy = accuracy_score(y_train, train_predictions)\n",
    "\n",
    "#     test_predictions = model.predict(X_test)\n",
    "#     test_accuracy = accuracy_score(y_test, test_predictions)\n",
    "\n",
    "#     # Get predicted probabilities for ROC-AUC\n",
    "#     probabilities = model.predict_proba(X_test)\n",
    "\n",
    "#     # Set custom threshold for classifying the predictions\n",
    "#     threshold = 0.65\n",
    "#     custom_predictions = (probabilities[:, 1] >= threshold).astype(int)\n",
    "\n",
    "#     # Calculate F1 score\n",
    "#     f1 = f1_score(y_test, custom_predictions)\n",
    "#     print(f\"F1 Score (using threshold {threshold}): {f1:.4f}\")\n",
    "\n",
    "#     # Calculate ROC-AUC score\n",
    "#     roc_auc = roc_auc_score(y_test, probabilities[:, 1])\n",
    "#     print(f\"ROC-AUC Score: {roc_auc:.4f}\")\n",
    "\n",
    "#     # # Plot ROC curve\n",
    "#     # fpr, tpr, _ = roc_curve(y_test, probabilities[:, 1])\n",
    "#     # plt.figure(figsize=(8, 6))\n",
    "#     # plt.plot(fpr, tpr, color='blue', label=f'ROC curve (area = {roc_auc:.2f})')\n",
    "#     # plt.plot([0, 1], [0, 1], color='gray', linestyle='--')  # Diagonal line for random guessing\n",
    "#     # plt.xlabel('False Positive Rate')\n",
    "#     # plt.ylabel('True Positive Rate')\n",
    "#     # plt.title('Receiver Operating Characteristic (ROC) Curve')\n",
    "#     # plt.legend(loc='lower right')\n",
    "#     # plt.show()\n",
    "\n",
    "#     # # Confusion matrix\n",
    "#     # cm = confusion_matrix(y_test, custom_predictions)\n",
    "#     # plt.figure(figsize=(6, 4))\n",
    "#     # sns.heatmap(cm, annot=True, fmt='d', cmap='Blues', cbar=False)\n",
    "#     # plt.title(f'XGBoost Confusion Matrix (Threshold = {threshold})')\n",
    "#     # plt.ylabel('Actual')\n",
    "#     # plt.xlabel('Predicted')\n",
    "#     # plt.show()\n",
    "\n",
    "#     print(f\"Train Accuracy: {train_accuracy:.4f}\")\n",
    "#     print(f\"Test Accuracy (using threshold {threshold}): {test_accuracy:.4f}\")\n",
    "\n",
    "#     return model"
   ]
  },
  {
   "cell_type": "code",
   "execution_count": 20,
   "metadata": {},
   "outputs": [],
   "source": [
    "# model = xgb_model_prod(X, y)"
   ]
  },
  {
   "cell_type": "code",
   "execution_count": 21,
   "metadata": {},
   "outputs": [],
   "source": [
    "from sklearn.model_selection import train_test_split, GridSearchCV\n",
    "from sklearn.pipeline import make_pipeline\n",
    "from sklearn.feature_extraction.text import TfidfVectorizer\n",
    "from sklearn.metrics import accuracy_score, classification_report\n",
    "import xgboost as xgb\n"
   ]
  },
  {
   "cell_type": "code",
   "execution_count": 22,
   "metadata": {},
   "outputs": [],
   "source": [
    "\n",
    "# def xgb_model_prod_grid_search(X, y):\n",
    "#     X_train, X_test, y_train, y_test = train_test_split(X, y, test_size=0.2, random_state=13)\n",
    "\n",
    "#     # Creating a pipeline with TF-IDF vectorization and XGBoost Classifier\n",
    "#     model = make_pipeline(\n",
    "#         TfidfVectorizer(),\n",
    "#         xgb.XGBClassifier(objective='binary:logistic', eval_metric='logloss')\n",
    "#     )\n",
    "    \n",
    "#     # Defining the hyperparameter grid\n",
    "#     param_grid = {\n",
    "#         'xgbclassifier__max_depth': [3, 6, 9],\n",
    "#         'xgbclassifier__learning_rate': [0.01, 0.1, 0.2],\n",
    "#         'xgbclassifier__n_estimators': [50, 100, 150]\n",
    "#     }\n",
    "    \n",
    "#     # Setting up GridSearchCV\n",
    "#     grid_search = GridSearchCV(model, param_grid, cv=5, scoring='accuracy', verbose=1)\n",
    "    \n",
    "#     # Fitting the model with Grid Search\n",
    "#     grid_search.fit(X_train, y_train)\n",
    "    \n",
    "#     print(f\"Best Hyperparameters: {grid_search.best_params_}\")\n",
    "    \n",
    "#     # Best model after grid search\n",
    "#     best_model = grid_search.best_estimator_\n",
    "    \n",
    "#     train_predictions = best_model.predict(X_train)\n",
    "#     train_accuracy = accuracy_score(y_train, train_predictions)\n",
    "\n",
    "#     test_predictions = best_model.predict(X_test)\n",
    "#     test_accuracy = accuracy_score(y_test, test_predictions)\n",
    "\n",
    "#     # Printing the predicted probabilities and corresponding raw text from X_test\n",
    "#     probabilities = best_model.predict_proba(X_test)\n",
    "\n",
    "#     threshold = 0.5\n",
    "#     custom_predictions = (probabilities[:, 1] >= threshold).astype(int)\n",
    "\n",
    "#     print(\"\\nPredicted Probabilities for each test sample:\")\n",
    "#     for i, (prob_0, prob_1) in enumerate(probabilities):\n",
    "#         print(f\"Sample {i + 1}: Class 0 Probability: {prob_0:.4f}, Class 1 Probability: {prob_1:.4f}\")\n",
    "#         print(f\"Comment: {X_test.iloc[i]}\\n\")\n",
    "    \n",
    "#     print(f\"Train Accuracy: {train_accuracy:.4f}\")\n",
    "#     print(f\"Test Accuracy (using threshold {threshold}): {test_accuracy:.4f}\")\n",
    "#     print(\"Classification report:\\n\", classification_report(y_test, custom_predictions))\n",
    "    \n",
    "#     return best_model\n"
   ]
  },
  {
   "cell_type": "code",
   "execution_count": 23,
   "metadata": {},
   "outputs": [],
   "source": [
    "# xgb_model_prod_grid_search(X,y)"
   ]
  },
  {
   "cell_type": "markdown",
   "metadata": {},
   "source": [
    "Best Hyperparameters: {'xgbclassifier__learning_rate': 0.2, 'xgbclassifier__max_depth': 6, 'xgbclassifier__n_estimators': 150}\n"
   ]
  },
  {
   "cell_type": "code",
   "execution_count": 24,
   "metadata": {},
   "outputs": [],
   "source": [
    "def xgb_model_prod_best_params(X, y):\n",
    "    X_train, X_test, y_train, y_test = train_test_split(X, y, test_size=0.2, random_state=13)\n",
    "\n",
    "    # Pipeline for TF-IDF vectorization and XGBoost Classifier\n",
    "    model = make_pipeline(\n",
    "        TfidfVectorizer(),\n",
    "        xgb.XGBClassifier(\n",
    "            objective='binary:logistic',\n",
    "            max_depth=6,\n",
    "            learning_rate=0.2,\n",
    "            eval_metric='logloss',\n",
    "            n_estimators=150\n",
    "        )\n",
    "    )\n",
    "\n",
    "    model.fit(X_train, y_train)\n",
    "\n",
    "    # Get predicted probabilities instead of direct predictions\n",
    "    probabilities = model.predict_proba(X_test)\n",
    "\n",
    "    # Set custom threshold for classifying the predictions\n",
    "    threshold = 0.55\n",
    "    custom_predictions = (probabilities[:, 1] >= threshold).astype(int)\n",
    "\n",
    "    # Confusion matrix\n",
    "    cm = confusion_matrix(y_test, custom_predictions)\n",
    "\n",
    "    # plt.figure(figsize=(6, 4))\n",
    "    # sns.heatmap(cm, annot=True, fmt='d', cmap='Blues', cbar=False)\n",
    "    # plt.title(f'XGBoost Confusion Matrix (Threshold = {threshold})')\n",
    "    # plt.ylabel('Actual')\n",
    "    # plt.xlabel('Predicted')\n",
    "    # plt.show()\n",
    "\n",
    "    # Calculate F1 score\n",
    "    f1 = f1_score(y_test, custom_predictions)\n",
    "    print(f\"F1 Score: {f1:.4f}\")\n",
    "\n",
    "    # Calculate ROC-AUC score\n",
    "    roc_auc = roc_auc_score(y_test, probabilities[:, 1])\n",
    "    print(f\"ROC-AUC Score: {roc_auc:.4f}\")\n",
    "\n",
    "    # Plot ROC curve\n",
    "    # fpr, tpr, _ = roc_curve(y_test, probabilities[:, 1])\n",
    "    # plt.figure(figsize=(8, 6))\n",
    "    # plt.plot(fpr, tpr, color='blue', label=f'ROC curve (area = {roc_auc:.2f})')\n",
    "    # plt.plot([0, 1], [0, 1], color='gray', linestyle='--')  # Diagonal line for random guessing\n",
    "    # plt.xlabel('False Positive Rate')\n",
    "    # plt.ylabel('True Positive Rate')\n",
    "    # plt.title('Receiver Operating Characteristic (ROC) Curve')\n",
    "    # plt.legend(loc='lower right')\n",
    "    # plt.show()\n",
    "\n",
    "    # Accuracy scores\n",
    "    print(f\"Train Accuracy: {accuracy_score(y_train, model.predict(X_train)):.4f}\")\n",
    "    print(f\"Test Accuracy: {accuracy_score(y_test, custom_predictions):.4f}\")\n",
    "\n",
    "    return model"
   ]
  },
  {
   "cell_type": "code",
   "execution_count": 25,
   "metadata": {},
   "outputs": [
    {
     "name": "stdout",
     "output_type": "stream",
     "text": [
      "XGBOOSTED Best params\n",
      "F1 Score: 0.8877\n",
      "ROC-AUC Score: 0.9615\n",
      "Train Accuracy: 0.9607\n",
      "Test Accuracy: 0.8993\n"
     ]
    }
   ],
   "source": [
    "print(\"XGBOOSTED Best params\")\n",
    "model = xgb_model_prod_best_params(X,y)"
   ]
  },
  {
   "cell_type": "markdown",
   "metadata": {},
   "source": [
    "LOG REG\n",
    "- F1 Score: 0.8941176470588236\n",
    "- ROC-AUC Score: 0.9584\n",
    "- Train Accuracy: 0.9318\n",
    "- Test Accuracy: 0.9024"
   ]
  },
  {
   "cell_type": "markdown",
   "metadata": {},
   "source": [
    "XGBOOST Best params\n",
    "- F1 Score: 0.8877\n",
    "- ROC-AUC Score: 0.9615\n",
    "- Train Accuracy: 0.9607\n",
    "- Test Accuracy: 0.8993\n"
   ]
  },
  {
   "cell_type": "markdown",
   "metadata": {},
   "source": [
    "XGBoost basic\n",
    "- F1 Score (using threshold 0.65): 0.8656\n",
    "- ROC-AUC Score: 0.9570\n",
    "- Train Accuracy: 0.9502\n",
    "- Test Accuracy (using threshold 0.65): 0.9047\n"
   ]
  },
  {
   "cell_type": "code",
   "execution_count": null,
   "metadata": {},
   "outputs": [],
   "source": []
  },
  {
   "cell_type": "code",
   "execution_count": 26,
   "metadata": {},
   "outputs": [],
   "source": [
    "# Predict class of a given comment\n",
    "def predict_spam_comment(model, new_comment):\n",
    "    \n",
    "    probabilities = model.predict_proba([new_comment])\n",
    "    \n",
    "    predicted_class = model.predict([new_comment])[0]\n",
    "    \n",
    "    # Get the probability of the predicted class\n",
    "    predicted_probability = probabilities[0][predicted_class]\n",
    "\n",
    "    if predicted_class == 1: \n",
    "        return f\"Spam (Probability: {predicted_probability:.4f})\"\n",
    "    else:\n",
    "        return f\"Not Spam (Probability: {predicted_probability:.4f})\"\n"
   ]
  },
  {
   "cell_type": "code",
   "execution_count": 39,
   "metadata": {},
   "outputs": [],
   "source": [
    "# Test comment\n",
    "spam = \"Check out this link : http://elielaforge.com\"\n",
    "not_spam = \"AMAZINGGG, @yunan check this!\""
   ]
  },
  {
   "cell_type": "code",
   "execution_count": 40,
   "metadata": {},
   "outputs": [
    {
     "name": "stdout",
     "output_type": "stream",
     "text": [
      "Spam (Probability: 0.9995)\n"
     ]
    }
   ],
   "source": [
    "# Call the prediction function\n",
    "result = predict_spam_comment(model, spam)\n",
    "print(result) "
   ]
  },
  {
   "cell_type": "code",
   "execution_count": null,
   "metadata": {},
   "outputs": [],
   "source": []
  }
 ],
 "metadata": {
  "kernelspec": {
   "display_name": ".venv",
   "language": "python",
   "name": "python3"
  },
  "language_info": {
   "codemirror_mode": {
    "name": "ipython",
    "version": 3
   },
   "file_extension": ".py",
   "mimetype": "text/x-python",
   "name": "python",
   "nbconvert_exporter": "python",
   "pygments_lexer": "ipython3",
   "version": "3.13.0"
  }
 },
 "nbformat": 4,
 "nbformat_minor": 2
}
