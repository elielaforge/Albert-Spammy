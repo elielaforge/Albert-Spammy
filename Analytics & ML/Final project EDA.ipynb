{
 "cells": [
  {
   "cell_type": "markdown",
   "metadata": {},
   "source": [
    "# **ML For Business II Final Project**"
   ]
  },
  {
   "cell_type": "markdown",
   "metadata": {},
   "source": [
    "### **Welcome to our final project!**\n",
    "\n",
    "The goal here is to predict wether a given comment on a youtube video is a `spam` or not.\n",
    "\n",
    "To do so, we'll be using a dataset extracted from Kaggle, with labeled data in the column `CLASS` where `1` indicates that the comment is considered a `spam` and `0` otherwise. "
   ]
  },
  {
   "cell_type": "code",
   "execution_count": 3,
   "metadata": {},
   "outputs": [],
   "source": [
    "import pandas as pd\n",
    "import matplotlib.pyplot as plt\n",
    "import plotly.express as px"
   ]
  },
  {
   "cell_type": "code",
   "execution_count": 4,
   "metadata": {},
   "outputs": [
    {
     "data": {
      "text/html": [
       "<div>\n",
       "<style scoped>\n",
       "    .dataframe tbody tr th:only-of-type {\n",
       "        vertical-align: middle;\n",
       "    }\n",
       "\n",
       "    .dataframe tbody tr th {\n",
       "        vertical-align: top;\n",
       "    }\n",
       "\n",
       "    .dataframe thead th {\n",
       "        text-align: right;\n",
       "    }\n",
       "</style>\n",
       "<table border=\"1\" class=\"dataframe\">\n",
       "  <thead>\n",
       "    <tr style=\"text-align: right;\">\n",
       "      <th></th>\n",
       "      <th>COMMENT_ID</th>\n",
       "      <th>AUTHOR</th>\n",
       "      <th>DATE</th>\n",
       "      <th>CONTENT</th>\n",
       "      <th>VIDEO_NAME</th>\n",
       "      <th>CLASS</th>\n",
       "    </tr>\n",
       "  </thead>\n",
       "  <tbody>\n",
       "    <tr>\n",
       "      <th>0</th>\n",
       "      <td>LZQPQhLyRh80UYxNuaDWhIGQYNQ96IuCg-AYWqNPjpU</td>\n",
       "      <td>Julius NM</td>\n",
       "      <td>2013-11-07T06:20:48</td>\n",
       "      <td>Huh, anyway check out this you[tube] channel: ...</td>\n",
       "      <td>PSY - GANGNAM STYLE(?????) M/V</td>\n",
       "      <td>1</td>\n",
       "    </tr>\n",
       "    <tr>\n",
       "      <th>1</th>\n",
       "      <td>LZQPQhLyRh_C2cTtd9MvFRJedxydaVW-2sNg5Diuo4A</td>\n",
       "      <td>adam riyati</td>\n",
       "      <td>2013-11-07T12:37:15</td>\n",
       "      <td>Hey guys check out my new channel and our firs...</td>\n",
       "      <td>PSY - GANGNAM STYLE(?????) M/V</td>\n",
       "      <td>1</td>\n",
       "    </tr>\n",
       "    <tr>\n",
       "      <th>2</th>\n",
       "      <td>LZQPQhLyRh9MSZYnf8djyk0gEF9BHDPYrrK-qCczIY8</td>\n",
       "      <td>Evgeny Murashkin</td>\n",
       "      <td>2013-11-08T17:34:21</td>\n",
       "      <td>just for test I have to say murdev.com</td>\n",
       "      <td>PSY - GANGNAM STYLE(?????) M/V</td>\n",
       "      <td>1</td>\n",
       "    </tr>\n",
       "    <tr>\n",
       "      <th>3</th>\n",
       "      <td>z13jhp0bxqncu512g22wvzkasxmvvzjaz04</td>\n",
       "      <td>ElNino Melendez</td>\n",
       "      <td>2013-11-09T08:28:43</td>\n",
       "      <td>me shaking my sexy ass on my channel enjoy ^_^ ﻿</td>\n",
       "      <td>PSY - GANGNAM STYLE(?????) M/V</td>\n",
       "      <td>1</td>\n",
       "    </tr>\n",
       "    <tr>\n",
       "      <th>4</th>\n",
       "      <td>z13fwbwp1oujthgqj04chlngpvzmtt3r3dw</td>\n",
       "      <td>GsMega</td>\n",
       "      <td>2013-11-10T16:05:38</td>\n",
       "      <td>watch?v=vtaRGgvGtWQ   Check this out .﻿</td>\n",
       "      <td>PSY - GANGNAM STYLE(?????) M/V</td>\n",
       "      <td>1</td>\n",
       "    </tr>\n",
       "  </tbody>\n",
       "</table>\n",
       "</div>"
      ],
      "text/plain": [
       "                                    COMMENT_ID            AUTHOR  \\\n",
       "0  LZQPQhLyRh80UYxNuaDWhIGQYNQ96IuCg-AYWqNPjpU         Julius NM   \n",
       "1  LZQPQhLyRh_C2cTtd9MvFRJedxydaVW-2sNg5Diuo4A       adam riyati   \n",
       "2  LZQPQhLyRh9MSZYnf8djyk0gEF9BHDPYrrK-qCczIY8  Evgeny Murashkin   \n",
       "3          z13jhp0bxqncu512g22wvzkasxmvvzjaz04   ElNino Melendez   \n",
       "4          z13fwbwp1oujthgqj04chlngpvzmtt3r3dw            GsMega   \n",
       "\n",
       "                  DATE                                            CONTENT  \\\n",
       "0  2013-11-07T06:20:48  Huh, anyway check out this you[tube] channel: ...   \n",
       "1  2013-11-07T12:37:15  Hey guys check out my new channel and our firs...   \n",
       "2  2013-11-08T17:34:21             just for test I have to say murdev.com   \n",
       "3  2013-11-09T08:28:43   me shaking my sexy ass on my channel enjoy ^_^ ﻿   \n",
       "4  2013-11-10T16:05:38            watch?v=vtaRGgvGtWQ   Check this out .﻿   \n",
       "\n",
       "                       VIDEO_NAME  CLASS  \n",
       "0  PSY - GANGNAM STYLE(?????) M/V      1  \n",
       "1  PSY - GANGNAM STYLE(?????) M/V      1  \n",
       "2  PSY - GANGNAM STYLE(?????) M/V      1  \n",
       "3  PSY - GANGNAM STYLE(?????) M/V      1  \n",
       "4  PSY - GANGNAM STYLE(?????) M/V      1  "
      ]
     },
     "execution_count": 4,
     "metadata": {},
     "output_type": "execute_result"
    }
   ],
   "source": [
    "df = pd.read_csv(\"./Youtube-Spam-Dataset.csv\")\n",
    "df = df.copy()\n",
    "df.head()"
   ]
  },
  {
   "cell_type": "markdown",
   "metadata": {},
   "source": [
    "### **Part 1: Exploratory Data Analysis**"
   ]
  },
  {
   "cell_type": "markdown",
   "metadata": {},
   "source": [
    "#### **Checking if Yunan gave me a shitty dataset**"
   ]
  },
  {
   "cell_type": "code",
   "execution_count": 5,
   "metadata": {},
   "outputs": [
    {
     "data": {
      "text/plain": [
       "COMMENT_ID    object\n",
       "AUTHOR        object\n",
       "DATE          object\n",
       "CONTENT       object\n",
       "VIDEO_NAME    object\n",
       "CLASS          int64\n",
       "dtype: object"
      ]
     },
     "execution_count": 5,
     "metadata": {},
     "output_type": "execute_result"
    }
   ],
   "source": [
    "df.dtypes"
   ]
  },
  {
   "cell_type": "code",
   "execution_count": 6,
   "metadata": {},
   "outputs": [
    {
     "data": {
      "text/plain": [
       "(1956, 6)"
      ]
     },
     "execution_count": 6,
     "metadata": {},
     "output_type": "execute_result"
    }
   ],
   "source": [
    "df.shape"
   ]
  },
  {
   "cell_type": "code",
   "execution_count": 7,
   "metadata": {},
   "outputs": [
    {
     "data": {
      "text/plain": [
       "COMMENT_ID      0\n",
       "AUTHOR          0\n",
       "DATE          245\n",
       "CONTENT         0\n",
       "VIDEO_NAME      0\n",
       "CLASS           0\n",
       "dtype: int64"
      ]
     },
     "execution_count": 7,
     "metadata": {},
     "output_type": "execute_result"
    }
   ],
   "source": [
    "df.isna().sum()"
   ]
  },
  {
   "cell_type": "code",
   "execution_count": 8,
   "metadata": {},
   "outputs": [],
   "source": [
    "df.drop_duplicates(inplace=True)"
   ]
  },
  {
   "cell_type": "code",
   "execution_count": 9,
   "metadata": {},
   "outputs": [
    {
     "data": {
      "text/plain": [
       "(1953, 6)"
      ]
     },
     "execution_count": 9,
     "metadata": {},
     "output_type": "execute_result"
    }
   ],
   "source": [
    "df.shape"
   ]
  },
  {
   "cell_type": "markdown",
   "metadata": {},
   "source": [
    "#### **1. Temporal Analysis**"
   ]
  },
  {
   "cell_type": "markdown",
   "metadata": {},
   "source": [
    "##### **A) Dates**"
   ]
  },
  {
   "cell_type": "code",
   "execution_count": 10,
   "metadata": {},
   "outputs": [
    {
     "data": {
      "text/html": [
       "<div>\n",
       "<style scoped>\n",
       "    .dataframe tbody tr th:only-of-type {\n",
       "        vertical-align: middle;\n",
       "    }\n",
       "\n",
       "    .dataframe tbody tr th {\n",
       "        vertical-align: top;\n",
       "    }\n",
       "\n",
       "    .dataframe thead th {\n",
       "        text-align: right;\n",
       "    }\n",
       "</style>\n",
       "<table border=\"1\" class=\"dataframe\">\n",
       "  <thead>\n",
       "    <tr style=\"text-align: right;\">\n",
       "      <th></th>\n",
       "      <th>Date</th>\n",
       "      <th>0</th>\n",
       "      <th>1</th>\n",
       "    </tr>\n",
       "  </thead>\n",
       "  <tbody>\n",
       "    <tr>\n",
       "      <th>0</th>\n",
       "      <td>2013-09-05</td>\n",
       "      <td>1</td>\n",
       "      <td>0</td>\n",
       "    </tr>\n",
       "    <tr>\n",
       "      <th>1</th>\n",
       "      <td>2013-10-18</td>\n",
       "      <td>0</td>\n",
       "      <td>1</td>\n",
       "    </tr>\n",
       "    <tr>\n",
       "      <th>2</th>\n",
       "      <td>2013-11-07</td>\n",
       "      <td>0</td>\n",
       "      <td>2</td>\n",
       "    </tr>\n",
       "    <tr>\n",
       "      <th>3</th>\n",
       "      <td>2013-11-08</td>\n",
       "      <td>0</td>\n",
       "      <td>1</td>\n",
       "    </tr>\n",
       "    <tr>\n",
       "      <th>4</th>\n",
       "      <td>2013-11-09</td>\n",
       "      <td>0</td>\n",
       "      <td>1</td>\n",
       "    </tr>\n",
       "  </tbody>\n",
       "</table>\n",
       "</div>"
      ],
      "text/plain": [
       "         Date  0  1\n",
       "0  2013-09-05  1  0\n",
       "1  2013-10-18  0  1\n",
       "2  2013-11-07  0  2\n",
       "3  2013-11-08  0  1\n",
       "4  2013-11-09  0  1"
      ]
     },
     "execution_count": 10,
     "metadata": {},
     "output_type": "execute_result"
    }
   ],
   "source": [
    "# Zabbeting date column\n",
    "df['DATE'] = pd.to_datetime(df['DATE'], errors='coerce')\n",
    "df['Date'] = df['DATE'].dt.date  \n",
    "\n",
    "\n",
    "class_over_time = df.groupby(['Date', 'CLASS']).size().unstack(fill_value=0)\n",
    "class_over_time = class_over_time.reset_index()\n",
    "\n",
    "class_over_time.columns = ['Date', '0', '1']\n",
    "\n",
    "class_over_time.head()\n"
   ]
  },
  {
   "cell_type": "code",
   "execution_count": 11,
   "metadata": {},
   "outputs": [
    {
     "data": {
      "application/vnd.plotly.v1+json": {
       "config": {
        "plotlyServerURL": "https://plot.ly"
       },
       "data": [
        {
         "hovertemplate": "Class=0<br>Date=%{x}<br>Count=%{y}<extra></extra>",
         "legendgroup": "0",
         "line": {
          "color": "#636efa",
          "dash": "solid"
         },
         "marker": {
          "symbol": "circle"
         },
         "mode": "lines",
         "name": "0",
         "orientation": "v",
         "showlegend": true,
         "type": "scatter",
         "x": [
          "2013-09-05",
          "2013-10-18",
          "2013-11-07",
          "2013-11-08",
          "2013-11-09",
          "2013-11-10",
          "2013-11-26",
          "2013-11-27",
          "2013-11-28",
          "2013-11-29",
          "2013-12-01",
          "2013-12-23",
          "2013-12-25",
          "2013-12-27",
          "2014-01-19",
          "2014-01-20",
          "2014-01-21",
          "2014-01-25",
          "2014-01-27",
          "2014-07-22",
          "2014-07-27",
          "2014-08-01",
          "2014-08-02",
          "2014-08-03",
          "2014-08-06",
          "2014-08-07",
          "2014-08-09",
          "2014-08-11",
          "2014-08-12",
          "2014-08-13",
          "2014-08-15",
          "2014-08-16",
          "2014-08-18",
          "2014-08-19",
          "2014-08-20",
          "2014-08-21",
          "2014-08-22",
          "2014-08-23",
          "2014-08-24",
          "2014-08-25",
          "2014-08-26",
          "2014-08-27",
          "2014-08-28",
          "2014-08-29",
          "2014-08-30",
          "2014-08-31",
          "2014-09-01",
          "2014-09-02",
          "2014-09-03",
          "2014-09-04",
          "2014-09-06",
          "2014-09-07",
          "2014-09-08",
          "2014-09-09",
          "2014-09-10",
          "2014-09-11",
          "2014-09-12",
          "2014-09-13",
          "2014-09-14",
          "2014-09-15",
          "2014-09-16",
          "2014-09-17",
          "2014-09-18",
          "2014-09-19",
          "2014-09-20",
          "2014-09-21",
          "2014-09-22",
          "2014-09-23",
          "2014-09-24",
          "2014-09-25",
          "2014-09-27",
          "2014-09-28",
          "2014-09-29",
          "2014-09-30",
          "2014-10-01",
          "2014-10-02",
          "2014-10-03",
          "2014-10-05",
          "2014-10-06",
          "2014-10-07",
          "2014-10-08",
          "2014-10-09",
          "2014-10-10",
          "2014-10-11",
          "2014-10-12",
          "2014-10-13",
          "2014-10-14",
          "2014-10-15",
          "2014-10-16",
          "2014-10-17",
          "2014-10-18",
          "2014-10-19",
          "2014-10-20",
          "2014-10-21",
          "2014-10-23",
          "2014-10-24",
          "2014-10-25",
          "2014-10-26",
          "2014-10-27",
          "2014-10-28",
          "2014-10-29",
          "2014-10-30",
          "2014-10-31",
          "2014-11-01",
          "2014-11-02",
          "2014-11-03",
          "2014-11-04",
          "2014-11-05",
          "2014-11-06",
          "2014-11-07",
          "2014-11-08",
          "2014-11-09",
          "2014-11-10",
          "2014-11-11",
          "2014-11-12",
          "2014-11-13",
          "2014-11-14",
          "2015-05-23",
          "2015-06-04",
          "2015-06-05"
         ],
         "xaxis": "x",
         "y": [
          1,
          0,
          0,
          0,
          0,
          0,
          0,
          0,
          2,
          1,
          1,
          0,
          0,
          0,
          4,
          6,
          8,
          1,
          1,
          0,
          0,
          0,
          0,
          0,
          0,
          0,
          0,
          0,
          0,
          0,
          0,
          0,
          0,
          0,
          0,
          0,
          0,
          0,
          1,
          1,
          0,
          1,
          0,
          1,
          0,
          2,
          1,
          1,
          0,
          0,
          1,
          5,
          1,
          6,
          3,
          4,
          4,
          4,
          6,
          3,
          9,
          1,
          1,
          2,
          2,
          2,
          5,
          3,
          1,
          1,
          5,
          1,
          0,
          2,
          0,
          0,
          0,
          2,
          1,
          1,
          3,
          1,
          1,
          3,
          2,
          3,
          2,
          1,
          1,
          1,
          2,
          3,
          4,
          7,
          2,
          3,
          3,
          2,
          2,
          2,
          4,
          1,
          1,
          1,
          2,
          5,
          5,
          20,
          17,
          57,
          43,
          2,
          8,
          2,
          9,
          4,
          5,
          0,
          0,
          8
         ],
         "yaxis": "y"
        },
        {
         "hovertemplate": "Class=1<br>Date=%{x}<br>Count=%{y}<extra></extra>",
         "legendgroup": "1",
         "line": {
          "color": "#EF553B",
          "dash": "solid"
         },
         "marker": {
          "symbol": "circle"
         },
         "mode": "lines",
         "name": "1",
         "orientation": "v",
         "showlegend": true,
         "type": "scatter",
         "x": [
          "2013-09-05",
          "2013-10-18",
          "2013-11-07",
          "2013-11-08",
          "2013-11-09",
          "2013-11-10",
          "2013-11-26",
          "2013-11-27",
          "2013-11-28",
          "2013-11-29",
          "2013-12-01",
          "2013-12-23",
          "2013-12-25",
          "2013-12-27",
          "2014-01-19",
          "2014-01-20",
          "2014-01-21",
          "2014-01-25",
          "2014-01-27",
          "2014-07-22",
          "2014-07-27",
          "2014-08-01",
          "2014-08-02",
          "2014-08-03",
          "2014-08-06",
          "2014-08-07",
          "2014-08-09",
          "2014-08-11",
          "2014-08-12",
          "2014-08-13",
          "2014-08-15",
          "2014-08-16",
          "2014-08-18",
          "2014-08-19",
          "2014-08-20",
          "2014-08-21",
          "2014-08-22",
          "2014-08-23",
          "2014-08-24",
          "2014-08-25",
          "2014-08-26",
          "2014-08-27",
          "2014-08-28",
          "2014-08-29",
          "2014-08-30",
          "2014-08-31",
          "2014-09-01",
          "2014-09-02",
          "2014-09-03",
          "2014-09-04",
          "2014-09-06",
          "2014-09-07",
          "2014-09-08",
          "2014-09-09",
          "2014-09-10",
          "2014-09-11",
          "2014-09-12",
          "2014-09-13",
          "2014-09-14",
          "2014-09-15",
          "2014-09-16",
          "2014-09-17",
          "2014-09-18",
          "2014-09-19",
          "2014-09-20",
          "2014-09-21",
          "2014-09-22",
          "2014-09-23",
          "2014-09-24",
          "2014-09-25",
          "2014-09-27",
          "2014-09-28",
          "2014-09-29",
          "2014-09-30",
          "2014-10-01",
          "2014-10-02",
          "2014-10-03",
          "2014-10-05",
          "2014-10-06",
          "2014-10-07",
          "2014-10-08",
          "2014-10-09",
          "2014-10-10",
          "2014-10-11",
          "2014-10-12",
          "2014-10-13",
          "2014-10-14",
          "2014-10-15",
          "2014-10-16",
          "2014-10-17",
          "2014-10-18",
          "2014-10-19",
          "2014-10-20",
          "2014-10-21",
          "2014-10-23",
          "2014-10-24",
          "2014-10-25",
          "2014-10-26",
          "2014-10-27",
          "2014-10-28",
          "2014-10-29",
          "2014-10-30",
          "2014-10-31",
          "2014-11-01",
          "2014-11-02",
          "2014-11-03",
          "2014-11-04",
          "2014-11-05",
          "2014-11-06",
          "2014-11-07",
          "2014-11-08",
          "2014-11-09",
          "2014-11-10",
          "2014-11-11",
          "2014-11-12",
          "2014-11-13",
          "2014-11-14",
          "2015-05-23",
          "2015-06-04",
          "2015-06-05"
         ],
         "xaxis": "x",
         "y": [
          0,
          1,
          2,
          1,
          1,
          1,
          1,
          1,
          10,
          1,
          2,
          1,
          1,
          1,
          9,
          15,
          0,
          0,
          0,
          1,
          2,
          2,
          1,
          1,
          1,
          2,
          2,
          4,
          2,
          1,
          1,
          2,
          2,
          2,
          3,
          2,
          1,
          2,
          1,
          0,
          1,
          1,
          1,
          1,
          3,
          0,
          0,
          1,
          3,
          1,
          1,
          5,
          0,
          4,
          5,
          1,
          4,
          1,
          0,
          2,
          3,
          1,
          2,
          3,
          5,
          0,
          3,
          1,
          1,
          4,
          1,
          0,
          2,
          0,
          1,
          2,
          2,
          1,
          1,
          0,
          1,
          3,
          1,
          0,
          2,
          4,
          0,
          2,
          1,
          3,
          3,
          2,
          0,
          1,
          0,
          3,
          3,
          1,
          1,
          2,
          3,
          3,
          2,
          1,
          14,
          8,
          15,
          16,
          27,
          17,
          24,
          4,
          4,
          1,
          9,
          7,
          2,
          1,
          3,
          6
         ],
         "yaxis": "y"
        }
       ],
       "layout": {
        "legend": {
         "title": {
          "text": "Class"
         },
         "tracegroupgap": 0
        },
        "template": {
         "data": {
          "bar": [
           {
            "error_x": {
             "color": "#2a3f5f"
            },
            "error_y": {
             "color": "#2a3f5f"
            },
            "marker": {
             "line": {
              "color": "#E5ECF6",
              "width": 0.5
             },
             "pattern": {
              "fillmode": "overlay",
              "size": 10,
              "solidity": 0.2
             }
            },
            "type": "bar"
           }
          ],
          "barpolar": [
           {
            "marker": {
             "line": {
              "color": "#E5ECF6",
              "width": 0.5
             },
             "pattern": {
              "fillmode": "overlay",
              "size": 10,
              "solidity": 0.2
             }
            },
            "type": "barpolar"
           }
          ],
          "carpet": [
           {
            "aaxis": {
             "endlinecolor": "#2a3f5f",
             "gridcolor": "white",
             "linecolor": "white",
             "minorgridcolor": "white",
             "startlinecolor": "#2a3f5f"
            },
            "baxis": {
             "endlinecolor": "#2a3f5f",
             "gridcolor": "white",
             "linecolor": "white",
             "minorgridcolor": "white",
             "startlinecolor": "#2a3f5f"
            },
            "type": "carpet"
           }
          ],
          "choropleth": [
           {
            "colorbar": {
             "outlinewidth": 0,
             "ticks": ""
            },
            "type": "choropleth"
           }
          ],
          "contour": [
           {
            "colorbar": {
             "outlinewidth": 0,
             "ticks": ""
            },
            "colorscale": [
             [
              0,
              "#0d0887"
             ],
             [
              0.1111111111111111,
              "#46039f"
             ],
             [
              0.2222222222222222,
              "#7201a8"
             ],
             [
              0.3333333333333333,
              "#9c179e"
             ],
             [
              0.4444444444444444,
              "#bd3786"
             ],
             [
              0.5555555555555556,
              "#d8576b"
             ],
             [
              0.6666666666666666,
              "#ed7953"
             ],
             [
              0.7777777777777778,
              "#fb9f3a"
             ],
             [
              0.8888888888888888,
              "#fdca26"
             ],
             [
              1,
              "#f0f921"
             ]
            ],
            "type": "contour"
           }
          ],
          "contourcarpet": [
           {
            "colorbar": {
             "outlinewidth": 0,
             "ticks": ""
            },
            "type": "contourcarpet"
           }
          ],
          "heatmap": [
           {
            "colorbar": {
             "outlinewidth": 0,
             "ticks": ""
            },
            "colorscale": [
             [
              0,
              "#0d0887"
             ],
             [
              0.1111111111111111,
              "#46039f"
             ],
             [
              0.2222222222222222,
              "#7201a8"
             ],
             [
              0.3333333333333333,
              "#9c179e"
             ],
             [
              0.4444444444444444,
              "#bd3786"
             ],
             [
              0.5555555555555556,
              "#d8576b"
             ],
             [
              0.6666666666666666,
              "#ed7953"
             ],
             [
              0.7777777777777778,
              "#fb9f3a"
             ],
             [
              0.8888888888888888,
              "#fdca26"
             ],
             [
              1,
              "#f0f921"
             ]
            ],
            "type": "heatmap"
           }
          ],
          "heatmapgl": [
           {
            "colorbar": {
             "outlinewidth": 0,
             "ticks": ""
            },
            "colorscale": [
             [
              0,
              "#0d0887"
             ],
             [
              0.1111111111111111,
              "#46039f"
             ],
             [
              0.2222222222222222,
              "#7201a8"
             ],
             [
              0.3333333333333333,
              "#9c179e"
             ],
             [
              0.4444444444444444,
              "#bd3786"
             ],
             [
              0.5555555555555556,
              "#d8576b"
             ],
             [
              0.6666666666666666,
              "#ed7953"
             ],
             [
              0.7777777777777778,
              "#fb9f3a"
             ],
             [
              0.8888888888888888,
              "#fdca26"
             ],
             [
              1,
              "#f0f921"
             ]
            ],
            "type": "heatmapgl"
           }
          ],
          "histogram": [
           {
            "marker": {
             "pattern": {
              "fillmode": "overlay",
              "size": 10,
              "solidity": 0.2
             }
            },
            "type": "histogram"
           }
          ],
          "histogram2d": [
           {
            "colorbar": {
             "outlinewidth": 0,
             "ticks": ""
            },
            "colorscale": [
             [
              0,
              "#0d0887"
             ],
             [
              0.1111111111111111,
              "#46039f"
             ],
             [
              0.2222222222222222,
              "#7201a8"
             ],
             [
              0.3333333333333333,
              "#9c179e"
             ],
             [
              0.4444444444444444,
              "#bd3786"
             ],
             [
              0.5555555555555556,
              "#d8576b"
             ],
             [
              0.6666666666666666,
              "#ed7953"
             ],
             [
              0.7777777777777778,
              "#fb9f3a"
             ],
             [
              0.8888888888888888,
              "#fdca26"
             ],
             [
              1,
              "#f0f921"
             ]
            ],
            "type": "histogram2d"
           }
          ],
          "histogram2dcontour": [
           {
            "colorbar": {
             "outlinewidth": 0,
             "ticks": ""
            },
            "colorscale": [
             [
              0,
              "#0d0887"
             ],
             [
              0.1111111111111111,
              "#46039f"
             ],
             [
              0.2222222222222222,
              "#7201a8"
             ],
             [
              0.3333333333333333,
              "#9c179e"
             ],
             [
              0.4444444444444444,
              "#bd3786"
             ],
             [
              0.5555555555555556,
              "#d8576b"
             ],
             [
              0.6666666666666666,
              "#ed7953"
             ],
             [
              0.7777777777777778,
              "#fb9f3a"
             ],
             [
              0.8888888888888888,
              "#fdca26"
             ],
             [
              1,
              "#f0f921"
             ]
            ],
            "type": "histogram2dcontour"
           }
          ],
          "mesh3d": [
           {
            "colorbar": {
             "outlinewidth": 0,
             "ticks": ""
            },
            "type": "mesh3d"
           }
          ],
          "parcoords": [
           {
            "line": {
             "colorbar": {
              "outlinewidth": 0,
              "ticks": ""
             }
            },
            "type": "parcoords"
           }
          ],
          "pie": [
           {
            "automargin": true,
            "type": "pie"
           }
          ],
          "scatter": [
           {
            "fillpattern": {
             "fillmode": "overlay",
             "size": 10,
             "solidity": 0.2
            },
            "type": "scatter"
           }
          ],
          "scatter3d": [
           {
            "line": {
             "colorbar": {
              "outlinewidth": 0,
              "ticks": ""
             }
            },
            "marker": {
             "colorbar": {
              "outlinewidth": 0,
              "ticks": ""
             }
            },
            "type": "scatter3d"
           }
          ],
          "scattercarpet": [
           {
            "marker": {
             "colorbar": {
              "outlinewidth": 0,
              "ticks": ""
             }
            },
            "type": "scattercarpet"
           }
          ],
          "scattergeo": [
           {
            "marker": {
             "colorbar": {
              "outlinewidth": 0,
              "ticks": ""
             }
            },
            "type": "scattergeo"
           }
          ],
          "scattergl": [
           {
            "marker": {
             "colorbar": {
              "outlinewidth": 0,
              "ticks": ""
             }
            },
            "type": "scattergl"
           }
          ],
          "scattermapbox": [
           {
            "marker": {
             "colorbar": {
              "outlinewidth": 0,
              "ticks": ""
             }
            },
            "type": "scattermapbox"
           }
          ],
          "scatterpolar": [
           {
            "marker": {
             "colorbar": {
              "outlinewidth": 0,
              "ticks": ""
             }
            },
            "type": "scatterpolar"
           }
          ],
          "scatterpolargl": [
           {
            "marker": {
             "colorbar": {
              "outlinewidth": 0,
              "ticks": ""
             }
            },
            "type": "scatterpolargl"
           }
          ],
          "scatterternary": [
           {
            "marker": {
             "colorbar": {
              "outlinewidth": 0,
              "ticks": ""
             }
            },
            "type": "scatterternary"
           }
          ],
          "surface": [
           {
            "colorbar": {
             "outlinewidth": 0,
             "ticks": ""
            },
            "colorscale": [
             [
              0,
              "#0d0887"
             ],
             [
              0.1111111111111111,
              "#46039f"
             ],
             [
              0.2222222222222222,
              "#7201a8"
             ],
             [
              0.3333333333333333,
              "#9c179e"
             ],
             [
              0.4444444444444444,
              "#bd3786"
             ],
             [
              0.5555555555555556,
              "#d8576b"
             ],
             [
              0.6666666666666666,
              "#ed7953"
             ],
             [
              0.7777777777777778,
              "#fb9f3a"
             ],
             [
              0.8888888888888888,
              "#fdca26"
             ],
             [
              1,
              "#f0f921"
             ]
            ],
            "type": "surface"
           }
          ],
          "table": [
           {
            "cells": {
             "fill": {
              "color": "#EBF0F8"
             },
             "line": {
              "color": "white"
             }
            },
            "header": {
             "fill": {
              "color": "#C8D4E3"
             },
             "line": {
              "color": "white"
             }
            },
            "type": "table"
           }
          ]
         },
         "layout": {
          "annotationdefaults": {
           "arrowcolor": "#2a3f5f",
           "arrowhead": 0,
           "arrowwidth": 1
          },
          "autotypenumbers": "strict",
          "coloraxis": {
           "colorbar": {
            "outlinewidth": 0,
            "ticks": ""
           }
          },
          "colorscale": {
           "diverging": [
            [
             0,
             "#8e0152"
            ],
            [
             0.1,
             "#c51b7d"
            ],
            [
             0.2,
             "#de77ae"
            ],
            [
             0.3,
             "#f1b6da"
            ],
            [
             0.4,
             "#fde0ef"
            ],
            [
             0.5,
             "#f7f7f7"
            ],
            [
             0.6,
             "#e6f5d0"
            ],
            [
             0.7,
             "#b8e186"
            ],
            [
             0.8,
             "#7fbc41"
            ],
            [
             0.9,
             "#4d9221"
            ],
            [
             1,
             "#276419"
            ]
           ],
           "sequential": [
            [
             0,
             "#0d0887"
            ],
            [
             0.1111111111111111,
             "#46039f"
            ],
            [
             0.2222222222222222,
             "#7201a8"
            ],
            [
             0.3333333333333333,
             "#9c179e"
            ],
            [
             0.4444444444444444,
             "#bd3786"
            ],
            [
             0.5555555555555556,
             "#d8576b"
            ],
            [
             0.6666666666666666,
             "#ed7953"
            ],
            [
             0.7777777777777778,
             "#fb9f3a"
            ],
            [
             0.8888888888888888,
             "#fdca26"
            ],
            [
             1,
             "#f0f921"
            ]
           ],
           "sequentialminus": [
            [
             0,
             "#0d0887"
            ],
            [
             0.1111111111111111,
             "#46039f"
            ],
            [
             0.2222222222222222,
             "#7201a8"
            ],
            [
             0.3333333333333333,
             "#9c179e"
            ],
            [
             0.4444444444444444,
             "#bd3786"
            ],
            [
             0.5555555555555556,
             "#d8576b"
            ],
            [
             0.6666666666666666,
             "#ed7953"
            ],
            [
             0.7777777777777778,
             "#fb9f3a"
            ],
            [
             0.8888888888888888,
             "#fdca26"
            ],
            [
             1,
             "#f0f921"
            ]
           ]
          },
          "colorway": [
           "#636efa",
           "#EF553B",
           "#00cc96",
           "#ab63fa",
           "#FFA15A",
           "#19d3f3",
           "#FF6692",
           "#B6E880",
           "#FF97FF",
           "#FECB52"
          ],
          "font": {
           "color": "#2a3f5f"
          },
          "geo": {
           "bgcolor": "white",
           "lakecolor": "white",
           "landcolor": "#E5ECF6",
           "showlakes": true,
           "showland": true,
           "subunitcolor": "white"
          },
          "hoverlabel": {
           "align": "left"
          },
          "hovermode": "closest",
          "mapbox": {
           "style": "light"
          },
          "paper_bgcolor": "white",
          "plot_bgcolor": "#E5ECF6",
          "polar": {
           "angularaxis": {
            "gridcolor": "white",
            "linecolor": "white",
            "ticks": ""
           },
           "bgcolor": "#E5ECF6",
           "radialaxis": {
            "gridcolor": "white",
            "linecolor": "white",
            "ticks": ""
           }
          },
          "scene": {
           "xaxis": {
            "backgroundcolor": "#E5ECF6",
            "gridcolor": "white",
            "gridwidth": 2,
            "linecolor": "white",
            "showbackground": true,
            "ticks": "",
            "zerolinecolor": "white"
           },
           "yaxis": {
            "backgroundcolor": "#E5ECF6",
            "gridcolor": "white",
            "gridwidth": 2,
            "linecolor": "white",
            "showbackground": true,
            "ticks": "",
            "zerolinecolor": "white"
           },
           "zaxis": {
            "backgroundcolor": "#E5ECF6",
            "gridcolor": "white",
            "gridwidth": 2,
            "linecolor": "white",
            "showbackground": true,
            "ticks": "",
            "zerolinecolor": "white"
           }
          },
          "shapedefaults": {
           "line": {
            "color": "#2a3f5f"
           }
          },
          "ternary": {
           "aaxis": {
            "gridcolor": "white",
            "linecolor": "white",
            "ticks": ""
           },
           "baxis": {
            "gridcolor": "white",
            "linecolor": "white",
            "ticks": ""
           },
           "bgcolor": "#E5ECF6",
           "caxis": {
            "gridcolor": "white",
            "linecolor": "white",
            "ticks": ""
           }
          },
          "title": {
           "x": 0.05
          },
          "xaxis": {
           "automargin": true,
           "gridcolor": "white",
           "linecolor": "white",
           "ticks": "",
           "title": {
            "standoff": 15
           },
           "zerolinecolor": "white",
           "zerolinewidth": 2
          },
          "yaxis": {
           "automargin": true,
           "gridcolor": "white",
           "linecolor": "white",
           "ticks": "",
           "title": {
            "standoff": 15
           },
           "zerolinecolor": "white",
           "zerolinewidth": 2
          }
         }
        },
        "title": {
         "text": "Is there a temporal pattern behind spam comments?"
        },
        "xaxis": {
         "anchor": "y",
         "domain": [
          0,
          1
         ],
         "title": {
          "text": "Date"
         }
        },
        "yaxis": {
         "anchor": "x",
         "domain": [
          0,
          1
         ],
         "title": {
          "text": "Count"
         }
        }
       }
      }
     },
     "metadata": {},
     "output_type": "display_data"
    }
   ],
   "source": [
    "class_over_time_plot = px.line(class_over_time, x=\"Date\", y=[\"0\",\"1\"], \n",
    "                               labels = {\"value\":\"Count\", \"variable\":\"Class\", \"0\": \"Not a Spam\", \"1\": \"Spam\"},\n",
    "                               title = \"Is there a temporal pattern behind spam comments?\")\n",
    "\n",
    "class_over_time_plot.show()"
   ]
  },
  {
   "cell_type": "markdown",
   "metadata": {},
   "source": [
    "Nope! The` date of publication` does not appear to be linked to the `comment classification`.\n",
    "\n",
    "\n",
    "The comments gathered seem to be extracted from specific points in time from `November 2013` to `January 2014`, and from` August 2014` to `June 2015`. \n",
    "\n",
    "Despite these distinct periods, there is **no significant trend** in the classification of comments as spam or not **based on their publication date.**"
   ]
  },
  {
   "cell_type": "markdown",
   "metadata": {},
   "source": [
    "#### **B) Times**"
   ]
  },
  {
   "cell_type": "code",
   "execution_count": 12,
   "metadata": {},
   "outputs": [
    {
     "data": {
      "text/html": [
       "<div>\n",
       "<style scoped>\n",
       "    .dataframe tbody tr th:only-of-type {\n",
       "        vertical-align: middle;\n",
       "    }\n",
       "\n",
       "    .dataframe tbody tr th {\n",
       "        vertical-align: top;\n",
       "    }\n",
       "\n",
       "    .dataframe thead th {\n",
       "        text-align: right;\n",
       "    }\n",
       "</style>\n",
       "<table border=\"1\" class=\"dataframe\">\n",
       "  <thead>\n",
       "    <tr style=\"text-align: right;\">\n",
       "      <th></th>\n",
       "      <th>Time</th>\n",
       "      <th>0</th>\n",
       "      <th>1</th>\n",
       "    </tr>\n",
       "  </thead>\n",
       "  <tbody>\n",
       "    <tr>\n",
       "      <th>0</th>\n",
       "      <td>0.0</td>\n",
       "      <td>9</td>\n",
       "      <td>12</td>\n",
       "    </tr>\n",
       "    <tr>\n",
       "      <th>1</th>\n",
       "      <td>1.0</td>\n",
       "      <td>12</td>\n",
       "      <td>12</td>\n",
       "    </tr>\n",
       "    <tr>\n",
       "      <th>2</th>\n",
       "      <td>2.0</td>\n",
       "      <td>17</td>\n",
       "      <td>16</td>\n",
       "    </tr>\n",
       "    <tr>\n",
       "      <th>3</th>\n",
       "      <td>3.0</td>\n",
       "      <td>13</td>\n",
       "      <td>18</td>\n",
       "    </tr>\n",
       "    <tr>\n",
       "      <th>4</th>\n",
       "      <td>4.0</td>\n",
       "      <td>12</td>\n",
       "      <td>7</td>\n",
       "    </tr>\n",
       "  </tbody>\n",
       "</table>\n",
       "</div>"
      ],
      "text/plain": [
       "   Time   0   1\n",
       "0   0.0   9  12\n",
       "1   1.0  12  12\n",
       "2   2.0  17  16\n",
       "3   3.0  13  18\n",
       "4   4.0  12   7"
      ]
     },
     "execution_count": 12,
     "metadata": {},
     "output_type": "execute_result"
    }
   ],
   "source": [
    "# Same for Times\n",
    "df['Time'] = df['DATE'].dt.hour  \n",
    "\n",
    "\n",
    "class_over_hours = df.groupby(['Time', 'CLASS']).size().unstack(fill_value=0)\n",
    "\n",
    "class_over_hours = class_over_hours.reset_index()\n",
    "\n",
    "class_over_hours.columns = ['Time', '0', '1']\n",
    "\n",
    "class_over_hours.head()\n"
   ]
  },
  {
   "cell_type": "code",
   "execution_count": 13,
   "metadata": {},
   "outputs": [
    {
     "data": {
      "text/plain": [
       "Index(['Time', '0', '1'], dtype='object')"
      ]
     },
     "execution_count": 13,
     "metadata": {},
     "output_type": "execute_result"
    }
   ],
   "source": [
    "class_over_hours.columns"
   ]
  },
  {
   "cell_type": "code",
   "execution_count": 14,
   "metadata": {},
   "outputs": [
    {
     "data": {
      "application/vnd.plotly.v1+json": {
       "config": {
        "plotlyServerURL": "https://plot.ly"
       },
       "data": [
        {
         "hovertemplate": "Class=0<br>Time=%{x}<br>Count=%{y}<extra></extra>",
         "legendgroup": "0",
         "line": {
          "color": "#636efa",
          "dash": "solid"
         },
         "marker": {
          "symbol": "circle"
         },
         "mode": "lines",
         "name": "Not a Spam",
         "orientation": "v",
         "showlegend": true,
         "type": "scatter",
         "x": [
          0,
          1,
          2,
          3,
          4,
          5,
          6,
          7,
          8,
          9,
          10,
          11,
          12,
          13,
          14,
          15,
          16,
          17,
          18,
          19,
          20,
          21,
          22,
          23
         ],
         "xaxis": "x",
         "y": [
          9,
          12,
          17,
          13,
          12,
          13,
          9,
          15,
          6,
          15,
          11,
          8,
          13,
          19,
          9,
          27,
          12,
          23,
          28,
          20,
          20,
          10,
          18,
          12
         ],
         "yaxis": "y"
        },
        {
         "hovertemplate": "Class=1<br>Time=%{x}<br>Count=%{y}<extra></extra>",
         "legendgroup": "1",
         "line": {
          "color": "#EF553B",
          "dash": "solid"
         },
         "marker": {
          "symbol": "circle"
         },
         "mode": "lines",
         "name": "Spam",
         "orientation": "v",
         "showlegend": true,
         "type": "scatter",
         "x": [
          0,
          1,
          2,
          3,
          4,
          5,
          6,
          7,
          8,
          9,
          10,
          11,
          12,
          13,
          14,
          15,
          16,
          17,
          18,
          19,
          20,
          21,
          22,
          23
         ],
         "xaxis": "x",
         "y": [
          12,
          12,
          16,
          18,
          7,
          9,
          7,
          5,
          6,
          13,
          10,
          11,
          14,
          14,
          14,
          23,
          15,
          25,
          15,
          26,
          20,
          22,
          19,
          18
         ],
         "yaxis": "y"
        }
       ],
       "layout": {
        "legend": {
         "title": {
          "text": "Class"
         },
         "tracegroupgap": 0
        },
        "template": {
         "data": {
          "bar": [
           {
            "error_x": {
             "color": "#2a3f5f"
            },
            "error_y": {
             "color": "#2a3f5f"
            },
            "marker": {
             "line": {
              "color": "#E5ECF6",
              "width": 0.5
             },
             "pattern": {
              "fillmode": "overlay",
              "size": 10,
              "solidity": 0.2
             }
            },
            "type": "bar"
           }
          ],
          "barpolar": [
           {
            "marker": {
             "line": {
              "color": "#E5ECF6",
              "width": 0.5
             },
             "pattern": {
              "fillmode": "overlay",
              "size": 10,
              "solidity": 0.2
             }
            },
            "type": "barpolar"
           }
          ],
          "carpet": [
           {
            "aaxis": {
             "endlinecolor": "#2a3f5f",
             "gridcolor": "white",
             "linecolor": "white",
             "minorgridcolor": "white",
             "startlinecolor": "#2a3f5f"
            },
            "baxis": {
             "endlinecolor": "#2a3f5f",
             "gridcolor": "white",
             "linecolor": "white",
             "minorgridcolor": "white",
             "startlinecolor": "#2a3f5f"
            },
            "type": "carpet"
           }
          ],
          "choropleth": [
           {
            "colorbar": {
             "outlinewidth": 0,
             "ticks": ""
            },
            "type": "choropleth"
           }
          ],
          "contour": [
           {
            "colorbar": {
             "outlinewidth": 0,
             "ticks": ""
            },
            "colorscale": [
             [
              0,
              "#0d0887"
             ],
             [
              0.1111111111111111,
              "#46039f"
             ],
             [
              0.2222222222222222,
              "#7201a8"
             ],
             [
              0.3333333333333333,
              "#9c179e"
             ],
             [
              0.4444444444444444,
              "#bd3786"
             ],
             [
              0.5555555555555556,
              "#d8576b"
             ],
             [
              0.6666666666666666,
              "#ed7953"
             ],
             [
              0.7777777777777778,
              "#fb9f3a"
             ],
             [
              0.8888888888888888,
              "#fdca26"
             ],
             [
              1,
              "#f0f921"
             ]
            ],
            "type": "contour"
           }
          ],
          "contourcarpet": [
           {
            "colorbar": {
             "outlinewidth": 0,
             "ticks": ""
            },
            "type": "contourcarpet"
           }
          ],
          "heatmap": [
           {
            "colorbar": {
             "outlinewidth": 0,
             "ticks": ""
            },
            "colorscale": [
             [
              0,
              "#0d0887"
             ],
             [
              0.1111111111111111,
              "#46039f"
             ],
             [
              0.2222222222222222,
              "#7201a8"
             ],
             [
              0.3333333333333333,
              "#9c179e"
             ],
             [
              0.4444444444444444,
              "#bd3786"
             ],
             [
              0.5555555555555556,
              "#d8576b"
             ],
             [
              0.6666666666666666,
              "#ed7953"
             ],
             [
              0.7777777777777778,
              "#fb9f3a"
             ],
             [
              0.8888888888888888,
              "#fdca26"
             ],
             [
              1,
              "#f0f921"
             ]
            ],
            "type": "heatmap"
           }
          ],
          "heatmapgl": [
           {
            "colorbar": {
             "outlinewidth": 0,
             "ticks": ""
            },
            "colorscale": [
             [
              0,
              "#0d0887"
             ],
             [
              0.1111111111111111,
              "#46039f"
             ],
             [
              0.2222222222222222,
              "#7201a8"
             ],
             [
              0.3333333333333333,
              "#9c179e"
             ],
             [
              0.4444444444444444,
              "#bd3786"
             ],
             [
              0.5555555555555556,
              "#d8576b"
             ],
             [
              0.6666666666666666,
              "#ed7953"
             ],
             [
              0.7777777777777778,
              "#fb9f3a"
             ],
             [
              0.8888888888888888,
              "#fdca26"
             ],
             [
              1,
              "#f0f921"
             ]
            ],
            "type": "heatmapgl"
           }
          ],
          "histogram": [
           {
            "marker": {
             "pattern": {
              "fillmode": "overlay",
              "size": 10,
              "solidity": 0.2
             }
            },
            "type": "histogram"
           }
          ],
          "histogram2d": [
           {
            "colorbar": {
             "outlinewidth": 0,
             "ticks": ""
            },
            "colorscale": [
             [
              0,
              "#0d0887"
             ],
             [
              0.1111111111111111,
              "#46039f"
             ],
             [
              0.2222222222222222,
              "#7201a8"
             ],
             [
              0.3333333333333333,
              "#9c179e"
             ],
             [
              0.4444444444444444,
              "#bd3786"
             ],
             [
              0.5555555555555556,
              "#d8576b"
             ],
             [
              0.6666666666666666,
              "#ed7953"
             ],
             [
              0.7777777777777778,
              "#fb9f3a"
             ],
             [
              0.8888888888888888,
              "#fdca26"
             ],
             [
              1,
              "#f0f921"
             ]
            ],
            "type": "histogram2d"
           }
          ],
          "histogram2dcontour": [
           {
            "colorbar": {
             "outlinewidth": 0,
             "ticks": ""
            },
            "colorscale": [
             [
              0,
              "#0d0887"
             ],
             [
              0.1111111111111111,
              "#46039f"
             ],
             [
              0.2222222222222222,
              "#7201a8"
             ],
             [
              0.3333333333333333,
              "#9c179e"
             ],
             [
              0.4444444444444444,
              "#bd3786"
             ],
             [
              0.5555555555555556,
              "#d8576b"
             ],
             [
              0.6666666666666666,
              "#ed7953"
             ],
             [
              0.7777777777777778,
              "#fb9f3a"
             ],
             [
              0.8888888888888888,
              "#fdca26"
             ],
             [
              1,
              "#f0f921"
             ]
            ],
            "type": "histogram2dcontour"
           }
          ],
          "mesh3d": [
           {
            "colorbar": {
             "outlinewidth": 0,
             "ticks": ""
            },
            "type": "mesh3d"
           }
          ],
          "parcoords": [
           {
            "line": {
             "colorbar": {
              "outlinewidth": 0,
              "ticks": ""
             }
            },
            "type": "parcoords"
           }
          ],
          "pie": [
           {
            "automargin": true,
            "type": "pie"
           }
          ],
          "scatter": [
           {
            "fillpattern": {
             "fillmode": "overlay",
             "size": 10,
             "solidity": 0.2
            },
            "type": "scatter"
           }
          ],
          "scatter3d": [
           {
            "line": {
             "colorbar": {
              "outlinewidth": 0,
              "ticks": ""
             }
            },
            "marker": {
             "colorbar": {
              "outlinewidth": 0,
              "ticks": ""
             }
            },
            "type": "scatter3d"
           }
          ],
          "scattercarpet": [
           {
            "marker": {
             "colorbar": {
              "outlinewidth": 0,
              "ticks": ""
             }
            },
            "type": "scattercarpet"
           }
          ],
          "scattergeo": [
           {
            "marker": {
             "colorbar": {
              "outlinewidth": 0,
              "ticks": ""
             }
            },
            "type": "scattergeo"
           }
          ],
          "scattergl": [
           {
            "marker": {
             "colorbar": {
              "outlinewidth": 0,
              "ticks": ""
             }
            },
            "type": "scattergl"
           }
          ],
          "scattermapbox": [
           {
            "marker": {
             "colorbar": {
              "outlinewidth": 0,
              "ticks": ""
             }
            },
            "type": "scattermapbox"
           }
          ],
          "scatterpolar": [
           {
            "marker": {
             "colorbar": {
              "outlinewidth": 0,
              "ticks": ""
             }
            },
            "type": "scatterpolar"
           }
          ],
          "scatterpolargl": [
           {
            "marker": {
             "colorbar": {
              "outlinewidth": 0,
              "ticks": ""
             }
            },
            "type": "scatterpolargl"
           }
          ],
          "scatterternary": [
           {
            "marker": {
             "colorbar": {
              "outlinewidth": 0,
              "ticks": ""
             }
            },
            "type": "scatterternary"
           }
          ],
          "surface": [
           {
            "colorbar": {
             "outlinewidth": 0,
             "ticks": ""
            },
            "colorscale": [
             [
              0,
              "#0d0887"
             ],
             [
              0.1111111111111111,
              "#46039f"
             ],
             [
              0.2222222222222222,
              "#7201a8"
             ],
             [
              0.3333333333333333,
              "#9c179e"
             ],
             [
              0.4444444444444444,
              "#bd3786"
             ],
             [
              0.5555555555555556,
              "#d8576b"
             ],
             [
              0.6666666666666666,
              "#ed7953"
             ],
             [
              0.7777777777777778,
              "#fb9f3a"
             ],
             [
              0.8888888888888888,
              "#fdca26"
             ],
             [
              1,
              "#f0f921"
             ]
            ],
            "type": "surface"
           }
          ],
          "table": [
           {
            "cells": {
             "fill": {
              "color": "#EBF0F8"
             },
             "line": {
              "color": "white"
             }
            },
            "header": {
             "fill": {
              "color": "#C8D4E3"
             },
             "line": {
              "color": "white"
             }
            },
            "type": "table"
           }
          ]
         },
         "layout": {
          "annotationdefaults": {
           "arrowcolor": "#2a3f5f",
           "arrowhead": 0,
           "arrowwidth": 1
          },
          "autotypenumbers": "strict",
          "coloraxis": {
           "colorbar": {
            "outlinewidth": 0,
            "ticks": ""
           }
          },
          "colorscale": {
           "diverging": [
            [
             0,
             "#8e0152"
            ],
            [
             0.1,
             "#c51b7d"
            ],
            [
             0.2,
             "#de77ae"
            ],
            [
             0.3,
             "#f1b6da"
            ],
            [
             0.4,
             "#fde0ef"
            ],
            [
             0.5,
             "#f7f7f7"
            ],
            [
             0.6,
             "#e6f5d0"
            ],
            [
             0.7,
             "#b8e186"
            ],
            [
             0.8,
             "#7fbc41"
            ],
            [
             0.9,
             "#4d9221"
            ],
            [
             1,
             "#276419"
            ]
           ],
           "sequential": [
            [
             0,
             "#0d0887"
            ],
            [
             0.1111111111111111,
             "#46039f"
            ],
            [
             0.2222222222222222,
             "#7201a8"
            ],
            [
             0.3333333333333333,
             "#9c179e"
            ],
            [
             0.4444444444444444,
             "#bd3786"
            ],
            [
             0.5555555555555556,
             "#d8576b"
            ],
            [
             0.6666666666666666,
             "#ed7953"
            ],
            [
             0.7777777777777778,
             "#fb9f3a"
            ],
            [
             0.8888888888888888,
             "#fdca26"
            ],
            [
             1,
             "#f0f921"
            ]
           ],
           "sequentialminus": [
            [
             0,
             "#0d0887"
            ],
            [
             0.1111111111111111,
             "#46039f"
            ],
            [
             0.2222222222222222,
             "#7201a8"
            ],
            [
             0.3333333333333333,
             "#9c179e"
            ],
            [
             0.4444444444444444,
             "#bd3786"
            ],
            [
             0.5555555555555556,
             "#d8576b"
            ],
            [
             0.6666666666666666,
             "#ed7953"
            ],
            [
             0.7777777777777778,
             "#fb9f3a"
            ],
            [
             0.8888888888888888,
             "#fdca26"
            ],
            [
             1,
             "#f0f921"
            ]
           ]
          },
          "colorway": [
           "#636efa",
           "#EF553B",
           "#00cc96",
           "#ab63fa",
           "#FFA15A",
           "#19d3f3",
           "#FF6692",
           "#B6E880",
           "#FF97FF",
           "#FECB52"
          ],
          "font": {
           "color": "#2a3f5f"
          },
          "geo": {
           "bgcolor": "white",
           "lakecolor": "white",
           "landcolor": "#E5ECF6",
           "showlakes": true,
           "showland": true,
           "subunitcolor": "white"
          },
          "hoverlabel": {
           "align": "left"
          },
          "hovermode": "closest",
          "mapbox": {
           "style": "light"
          },
          "paper_bgcolor": "white",
          "plot_bgcolor": "#E5ECF6",
          "polar": {
           "angularaxis": {
            "gridcolor": "white",
            "linecolor": "white",
            "ticks": ""
           },
           "bgcolor": "#E5ECF6",
           "radialaxis": {
            "gridcolor": "white",
            "linecolor": "white",
            "ticks": ""
           }
          },
          "scene": {
           "xaxis": {
            "backgroundcolor": "#E5ECF6",
            "gridcolor": "white",
            "gridwidth": 2,
            "linecolor": "white",
            "showbackground": true,
            "ticks": "",
            "zerolinecolor": "white"
           },
           "yaxis": {
            "backgroundcolor": "#E5ECF6",
            "gridcolor": "white",
            "gridwidth": 2,
            "linecolor": "white",
            "showbackground": true,
            "ticks": "",
            "zerolinecolor": "white"
           },
           "zaxis": {
            "backgroundcolor": "#E5ECF6",
            "gridcolor": "white",
            "gridwidth": 2,
            "linecolor": "white",
            "showbackground": true,
            "ticks": "",
            "zerolinecolor": "white"
           }
          },
          "shapedefaults": {
           "line": {
            "color": "#2a3f5f"
           }
          },
          "ternary": {
           "aaxis": {
            "gridcolor": "white",
            "linecolor": "white",
            "ticks": ""
           },
           "baxis": {
            "gridcolor": "white",
            "linecolor": "white",
            "ticks": ""
           },
           "bgcolor": "#E5ECF6",
           "caxis": {
            "gridcolor": "white",
            "linecolor": "white",
            "ticks": ""
           }
          },
          "title": {
           "x": 0.05
          },
          "xaxis": {
           "automargin": true,
           "gridcolor": "white",
           "linecolor": "white",
           "ticks": "",
           "title": {
            "standoff": 15
           },
           "zerolinecolor": "white",
           "zerolinewidth": 2
          },
          "yaxis": {
           "automargin": true,
           "gridcolor": "white",
           "linecolor": "white",
           "ticks": "",
           "title": {
            "standoff": 15
           },
           "zerolinecolor": "white",
           "zerolinewidth": 2
          }
         }
        },
        "title": {
         "text": "Is there a temporal pattern behind spam comments?"
        },
        "xaxis": {
         "anchor": "y",
         "domain": [
          0,
          1
         ],
         "title": {
          "text": "Time"
         }
        },
        "yaxis": {
         "anchor": "x",
         "domain": [
          0,
          1
         ],
         "title": {
          "text": "Count"
         }
        }
       }
      }
     },
     "metadata": {},
     "output_type": "display_data"
    }
   ],
   "source": [
    "class_over_hours_plot = px.line(class_over_hours, x=\"Time\", y=[\"0\", \"1\"],\n",
    "                                labels = {\"value\":\"Count\", \"variable\":\"Class\"},\n",
    "                                title = \"Is there a temporal pattern behind spam comments?\")\n",
    "\n",
    "class_over_hours_plot.for_each_trace(lambda t: t.update(name=\"Not a Spam\" if t.name == \"0\" else \"Spam\"))\n",
    "\n",
    "class_over_hours_plot.show()"
   ]
  },
  {
   "cell_type": "markdown",
   "metadata": {},
   "source": [
    "Neither! There is no evident temporal pattern in the classification of comments as `spam` or `not spam`. \n",
    "\n",
    "However, it is noteworthy that there is a **significant increase** in the **total number of comments** posted between 3 PM and 8 PM. \n",
    "\n",
    "This spike in activity could indicate a specific time when users are more engaged"
   ]
  },
  {
   "cell_type": "markdown",
   "metadata": {},
   "source": [
    "Since it's not significant to the classification, let's get rid of the `Date`column"
   ]
  },
  {
   "cell_type": "code",
   "execution_count": 15,
   "metadata": {},
   "outputs": [],
   "source": [
    "df.drop(columns=[\"DATE\", \"Date\", \"Time\"], inplace= True)"
   ]
  },
  {
   "cell_type": "markdown",
   "metadata": {},
   "source": [
    "#### **2. Data Distribution**"
   ]
  },
  {
   "cell_type": "code",
   "execution_count": 16,
   "metadata": {},
   "outputs": [
    {
     "data": {
      "text/plain": [
       "CLASS\n",
       "1    1003\n",
       "0     950\n",
       "Name: count, dtype: int64"
      ]
     },
     "execution_count": 16,
     "metadata": {},
     "output_type": "execute_result"
    }
   ],
   "source": [
    "df[\"CLASS\"].value_counts()"
   ]
  },
  {
   "cell_type": "code",
   "execution_count": 17,
   "metadata": {},
   "outputs": [],
   "source": [
    "names_label_distrib = {0: \"Not a Spam\", 1: \"Spam\"}"
   ]
  },
  {
   "cell_type": "code",
   "execution_count": 18,
   "metadata": {},
   "outputs": [],
   "source": [
    "df[\"LABEL_NAME\"] = df[\"CLASS\"].map(names_label_distrib)"
   ]
  },
  {
   "cell_type": "code",
   "execution_count": 19,
   "metadata": {},
   "outputs": [
    {
     "data": {
      "application/vnd.plotly.v1+json": {
       "config": {
        "plotlyServerURL": "https://plot.ly"
       },
       "data": [
        {
         "domain": {
          "x": [
           0,
           1
          ],
          "y": [
           0,
           1
          ]
         },
         "hovertemplate": "LABEL_NAME=%{label}<extra></extra>",
         "labels": [
          "Spam",
          "Spam",
          "Spam",
          "Spam",
          "Spam",
          "Spam",
          "Spam",
          "Not a Spam",
          "Spam",
          "Spam",
          "Spam",
          "Spam",
          "Spam",
          "Spam",
          "Spam",
          "Spam",
          "Not a Spam",
          "Spam",
          "Spam",
          "Spam",
          "Not a Spam",
          "Spam",
          "Spam",
          "Not a Spam",
          "Spam",
          "Spam",
          "Spam",
          "Spam",
          "Not a Spam",
          "Spam",
          "Spam",
          "Not a Spam",
          "Spam",
          "Spam",
          "Not a Spam",
          "Not a Spam",
          "Spam",
          "Spam",
          "Spam",
          "Spam",
          "Spam",
          "Spam",
          "Spam",
          "Spam",
          "Spam",
          "Spam",
          "Not a Spam",
          "Spam",
          "Not a Spam",
          "Not a Spam",
          "Spam",
          "Not a Spam",
          "Not a Spam",
          "Spam",
          "Spam",
          "Spam",
          "Spam",
          "Spam",
          "Spam",
          "Spam",
          "Not a Spam",
          "Not a Spam",
          "Not a Spam",
          "Not a Spam",
          "Not a Spam",
          "Not a Spam",
          "Not a Spam",
          "Not a Spam",
          "Not a Spam",
          "Not a Spam",
          "Not a Spam",
          "Spam",
          "Spam",
          "Spam",
          "Spam",
          "Spam",
          "Spam",
          "Spam",
          "Spam",
          "Spam",
          "Spam",
          "Not a Spam",
          "Not a Spam",
          "Spam",
          "Spam",
          "Not a Spam",
          "Spam",
          "Not a Spam",
          "Spam",
          "Not a Spam",
          "Spam",
          "Spam",
          "Spam",
          "Spam",
          "Not a Spam",
          "Spam",
          "Spam",
          "Spam",
          "Spam",
          "Spam",
          "Spam",
          "Not a Spam",
          "Spam",
          "Not a Spam",
          "Spam",
          "Spam",
          "Spam",
          "Spam",
          "Not a Spam",
          "Not a Spam",
          "Spam",
          "Spam",
          "Not a Spam",
          "Spam",
          "Spam",
          "Not a Spam",
          "Not a Spam",
          "Not a Spam",
          "Not a Spam",
          "Not a Spam",
          "Not a Spam",
          "Not a Spam",
          "Spam",
          "Not a Spam",
          "Spam",
          "Not a Spam",
          "Not a Spam",
          "Not a Spam",
          "Spam",
          "Spam",
          "Not a Spam",
          "Not a Spam",
          "Not a Spam",
          "Not a Spam",
          "Not a Spam",
          "Not a Spam",
          "Spam",
          "Spam",
          "Spam",
          "Not a Spam",
          "Spam",
          "Spam",
          "Spam",
          "Spam",
          "Spam",
          "Not a Spam",
          "Spam",
          "Spam",
          "Spam",
          "Spam",
          "Not a Spam",
          "Spam",
          "Spam",
          "Spam",
          "Spam",
          "Spam",
          "Spam",
          "Spam",
          "Not a Spam",
          "Not a Spam",
          "Spam",
          "Spam",
          "Spam",
          "Not a Spam",
          "Not a Spam",
          "Not a Spam",
          "Spam",
          "Spam",
          "Spam",
          "Not a Spam",
          "Spam",
          "Spam",
          "Spam",
          "Spam",
          "Spam",
          "Spam",
          "Spam",
          "Spam",
          "Spam",
          "Spam",
          "Not a Spam",
          "Spam",
          "Not a Spam",
          "Not a Spam",
          "Not a Spam",
          "Not a Spam",
          "Not a Spam",
          "Not a Spam",
          "Not a Spam",
          "Spam",
          "Spam",
          "Not a Spam",
          "Spam",
          "Not a Spam",
          "Not a Spam",
          "Not a Spam",
          "Not a Spam",
          "Not a Spam",
          "Not a Spam",
          "Spam",
          "Spam",
          "Not a Spam",
          "Spam",
          "Not a Spam",
          "Not a Spam",
          "Not a Spam",
          "Not a Spam",
          "Not a Spam",
          "Not a Spam",
          "Not a Spam",
          "Spam",
          "Spam",
          "Not a Spam",
          "Not a Spam",
          "Not a Spam",
          "Spam",
          "Not a Spam",
          "Not a Spam",
          "Not a Spam",
          "Not a Spam",
          "Spam",
          "Not a Spam",
          "Not a Spam",
          "Spam",
          "Not a Spam",
          "Not a Spam",
          "Not a Spam",
          "Not a Spam",
          "Not a Spam",
          "Not a Spam",
          "Not a Spam",
          "Spam",
          "Not a Spam",
          "Not a Spam",
          "Not a Spam",
          "Not a Spam",
          "Not a Spam",
          "Not a Spam",
          "Not a Spam",
          "Not a Spam",
          "Not a Spam",
          "Not a Spam",
          "Not a Spam",
          "Not a Spam",
          "Not a Spam",
          "Not a Spam",
          "Not a Spam",
          "Spam",
          "Not a Spam",
          "Not a Spam",
          "Not a Spam",
          "Not a Spam",
          "Not a Spam",
          "Not a Spam",
          "Not a Spam",
          "Not a Spam",
          "Spam",
          "Not a Spam",
          "Not a Spam",
          "Spam",
          "Not a Spam",
          "Spam",
          "Not a Spam",
          "Not a Spam",
          "Not a Spam",
          "Not a Spam",
          "Not a Spam",
          "Not a Spam",
          "Spam",
          "Not a Spam",
          "Not a Spam",
          "Not a Spam",
          "Not a Spam",
          "Spam",
          "Not a Spam",
          "Not a Spam",
          "Not a Spam",
          "Spam",
          "Not a Spam",
          "Not a Spam",
          "Not a Spam",
          "Not a Spam",
          "Not a Spam",
          "Not a Spam",
          "Not a Spam",
          "Not a Spam",
          "Not a Spam",
          "Spam",
          "Spam",
          "Not a Spam",
          "Not a Spam",
          "Not a Spam",
          "Spam",
          "Spam",
          "Spam",
          "Not a Spam",
          "Spam",
          "Spam",
          "Spam",
          "Spam",
          "Spam",
          "Spam",
          "Spam",
          "Spam",
          "Not a Spam",
          "Spam",
          "Not a Spam",
          "Spam",
          "Not a Spam",
          "Spam",
          "Not a Spam",
          "Spam",
          "Not a Spam",
          "Spam",
          "Not a Spam",
          "Spam",
          "Not a Spam",
          "Spam",
          "Spam",
          "Spam",
          "Not a Spam",
          "Not a Spam",
          "Not a Spam",
          "Spam",
          "Not a Spam",
          "Spam",
          "Not a Spam",
          "Spam",
          "Not a Spam",
          "Spam",
          "Not a Spam",
          "Spam",
          "Not a Spam",
          "Spam",
          "Not a Spam",
          "Spam",
          "Not a Spam",
          "Spam",
          "Spam",
          "Spam",
          "Spam",
          "Spam",
          "Not a Spam",
          "Not a Spam",
          "Not a Spam",
          "Not a Spam",
          "Not a Spam",
          "Spam",
          "Spam",
          "Not a Spam",
          "Spam",
          "Spam",
          "Spam",
          "Spam",
          "Spam",
          "Spam",
          "Spam",
          "Spam",
          "Spam",
          "Spam",
          "Spam",
          "Spam",
          "Spam",
          "Spam",
          "Spam",
          "Spam",
          "Spam",
          "Spam",
          "Spam",
          "Spam",
          "Spam",
          "Spam",
          "Spam",
          "Spam",
          "Spam",
          "Spam",
          "Spam",
          "Spam",
          "Spam",
          "Spam",
          "Spam",
          "Spam",
          "Spam",
          "Spam",
          "Spam",
          "Not a Spam",
          "Not a Spam",
          "Spam",
          "Spam",
          "Not a Spam",
          "Spam",
          "Spam",
          "Not a Spam",
          "Spam",
          "Spam",
          "Spam",
          "Not a Spam",
          "Not a Spam",
          "Not a Spam",
          "Not a Spam",
          "Spam",
          "Spam",
          "Spam",
          "Spam",
          "Spam",
          "Spam",
          "Not a Spam",
          "Not a Spam",
          "Not a Spam",
          "Spam",
          "Spam",
          "Not a Spam",
          "Not a Spam",
          "Not a Spam",
          "Spam",
          "Spam",
          "Spam",
          "Not a Spam",
          "Not a Spam",
          "Spam",
          "Not a Spam",
          "Spam",
          "Not a Spam",
          "Not a Spam",
          "Spam",
          "Not a Spam",
          "Not a Spam",
          "Spam",
          "Not a Spam",
          "Not a Spam",
          "Spam",
          "Spam",
          "Spam",
          "Spam",
          "Spam",
          "Not a Spam",
          "Not a Spam",
          "Not a Spam",
          "Not a Spam",
          "Spam",
          "Not a Spam",
          "Spam",
          "Spam",
          "Not a Spam",
          "Not a Spam",
          "Spam",
          "Not a Spam",
          "Spam",
          "Not a Spam",
          "Spam",
          "Not a Spam",
          "Not a Spam",
          "Not a Spam",
          "Not a Spam",
          "Not a Spam",
          "Not a Spam",
          "Not a Spam",
          "Not a Spam",
          "Not a Spam",
          "Not a Spam",
          "Spam",
          "Not a Spam",
          "Spam",
          "Not a Spam",
          "Not a Spam",
          "Not a Spam",
          "Spam",
          "Not a Spam",
          "Not a Spam",
          "Not a Spam",
          "Not a Spam",
          "Not a Spam",
          "Spam",
          "Spam",
          "Not a Spam",
          "Not a Spam",
          "Not a Spam",
          "Not a Spam",
          "Spam",
          "Spam",
          "Spam",
          "Not a Spam",
          "Spam",
          "Not a Spam",
          "Not a Spam",
          "Spam",
          "Spam",
          "Spam",
          "Not a Spam",
          "Spam",
          "Spam",
          "Spam",
          "Spam",
          "Not a Spam",
          "Not a Spam",
          "Not a Spam",
          "Not a Spam",
          "Spam",
          "Not a Spam",
          "Not a Spam",
          "Not a Spam",
          "Spam",
          "Not a Spam",
          "Spam",
          "Not a Spam",
          "Not a Spam",
          "Not a Spam",
          "Spam",
          "Not a Spam",
          "Spam",
          "Not a Spam",
          "Spam",
          "Spam",
          "Spam",
          "Spam",
          "Not a Spam",
          "Not a Spam",
          "Not a Spam",
          "Not a Spam",
          "Not a Spam",
          "Spam",
          "Not a Spam",
          "Spam",
          "Spam",
          "Not a Spam",
          "Not a Spam",
          "Spam",
          "Spam",
          "Spam",
          "Spam",
          "Spam",
          "Not a Spam",
          "Spam",
          "Not a Spam",
          "Not a Spam",
          "Spam",
          "Not a Spam",
          "Not a Spam",
          "Not a Spam",
          "Spam",
          "Not a Spam",
          "Spam",
          "Spam",
          "Not a Spam",
          "Spam",
          "Spam",
          "Not a Spam",
          "Not a Spam",
          "Not a Spam",
          "Not a Spam",
          "Spam",
          "Not a Spam",
          "Not a Spam",
          "Spam",
          "Not a Spam",
          "Spam",
          "Spam",
          "Not a Spam",
          "Not a Spam",
          "Spam",
          "Spam",
          "Not a Spam",
          "Not a Spam",
          "Spam",
          "Not a Spam",
          "Spam",
          "Not a Spam",
          "Spam",
          "Not a Spam",
          "Spam",
          "Spam",
          "Spam",
          "Not a Spam",
          "Not a Spam",
          "Spam",
          "Spam",
          "Spam",
          "Not a Spam",
          "Not a Spam",
          "Not a Spam",
          "Spam",
          "Spam",
          "Not a Spam",
          "Not a Spam",
          "Not a Spam",
          "Not a Spam",
          "Not a Spam",
          "Not a Spam",
          "Not a Spam",
          "Spam",
          "Not a Spam",
          "Not a Spam",
          "Not a Spam",
          "Not a Spam",
          "Not a Spam",
          "Not a Spam",
          "Not a Spam",
          "Spam",
          "Spam",
          "Spam",
          "Not a Spam",
          "Not a Spam",
          "Not a Spam",
          "Spam",
          "Spam",
          "Spam",
          "Not a Spam",
          "Not a Spam",
          "Not a Spam",
          "Not a Spam",
          "Spam",
          "Spam",
          "Not a Spam",
          "Not a Spam",
          "Not a Spam",
          "Spam",
          "Not a Spam",
          "Spam",
          "Not a Spam",
          "Not a Spam",
          "Not a Spam",
          "Not a Spam",
          "Spam",
          "Spam",
          "Spam",
          "Not a Spam",
          "Spam",
          "Spam",
          "Spam",
          "Spam",
          "Not a Spam",
          "Spam",
          "Spam",
          "Not a Spam",
          "Spam",
          "Spam",
          "Spam",
          "Not a Spam",
          "Spam",
          "Spam",
          "Spam",
          "Spam",
          "Not a Spam",
          "Not a Spam",
          "Spam",
          "Not a Spam",
          "Not a Spam",
          "Not a Spam",
          "Not a Spam",
          "Not a Spam",
          "Not a Spam",
          "Not a Spam",
          "Spam",
          "Not a Spam",
          "Not a Spam",
          "Not a Spam",
          "Not a Spam",
          "Not a Spam",
          "Spam",
          "Not a Spam",
          "Not a Spam",
          "Not a Spam",
          "Spam",
          "Not a Spam",
          "Not a Spam",
          "Spam",
          "Not a Spam",
          "Spam",
          "Spam",
          "Spam",
          "Spam",
          "Not a Spam",
          "Spam",
          "Spam",
          "Spam",
          "Spam",
          "Spam",
          "Spam",
          "Not a Spam",
          "Not a Spam",
          "Not a Spam",
          "Not a Spam",
          "Not a Spam",
          "Not a Spam",
          "Not a Spam",
          "Spam",
          "Spam",
          "Spam",
          "Spam",
          "Spam",
          "Spam",
          "Spam",
          "Not a Spam",
          "Not a Spam",
          "Not a Spam",
          "Not a Spam",
          "Not a Spam",
          "Spam",
          "Not a Spam",
          "Not a Spam",
          "Not a Spam",
          "Not a Spam",
          "Spam",
          "Not a Spam",
          "Not a Spam",
          "Not a Spam",
          "Not a Spam",
          "Not a Spam",
          "Not a Spam",
          "Not a Spam",
          "Not a Spam",
          "Not a Spam",
          "Not a Spam",
          "Not a Spam",
          "Not a Spam",
          "Not a Spam",
          "Not a Spam",
          "Not a Spam",
          "Not a Spam",
          "Not a Spam",
          "Not a Spam",
          "Not a Spam",
          "Not a Spam",
          "Not a Spam",
          "Not a Spam",
          "Not a Spam",
          "Not a Spam",
          "Not a Spam",
          "Not a Spam",
          "Not a Spam",
          "Not a Spam",
          "Not a Spam",
          "Not a Spam",
          "Not a Spam",
          "Not a Spam",
          "Not a Spam",
          "Not a Spam",
          "Not a Spam",
          "Not a Spam",
          "Not a Spam",
          "Not a Spam",
          "Not a Spam",
          "Not a Spam",
          "Not a Spam",
          "Not a Spam",
          "Not a Spam",
          "Not a Spam",
          "Not a Spam",
          "Spam",
          "Not a Spam",
          "Not a Spam",
          "Not a Spam",
          "Not a Spam",
          "Not a Spam",
          "Not a Spam",
          "Not a Spam",
          "Spam",
          "Spam",
          "Not a Spam",
          "Not a Spam",
          "Not a Spam",
          "Not a Spam",
          "Not a Spam",
          "Not a Spam",
          "Not a Spam",
          "Not a Spam",
          "Not a Spam",
          "Not a Spam",
          "Not a Spam",
          "Not a Spam",
          "Not a Spam",
          "Not a Spam",
          "Not a Spam",
          "Not a Spam",
          "Not a Spam",
          "Spam",
          "Not a Spam",
          "Not a Spam",
          "Not a Spam",
          "Not a Spam",
          "Not a Spam",
          "Not a Spam",
          "Not a Spam",
          "Not a Spam",
          "Not a Spam",
          "Not a Spam",
          "Not a Spam",
          "Not a Spam",
          "Not a Spam",
          "Not a Spam",
          "Spam",
          "Not a Spam",
          "Spam",
          "Not a Spam",
          "Not a Spam",
          "Spam",
          "Not a Spam",
          "Not a Spam",
          "Not a Spam",
          "Not a Spam",
          "Not a Spam",
          "Not a Spam",
          "Not a Spam",
          "Not a Spam",
          "Not a Spam",
          "Not a Spam",
          "Not a Spam",
          "Not a Spam",
          "Not a Spam",
          "Spam",
          "Not a Spam",
          "Not a Spam",
          "Not a Spam",
          "Not a Spam",
          "Not a Spam",
          "Not a Spam",
          "Not a Spam",
          "Not a Spam",
          "Not a Spam",
          "Not a Spam",
          "Not a Spam",
          "Not a Spam",
          "Spam",
          "Spam",
          "Not a Spam",
          "Not a Spam",
          "Spam",
          "Not a Spam",
          "Not a Spam",
          "Not a Spam",
          "Not a Spam",
          "Not a Spam",
          "Not a Spam",
          "Not a Spam",
          "Not a Spam",
          "Not a Spam",
          "Not a Spam",
          "Not a Spam",
          "Not a Spam",
          "Not a Spam",
          "Spam",
          "Not a Spam",
          "Not a Spam",
          "Spam",
          "Not a Spam",
          "Not a Spam",
          "Not a Spam",
          "Not a Spam",
          "Not a Spam",
          "Spam",
          "Not a Spam",
          "Not a Spam",
          "Not a Spam",
          "Not a Spam",
          "Not a Spam",
          "Not a Spam",
          "Not a Spam",
          "Not a Spam",
          "Not a Spam",
          "Not a Spam",
          "Not a Spam",
          "Spam",
          "Not a Spam",
          "Not a Spam",
          "Not a Spam",
          "Not a Spam",
          "Not a Spam",
          "Not a Spam",
          "Not a Spam",
          "Spam",
          "Not a Spam",
          "Not a Spam",
          "Not a Spam",
          "Not a Spam",
          "Not a Spam",
          "Spam",
          "Not a Spam",
          "Not a Spam",
          "Not a Spam",
          "Not a Spam",
          "Not a Spam",
          "Spam",
          "Not a Spam",
          "Not a Spam",
          "Not a Spam",
          "Not a Spam",
          "Not a Spam",
          "Spam",
          "Not a Spam",
          "Not a Spam",
          "Not a Spam",
          "Not a Spam",
          "Not a Spam",
          "Not a Spam",
          "Not a Spam",
          "Not a Spam",
          "Not a Spam",
          "Not a Spam",
          "Not a Spam",
          "Not a Spam",
          "Not a Spam",
          "Not a Spam",
          "Not a Spam",
          "Not a Spam",
          "Not a Spam",
          "Spam",
          "Spam",
          "Spam",
          "Spam",
          "Spam",
          "Spam",
          "Spam",
          "Spam",
          "Spam",
          "Spam",
          "Spam",
          "Spam",
          "Spam",
          "Spam",
          "Spam",
          "Spam",
          "Spam",
          "Spam",
          "Spam",
          "Spam",
          "Spam",
          "Spam",
          "Spam",
          "Spam",
          "Spam",
          "Spam",
          "Spam",
          "Spam",
          "Spam",
          "Spam",
          "Spam",
          "Spam",
          "Spam",
          "Spam",
          "Spam",
          "Spam",
          "Spam",
          "Spam",
          "Spam",
          "Spam",
          "Spam",
          "Spam",
          "Spam",
          "Spam",
          "Spam",
          "Spam",
          "Spam",
          "Spam",
          "Spam",
          "Spam",
          "Spam",
          "Spam",
          "Spam",
          "Spam",
          "Spam",
          "Spam",
          "Spam",
          "Spam",
          "Spam",
          "Spam",
          "Spam",
          "Spam",
          "Spam",
          "Spam",
          "Spam",
          "Spam",
          "Spam",
          "Spam",
          "Spam",
          "Spam",
          "Spam",
          "Spam",
          "Spam",
          "Spam",
          "Spam",
          "Spam",
          "Spam",
          "Spam",
          "Spam",
          "Spam",
          "Spam",
          "Spam",
          "Spam",
          "Spam",
          "Spam",
          "Spam",
          "Spam",
          "Spam",
          "Spam",
          "Spam",
          "Spam",
          "Spam",
          "Spam",
          "Spam",
          "Spam",
          "Spam",
          "Spam",
          "Spam",
          "Spam",
          "Spam",
          "Spam",
          "Spam",
          "Spam",
          "Spam",
          "Spam",
          "Spam",
          "Spam",
          "Spam",
          "Spam",
          "Spam",
          "Spam",
          "Spam",
          "Spam",
          "Spam",
          "Spam",
          "Spam",
          "Spam",
          "Spam",
          "Spam",
          "Spam",
          "Spam",
          "Spam",
          "Spam",
          "Spam",
          "Spam",
          "Spam",
          "Spam",
          "Spam",
          "Spam",
          "Spam",
          "Spam",
          "Spam",
          "Spam",
          "Spam",
          "Spam",
          "Spam",
          "Spam",
          "Spam",
          "Spam",
          "Spam",
          "Spam",
          "Spam",
          "Spam",
          "Spam",
          "Spam",
          "Spam",
          "Spam",
          "Spam",
          "Spam",
          "Spam",
          "Spam",
          "Spam",
          "Spam",
          "Spam",
          "Spam",
          "Spam",
          "Spam",
          "Spam",
          "Spam",
          "Spam",
          "Spam",
          "Spam",
          "Spam",
          "Spam",
          "Spam",
          "Spam",
          "Spam",
          "Spam",
          "Spam",
          "Spam",
          "Spam",
          "Spam",
          "Spam",
          "Spam",
          "Spam",
          "Spam",
          "Spam",
          "Spam",
          "Spam",
          "Spam",
          "Spam",
          "Spam",
          "Spam",
          "Spam",
          "Spam",
          "Spam",
          "Spam",
          "Spam",
          "Spam",
          "Spam",
          "Spam",
          "Spam",
          "Spam",
          "Spam",
          "Spam",
          "Spam",
          "Spam",
          "Spam",
          "Spam",
          "Spam",
          "Spam",
          "Spam",
          "Spam",
          "Spam",
          "Spam",
          "Spam",
          "Spam",
          "Spam",
          "Spam",
          "Not a Spam",
          "Not a Spam",
          "Not a Spam",
          "Not a Spam",
          "Not a Spam",
          "Not a Spam",
          "Not a Spam",
          "Not a Spam",
          "Spam",
          "Not a Spam",
          "Not a Spam",
          "Not a Spam",
          "Not a Spam",
          "Not a Spam",
          "Not a Spam",
          "Not a Spam",
          "Spam",
          "Spam",
          "Spam",
          "Spam",
          "Not a Spam",
          "Spam",
          "Spam",
          "Not a Spam",
          "Spam",
          "Not a Spam",
          "Spam",
          "Not a Spam",
          "Spam",
          "Not a Spam",
          "Spam",
          "Not a Spam",
          "Spam",
          "Not a Spam",
          "Spam",
          "Not a Spam",
          "Spam",
          "Not a Spam",
          "Not a Spam",
          "Spam",
          "Spam",
          "Spam",
          "Not a Spam",
          "Spam",
          "Not a Spam",
          "Spam",
          "Not a Spam",
          "Not a Spam",
          "Spam",
          "Spam",
          "Spam",
          "Spam",
          "Not a Spam",
          "Not a Spam",
          "Spam",
          "Not a Spam",
          "Not a Spam",
          "Spam",
          "Spam",
          "Spam",
          "Not a Spam",
          "Not a Spam",
          "Spam",
          "Spam",
          "Spam",
          "Spam",
          "Spam",
          "Spam",
          "Spam",
          "Spam",
          "Not a Spam",
          "Not a Spam",
          "Spam",
          "Spam",
          "Spam",
          "Not a Spam",
          "Spam",
          "Not a Spam",
          "Not a Spam",
          "Spam",
          "Spam",
          "Spam",
          "Spam",
          "Spam",
          "Not a Spam",
          "Spam",
          "Spam",
          "Spam",
          "Spam",
          "Not a Spam",
          "Not a Spam",
          "Not a Spam",
          "Spam",
          "Spam",
          "Spam",
          "Spam",
          "Spam",
          "Spam",
          "Not a Spam",
          "Not a Spam",
          "Spam",
          "Not a Spam",
          "Not a Spam",
          "Not a Spam",
          "Not a Spam",
          "Spam",
          "Not a Spam",
          "Not a Spam",
          "Spam",
          "Spam",
          "Not a Spam",
          "Not a Spam",
          "Spam",
          "Spam",
          "Spam",
          "Not a Spam",
          "Spam",
          "Not a Spam",
          "Not a Spam",
          "Spam",
          "Not a Spam",
          "Not a Spam",
          "Not a Spam",
          "Not a Spam",
          "Not a Spam",
          "Not a Spam",
          "Spam",
          "Not a Spam",
          "Spam",
          "Spam",
          "Not a Spam",
          "Spam",
          "Spam",
          "Spam",
          "Spam",
          "Spam",
          "Not a Spam",
          "Not a Spam",
          "Spam",
          "Spam",
          "Spam",
          "Spam",
          "Spam",
          "Spam",
          "Spam",
          "Not a Spam",
          "Spam",
          "Spam",
          "Spam",
          "Not a Spam",
          "Not a Spam",
          "Not a Spam",
          "Not a Spam",
          "Spam",
          "Not a Spam",
          "Spam",
          "Not a Spam",
          "Spam",
          "Not a Spam",
          "Spam",
          "Spam",
          "Not a Spam",
          "Not a Spam",
          "Not a Spam",
          "Not a Spam",
          "Spam",
          "Spam",
          "Spam",
          "Spam",
          "Not a Spam",
          "Not a Spam",
          "Spam",
          "Spam",
          "Spam",
          "Not a Spam",
          "Spam",
          "Not a Spam",
          "Spam",
          "Spam",
          "Not a Spam",
          "Spam",
          "Not a Spam",
          "Not a Spam",
          "Spam",
          "Spam",
          "Not a Spam",
          "Not a Spam",
          "Spam",
          "Spam",
          "Not a Spam",
          "Not a Spam",
          "Spam",
          "Not a Spam",
          "Not a Spam",
          "Not a Spam",
          "Not a Spam",
          "Not a Spam",
          "Not a Spam",
          "Not a Spam",
          "Spam",
          "Not a Spam",
          "Not a Spam",
          "Spam",
          "Not a Spam",
          "Spam",
          "Spam",
          "Spam",
          "Not a Spam",
          "Spam",
          "Spam",
          "Spam",
          "Not a Spam",
          "Not a Spam",
          "Spam",
          "Not a Spam",
          "Spam",
          "Spam",
          "Not a Spam",
          "Spam",
          "Spam",
          "Not a Spam",
          "Not a Spam",
          "Not a Spam",
          "Not a Spam",
          "Not a Spam",
          "Not a Spam",
          "Not a Spam",
          "Not a Spam",
          "Spam",
          "Spam",
          "Not a Spam",
          "Not a Spam",
          "Spam",
          "Spam",
          "Not a Spam",
          "Not a Spam",
          "Spam",
          "Not a Spam",
          "Spam",
          "Not a Spam",
          "Spam",
          "Spam",
          "Spam",
          "Spam",
          "Spam",
          "Spam",
          "Not a Spam",
          "Not a Spam",
          "Spam",
          "Not a Spam",
          "Spam",
          "Spam",
          "Not a Spam",
          "Spam",
          "Spam",
          "Not a Spam",
          "Not a Spam",
          "Spam",
          "Not a Spam",
          "Not a Spam",
          "Spam",
          "Spam",
          "Spam",
          "Spam",
          "Spam",
          "Spam",
          "Spam",
          "Spam",
          "Spam",
          "Spam",
          "Spam",
          "Not a Spam",
          "Not a Spam",
          "Not a Spam",
          "Spam",
          "Spam",
          "Not a Spam",
          "Spam",
          "Not a Spam",
          "Spam",
          "Spam",
          "Spam",
          "Spam",
          "Spam",
          "Not a Spam",
          "Not a Spam",
          "Spam",
          "Spam",
          "Spam",
          "Spam",
          "Spam",
          "Not a Spam",
          "Not a Spam",
          "Spam",
          "Spam",
          "Not a Spam",
          "Not a Spam",
          "Spam",
          "Spam",
          "Not a Spam",
          "Spam",
          "Not a Spam",
          "Spam",
          "Spam",
          "Not a Spam",
          "Spam",
          "Spam",
          "Spam",
          "Spam",
          "Spam",
          "Spam",
          "Not a Spam",
          "Spam",
          "Spam",
          "Spam",
          "Not a Spam",
          "Not a Spam",
          "Not a Spam",
          "Spam",
          "Not a Spam",
          "Not a Spam",
          "Spam",
          "Not a Spam",
          "Not a Spam",
          "Not a Spam",
          "Not a Spam",
          "Spam",
          "Not a Spam",
          "Spam",
          "Spam",
          "Spam",
          "Not a Spam",
          "Spam",
          "Spam",
          "Spam",
          "Not a Spam",
          "Spam",
          "Spam",
          "Not a Spam",
          "Not a Spam",
          "Spam",
          "Spam",
          "Spam",
          "Not a Spam",
          "Spam",
          "Spam",
          "Not a Spam",
          "Spam",
          "Spam",
          "Spam",
          "Not a Spam",
          "Not a Spam",
          "Spam",
          "Not a Spam",
          "Not a Spam",
          "Not a Spam",
          "Spam",
          "Spam",
          "Spam",
          "Spam",
          "Spam",
          "Not a Spam",
          "Spam",
          "Not a Spam",
          "Spam",
          "Spam",
          "Not a Spam",
          "Spam",
          "Not a Spam",
          "Spam",
          "Spam",
          "Spam",
          "Spam",
          "Not a Spam",
          "Not a Spam",
          "Not a Spam",
          "Spam",
          "Spam",
          "Spam",
          "Not a Spam",
          "Spam",
          "Not a Spam",
          "Not a Spam",
          "Not a Spam",
          "Spam",
          "Not a Spam",
          "Spam",
          "Spam",
          "Not a Spam",
          "Not a Spam",
          "Not a Spam",
          "Not a Spam",
          "Not a Spam",
          "Not a Spam",
          "Spam",
          "Spam",
          "Not a Spam",
          "Spam",
          "Spam",
          "Spam",
          "Spam",
          "Spam",
          "Spam",
          "Not a Spam",
          "Spam",
          "Spam",
          "Spam",
          "Not a Spam",
          "Not a Spam",
          "Not a Spam",
          "Spam",
          "Not a Spam",
          "Spam",
          "Not a Spam",
          "Not a Spam",
          "Not a Spam",
          "Spam",
          "Spam",
          "Spam",
          "Not a Spam",
          "Not a Spam",
          "Spam",
          "Not a Spam",
          "Spam",
          "Not a Spam",
          "Spam",
          "Spam",
          "Not a Spam",
          "Not a Spam",
          "Spam",
          "Not a Spam",
          "Not a Spam",
          "Spam",
          "Not a Spam",
          "Spam",
          "Not a Spam",
          "Not a Spam",
          "Not a Spam",
          "Not a Spam",
          "Spam",
          "Not a Spam",
          "Not a Spam",
          "Not a Spam",
          "Spam",
          "Spam",
          "Spam",
          "Not a Spam",
          "Not a Spam",
          "Not a Spam",
          "Spam",
          "Not a Spam",
          "Not a Spam",
          "Not a Spam",
          "Not a Spam",
          "Spam",
          "Not a Spam",
          "Not a Spam",
          "Spam",
          "Spam",
          "Not a Spam",
          "Not a Spam",
          "Spam",
          "Spam",
          "Not a Spam",
          "Spam",
          "Spam",
          "Spam",
          "Spam",
          "Not a Spam",
          "Not a Spam",
          "Not a Spam",
          "Not a Spam",
          "Not a Spam",
          "Not a Spam",
          "Not a Spam",
          "Not a Spam",
          "Not a Spam",
          "Spam",
          "Not a Spam",
          "Not a Spam",
          "Not a Spam",
          "Not a Spam",
          "Not a Spam",
          "Not a Spam",
          "Not a Spam",
          "Not a Spam",
          "Not a Spam",
          "Not a Spam",
          "Not a Spam",
          "Not a Spam",
          "Not a Spam",
          "Not a Spam",
          "Spam",
          "Not a Spam",
          "Not a Spam",
          "Not a Spam",
          "Not a Spam",
          "Not a Spam",
          "Not a Spam",
          "Not a Spam",
          "Not a Spam",
          "Spam",
          "Not a Spam",
          "Not a Spam",
          "Not a Spam",
          "Not a Spam",
          "Spam",
          "Not a Spam",
          "Not a Spam",
          "Not a Spam",
          "Not a Spam",
          "Not a Spam",
          "Not a Spam",
          "Not a Spam",
          "Not a Spam",
          "Not a Spam",
          "Not a Spam",
          "Not a Spam",
          "Not a Spam",
          "Not a Spam",
          "Not a Spam",
          "Spam",
          "Spam",
          "Not a Spam",
          "Not a Spam",
          "Spam",
          "Not a Spam",
          "Spam",
          "Not a Spam",
          "Not a Spam",
          "Spam",
          "Not a Spam",
          "Not a Spam",
          "Not a Spam",
          "Not a Spam",
          "Not a Spam",
          "Spam",
          "Not a Spam",
          "Not a Spam",
          "Not a Spam",
          "Not a Spam",
          "Not a Spam",
          "Not a Spam",
          "Not a Spam",
          "Not a Spam",
          "Not a Spam",
          "Not a Spam",
          "Not a Spam",
          "Not a Spam",
          "Not a Spam",
          "Not a Spam",
          "Spam",
          "Not a Spam",
          "Spam",
          "Not a Spam",
          "Not a Spam",
          "Not a Spam",
          "Not a Spam",
          "Not a Spam",
          "Spam",
          "Not a Spam",
          "Not a Spam",
          "Not a Spam",
          "Not a Spam",
          "Not a Spam",
          "Not a Spam",
          "Not a Spam",
          "Spam",
          "Not a Spam",
          "Not a Spam",
          "Not a Spam",
          "Not a Spam",
          "Not a Spam",
          "Not a Spam",
          "Not a Spam",
          "Not a Spam",
          "Not a Spam",
          "Not a Spam",
          "Not a Spam",
          "Spam",
          "Not a Spam",
          "Spam",
          "Not a Spam",
          "Not a Spam",
          "Not a Spam",
          "Not a Spam",
          "Not a Spam",
          "Not a Spam",
          "Not a Spam",
          "Not a Spam",
          "Not a Spam",
          "Not a Spam",
          "Not a Spam",
          "Not a Spam",
          "Not a Spam",
          "Not a Spam",
          "Not a Spam",
          "Not a Spam",
          "Spam",
          "Not a Spam",
          "Not a Spam",
          "Not a Spam",
          "Spam",
          "Not a Spam",
          "Not a Spam",
          "Not a Spam",
          "Not a Spam",
          "Not a Spam",
          "Not a Spam",
          "Not a Spam",
          "Not a Spam",
          "Not a Spam",
          "Not a Spam",
          "Not a Spam",
          "Not a Spam",
          "Not a Spam",
          "Not a Spam",
          "Spam",
          "Spam",
          "Spam",
          "Spam",
          "Spam",
          "Spam",
          "Spam",
          "Spam",
          "Spam",
          "Spam",
          "Spam",
          "Spam",
          "Spam",
          "Spam",
          "Spam",
          "Spam",
          "Spam",
          "Spam",
          "Spam",
          "Spam",
          "Spam",
          "Spam",
          "Spam",
          "Spam",
          "Spam",
          "Spam",
          "Spam",
          "Spam",
          "Spam",
          "Spam",
          "Spam",
          "Spam",
          "Spam",
          "Spam",
          "Spam",
          "Spam",
          "Spam",
          "Spam",
          "Spam",
          "Spam",
          "Spam",
          "Spam",
          "Spam",
          "Spam",
          "Spam",
          "Spam",
          "Spam",
          "Spam",
          "Spam",
          "Spam",
          "Spam",
          "Spam",
          "Spam",
          "Spam",
          "Spam",
          "Spam",
          "Spam",
          "Spam",
          "Spam",
          "Spam",
          "Spam",
          "Spam",
          "Spam",
          "Spam",
          "Not a Spam",
          "Not a Spam",
          "Not a Spam",
          "Not a Spam",
          "Spam",
          "Not a Spam",
          "Not a Spam",
          "Not a Spam",
          "Not a Spam",
          "Not a Spam",
          "Not a Spam",
          "Not a Spam",
          "Not a Spam",
          "Not a Spam",
          "Not a Spam",
          "Not a Spam",
          "Not a Spam",
          "Spam",
          "Spam",
          "Spam",
          "Spam",
          "Not a Spam",
          "Not a Spam",
          "Not a Spam",
          "Not a Spam",
          "Not a Spam",
          "Not a Spam",
          "Not a Spam",
          "Not a Spam",
          "Not a Spam",
          "Not a Spam",
          "Not a Spam",
          "Not a Spam",
          "Not a Spam",
          "Not a Spam",
          "Not a Spam",
          "Spam",
          "Spam",
          "Spam",
          "Spam",
          "Spam",
          "Spam",
          "Spam",
          "Spam",
          "Spam",
          "Spam",
          "Spam",
          "Spam",
          "Spam",
          "Not a Spam",
          "Spam",
          "Not a Spam",
          "Not a Spam",
          "Not a Spam",
          "Not a Spam",
          "Not a Spam",
          "Not a Spam",
          "Not a Spam",
          "Not a Spam",
          "Not a Spam",
          "Not a Spam",
          "Not a Spam",
          "Not a Spam",
          "Spam",
          "Spam",
          "Spam",
          "Spam",
          "Spam",
          "Not a Spam",
          "Not a Spam",
          "Not a Spam",
          "Not a Spam",
          "Not a Spam",
          "Not a Spam",
          "Not a Spam",
          "Not a Spam",
          "Spam",
          "Spam",
          "Spam",
          "Spam",
          "Spam",
          "Spam",
          "Spam",
          "Spam",
          "Spam",
          "Spam",
          "Spam",
          "Spam",
          "Spam",
          "Spam",
          "Spam",
          "Spam",
          "Spam",
          "Spam",
          "Spam",
          "Spam",
          "Spam",
          "Spam",
          "Spam",
          "Spam",
          "Spam",
          "Spam",
          "Spam",
          "Spam",
          "Spam",
          "Spam",
          "Spam",
          "Spam",
          "Spam",
          "Spam",
          "Spam",
          "Spam",
          "Spam",
          "Spam",
          "Spam",
          "Spam",
          "Spam",
          "Spam",
          "Spam",
          "Spam",
          "Spam",
          "Spam",
          "Spam",
          "Spam",
          "Spam",
          "Spam",
          "Spam",
          "Spam",
          "Spam",
          "Spam",
          "Spam",
          "Spam",
          "Spam",
          "Spam",
          "Spam",
          "Spam",
          "Not a Spam",
          "Not a Spam",
          "Not a Spam",
          "Spam",
          "Not a Spam",
          "Spam",
          "Not a Spam",
          "Not a Spam",
          "Spam",
          "Spam",
          "Spam",
          "Spam",
          "Spam",
          "Spam",
          "Not a Spam",
          "Not a Spam",
          "Not a Spam",
          "Not a Spam",
          "Not a Spam",
          "Not a Spam",
          "Not a Spam",
          "Not a Spam"
         ],
         "legendgroup": "",
         "name": "",
         "showlegend": true,
         "type": "pie"
        }
       ],
       "layout": {
        "legend": {
         "tracegroupgap": 0
        },
        "template": {
         "data": {
          "bar": [
           {
            "error_x": {
             "color": "#2a3f5f"
            },
            "error_y": {
             "color": "#2a3f5f"
            },
            "marker": {
             "line": {
              "color": "#E5ECF6",
              "width": 0.5
             },
             "pattern": {
              "fillmode": "overlay",
              "size": 10,
              "solidity": 0.2
             }
            },
            "type": "bar"
           }
          ],
          "barpolar": [
           {
            "marker": {
             "line": {
              "color": "#E5ECF6",
              "width": 0.5
             },
             "pattern": {
              "fillmode": "overlay",
              "size": 10,
              "solidity": 0.2
             }
            },
            "type": "barpolar"
           }
          ],
          "carpet": [
           {
            "aaxis": {
             "endlinecolor": "#2a3f5f",
             "gridcolor": "white",
             "linecolor": "white",
             "minorgridcolor": "white",
             "startlinecolor": "#2a3f5f"
            },
            "baxis": {
             "endlinecolor": "#2a3f5f",
             "gridcolor": "white",
             "linecolor": "white",
             "minorgridcolor": "white",
             "startlinecolor": "#2a3f5f"
            },
            "type": "carpet"
           }
          ],
          "choropleth": [
           {
            "colorbar": {
             "outlinewidth": 0,
             "ticks": ""
            },
            "type": "choropleth"
           }
          ],
          "contour": [
           {
            "colorbar": {
             "outlinewidth": 0,
             "ticks": ""
            },
            "colorscale": [
             [
              0,
              "#0d0887"
             ],
             [
              0.1111111111111111,
              "#46039f"
             ],
             [
              0.2222222222222222,
              "#7201a8"
             ],
             [
              0.3333333333333333,
              "#9c179e"
             ],
             [
              0.4444444444444444,
              "#bd3786"
             ],
             [
              0.5555555555555556,
              "#d8576b"
             ],
             [
              0.6666666666666666,
              "#ed7953"
             ],
             [
              0.7777777777777778,
              "#fb9f3a"
             ],
             [
              0.8888888888888888,
              "#fdca26"
             ],
             [
              1,
              "#f0f921"
             ]
            ],
            "type": "contour"
           }
          ],
          "contourcarpet": [
           {
            "colorbar": {
             "outlinewidth": 0,
             "ticks": ""
            },
            "type": "contourcarpet"
           }
          ],
          "heatmap": [
           {
            "colorbar": {
             "outlinewidth": 0,
             "ticks": ""
            },
            "colorscale": [
             [
              0,
              "#0d0887"
             ],
             [
              0.1111111111111111,
              "#46039f"
             ],
             [
              0.2222222222222222,
              "#7201a8"
             ],
             [
              0.3333333333333333,
              "#9c179e"
             ],
             [
              0.4444444444444444,
              "#bd3786"
             ],
             [
              0.5555555555555556,
              "#d8576b"
             ],
             [
              0.6666666666666666,
              "#ed7953"
             ],
             [
              0.7777777777777778,
              "#fb9f3a"
             ],
             [
              0.8888888888888888,
              "#fdca26"
             ],
             [
              1,
              "#f0f921"
             ]
            ],
            "type": "heatmap"
           }
          ],
          "heatmapgl": [
           {
            "colorbar": {
             "outlinewidth": 0,
             "ticks": ""
            },
            "colorscale": [
             [
              0,
              "#0d0887"
             ],
             [
              0.1111111111111111,
              "#46039f"
             ],
             [
              0.2222222222222222,
              "#7201a8"
             ],
             [
              0.3333333333333333,
              "#9c179e"
             ],
             [
              0.4444444444444444,
              "#bd3786"
             ],
             [
              0.5555555555555556,
              "#d8576b"
             ],
             [
              0.6666666666666666,
              "#ed7953"
             ],
             [
              0.7777777777777778,
              "#fb9f3a"
             ],
             [
              0.8888888888888888,
              "#fdca26"
             ],
             [
              1,
              "#f0f921"
             ]
            ],
            "type": "heatmapgl"
           }
          ],
          "histogram": [
           {
            "marker": {
             "pattern": {
              "fillmode": "overlay",
              "size": 10,
              "solidity": 0.2
             }
            },
            "type": "histogram"
           }
          ],
          "histogram2d": [
           {
            "colorbar": {
             "outlinewidth": 0,
             "ticks": ""
            },
            "colorscale": [
             [
              0,
              "#0d0887"
             ],
             [
              0.1111111111111111,
              "#46039f"
             ],
             [
              0.2222222222222222,
              "#7201a8"
             ],
             [
              0.3333333333333333,
              "#9c179e"
             ],
             [
              0.4444444444444444,
              "#bd3786"
             ],
             [
              0.5555555555555556,
              "#d8576b"
             ],
             [
              0.6666666666666666,
              "#ed7953"
             ],
             [
              0.7777777777777778,
              "#fb9f3a"
             ],
             [
              0.8888888888888888,
              "#fdca26"
             ],
             [
              1,
              "#f0f921"
             ]
            ],
            "type": "histogram2d"
           }
          ],
          "histogram2dcontour": [
           {
            "colorbar": {
             "outlinewidth": 0,
             "ticks": ""
            },
            "colorscale": [
             [
              0,
              "#0d0887"
             ],
             [
              0.1111111111111111,
              "#46039f"
             ],
             [
              0.2222222222222222,
              "#7201a8"
             ],
             [
              0.3333333333333333,
              "#9c179e"
             ],
             [
              0.4444444444444444,
              "#bd3786"
             ],
             [
              0.5555555555555556,
              "#d8576b"
             ],
             [
              0.6666666666666666,
              "#ed7953"
             ],
             [
              0.7777777777777778,
              "#fb9f3a"
             ],
             [
              0.8888888888888888,
              "#fdca26"
             ],
             [
              1,
              "#f0f921"
             ]
            ],
            "type": "histogram2dcontour"
           }
          ],
          "mesh3d": [
           {
            "colorbar": {
             "outlinewidth": 0,
             "ticks": ""
            },
            "type": "mesh3d"
           }
          ],
          "parcoords": [
           {
            "line": {
             "colorbar": {
              "outlinewidth": 0,
              "ticks": ""
             }
            },
            "type": "parcoords"
           }
          ],
          "pie": [
           {
            "automargin": true,
            "type": "pie"
           }
          ],
          "scatter": [
           {
            "fillpattern": {
             "fillmode": "overlay",
             "size": 10,
             "solidity": 0.2
            },
            "type": "scatter"
           }
          ],
          "scatter3d": [
           {
            "line": {
             "colorbar": {
              "outlinewidth": 0,
              "ticks": ""
             }
            },
            "marker": {
             "colorbar": {
              "outlinewidth": 0,
              "ticks": ""
             }
            },
            "type": "scatter3d"
           }
          ],
          "scattercarpet": [
           {
            "marker": {
             "colorbar": {
              "outlinewidth": 0,
              "ticks": ""
             }
            },
            "type": "scattercarpet"
           }
          ],
          "scattergeo": [
           {
            "marker": {
             "colorbar": {
              "outlinewidth": 0,
              "ticks": ""
             }
            },
            "type": "scattergeo"
           }
          ],
          "scattergl": [
           {
            "marker": {
             "colorbar": {
              "outlinewidth": 0,
              "ticks": ""
             }
            },
            "type": "scattergl"
           }
          ],
          "scattermapbox": [
           {
            "marker": {
             "colorbar": {
              "outlinewidth": 0,
              "ticks": ""
             }
            },
            "type": "scattermapbox"
           }
          ],
          "scatterpolar": [
           {
            "marker": {
             "colorbar": {
              "outlinewidth": 0,
              "ticks": ""
             }
            },
            "type": "scatterpolar"
           }
          ],
          "scatterpolargl": [
           {
            "marker": {
             "colorbar": {
              "outlinewidth": 0,
              "ticks": ""
             }
            },
            "type": "scatterpolargl"
           }
          ],
          "scatterternary": [
           {
            "marker": {
             "colorbar": {
              "outlinewidth": 0,
              "ticks": ""
             }
            },
            "type": "scatterternary"
           }
          ],
          "surface": [
           {
            "colorbar": {
             "outlinewidth": 0,
             "ticks": ""
            },
            "colorscale": [
             [
              0,
              "#0d0887"
             ],
             [
              0.1111111111111111,
              "#46039f"
             ],
             [
              0.2222222222222222,
              "#7201a8"
             ],
             [
              0.3333333333333333,
              "#9c179e"
             ],
             [
              0.4444444444444444,
              "#bd3786"
             ],
             [
              0.5555555555555556,
              "#d8576b"
             ],
             [
              0.6666666666666666,
              "#ed7953"
             ],
             [
              0.7777777777777778,
              "#fb9f3a"
             ],
             [
              0.8888888888888888,
              "#fdca26"
             ],
             [
              1,
              "#f0f921"
             ]
            ],
            "type": "surface"
           }
          ],
          "table": [
           {
            "cells": {
             "fill": {
              "color": "#EBF0F8"
             },
             "line": {
              "color": "white"
             }
            },
            "header": {
             "fill": {
              "color": "#C8D4E3"
             },
             "line": {
              "color": "white"
             }
            },
            "type": "table"
           }
          ]
         },
         "layout": {
          "annotationdefaults": {
           "arrowcolor": "#2a3f5f",
           "arrowhead": 0,
           "arrowwidth": 1
          },
          "autotypenumbers": "strict",
          "coloraxis": {
           "colorbar": {
            "outlinewidth": 0,
            "ticks": ""
           }
          },
          "colorscale": {
           "diverging": [
            [
             0,
             "#8e0152"
            ],
            [
             0.1,
             "#c51b7d"
            ],
            [
             0.2,
             "#de77ae"
            ],
            [
             0.3,
             "#f1b6da"
            ],
            [
             0.4,
             "#fde0ef"
            ],
            [
             0.5,
             "#f7f7f7"
            ],
            [
             0.6,
             "#e6f5d0"
            ],
            [
             0.7,
             "#b8e186"
            ],
            [
             0.8,
             "#7fbc41"
            ],
            [
             0.9,
             "#4d9221"
            ],
            [
             1,
             "#276419"
            ]
           ],
           "sequential": [
            [
             0,
             "#0d0887"
            ],
            [
             0.1111111111111111,
             "#46039f"
            ],
            [
             0.2222222222222222,
             "#7201a8"
            ],
            [
             0.3333333333333333,
             "#9c179e"
            ],
            [
             0.4444444444444444,
             "#bd3786"
            ],
            [
             0.5555555555555556,
             "#d8576b"
            ],
            [
             0.6666666666666666,
             "#ed7953"
            ],
            [
             0.7777777777777778,
             "#fb9f3a"
            ],
            [
             0.8888888888888888,
             "#fdca26"
            ],
            [
             1,
             "#f0f921"
            ]
           ],
           "sequentialminus": [
            [
             0,
             "#0d0887"
            ],
            [
             0.1111111111111111,
             "#46039f"
            ],
            [
             0.2222222222222222,
             "#7201a8"
            ],
            [
             0.3333333333333333,
             "#9c179e"
            ],
            [
             0.4444444444444444,
             "#bd3786"
            ],
            [
             0.5555555555555556,
             "#d8576b"
            ],
            [
             0.6666666666666666,
             "#ed7953"
            ],
            [
             0.7777777777777778,
             "#fb9f3a"
            ],
            [
             0.8888888888888888,
             "#fdca26"
            ],
            [
             1,
             "#f0f921"
            ]
           ]
          },
          "colorway": [
           "#636efa",
           "#EF553B",
           "#00cc96",
           "#ab63fa",
           "#FFA15A",
           "#19d3f3",
           "#FF6692",
           "#B6E880",
           "#FF97FF",
           "#FECB52"
          ],
          "font": {
           "color": "#2a3f5f"
          },
          "geo": {
           "bgcolor": "white",
           "lakecolor": "white",
           "landcolor": "#E5ECF6",
           "showlakes": true,
           "showland": true,
           "subunitcolor": "white"
          },
          "hoverlabel": {
           "align": "left"
          },
          "hovermode": "closest",
          "mapbox": {
           "style": "light"
          },
          "paper_bgcolor": "white",
          "plot_bgcolor": "#E5ECF6",
          "polar": {
           "angularaxis": {
            "gridcolor": "white",
            "linecolor": "white",
            "ticks": ""
           },
           "bgcolor": "#E5ECF6",
           "radialaxis": {
            "gridcolor": "white",
            "linecolor": "white",
            "ticks": ""
           }
          },
          "scene": {
           "xaxis": {
            "backgroundcolor": "#E5ECF6",
            "gridcolor": "white",
            "gridwidth": 2,
            "linecolor": "white",
            "showbackground": true,
            "ticks": "",
            "zerolinecolor": "white"
           },
           "yaxis": {
            "backgroundcolor": "#E5ECF6",
            "gridcolor": "white",
            "gridwidth": 2,
            "linecolor": "white",
            "showbackground": true,
            "ticks": "",
            "zerolinecolor": "white"
           },
           "zaxis": {
            "backgroundcolor": "#E5ECF6",
            "gridcolor": "white",
            "gridwidth": 2,
            "linecolor": "white",
            "showbackground": true,
            "ticks": "",
            "zerolinecolor": "white"
           }
          },
          "shapedefaults": {
           "line": {
            "color": "#2a3f5f"
           }
          },
          "ternary": {
           "aaxis": {
            "gridcolor": "white",
            "linecolor": "white",
            "ticks": ""
           },
           "baxis": {
            "gridcolor": "white",
            "linecolor": "white",
            "ticks": ""
           },
           "bgcolor": "#E5ECF6",
           "caxis": {
            "gridcolor": "white",
            "linecolor": "white",
            "ticks": ""
           }
          },
          "title": {
           "x": 0.05
          },
          "xaxis": {
           "automargin": true,
           "gridcolor": "white",
           "linecolor": "white",
           "ticks": "",
           "title": {
            "standoff": 15
           },
           "zerolinecolor": "white",
           "zerolinewidth": 2
          },
          "yaxis": {
           "automargin": true,
           "gridcolor": "white",
           "linecolor": "white",
           "ticks": "",
           "title": {
            "standoff": 15
           },
           "zerolinecolor": "white",
           "zerolinewidth": 2
          }
         }
        },
        "title": {
         "text": "How is the labelled data distribution?"
        }
       }
      }
     },
     "metadata": {},
     "output_type": "display_data"
    }
   ],
   "source": [
    "label_distrib_plot = px.pie(df, names = \"LABEL_NAME\",\n",
    "                       title = \"How is the labelled data distribution?\", \n",
    "                       labels = {0: \"Not a Spam\", 1: \"Spam\"} )\n",
    "\n",
    "label_distrib_plot.show()"
   ]
  },
  {
   "cell_type": "markdown",
   "metadata": {},
   "source": [
    "Pretty balanced between `spam` and `not spam`"
   ]
  },
  {
   "cell_type": "code",
   "execution_count": 20,
   "metadata": {},
   "outputs": [
    {
     "name": "stderr",
     "output_type": "stream",
     "text": [
      "C:\\Users\\eliel\\AppData\\Local\\Temp\\ipykernel_31672\\2080192250.py:8: FutureWarning:\n",
      "\n",
      "Series.__getitem__ treating keys as positions is deprecated. In a future version, integer keys will always be treated as labels (consistent with DataFrame behavior). To access a value by position, use `ser.iloc[pos]`\n",
      "\n"
     ]
    },
    {
     "data": {
      "image/png": "[encoded data removed]",
      "text/plain": [
       "<Figure size 800x600 with 1 Axes>"
      ]
     },
     "metadata": {},
     "output_type": "display_data"
    }
   ],
   "source": [
    "import matplotlib.pyplot as plt\n",
    "\n",
    "# Assuming df is your DataFrame and it contains a column named 'LABEL_NAME'\n",
    "label_counts = df['LABEL_NAME'].value_counts()  # Count occurrences of each label\n",
    "\n",
    "# Prepare the labels and sizes for the pie chart\n",
    "labels = ['Not a Spam', 'Spam']\n",
    "sizes = [label_counts.get(0, 0), label_counts.get(1, 0)]  # Get counts for each label, default to 0 if not found\n",
    "\n",
    "# Define colors for the pie chart\n",
    "colors = ['blue', 'red']  # Blue for \"Not a Spam\", Red for \"Spam\"\n",
    "\n",
    "# Create the pie chart\n",
    "plt.figure(figsize=(8, 6))\n",
    "plt.pie(sizes, labels=labels, autopct='%1.1f%%', startangle=140, colors=colors)\n",
    "plt.title('How is the labelled data distribution?')\n",
    "plt.axis('equal')  # Equal aspect ratio ensures that pie is drawn as a circle.\n",
    "plt.show()\n"
   ]
  },
  {
   "cell_type": "code",
   "execution_count": 21,
   "metadata": {},
   "outputs": [
    {
     "data": {
      "text/html": [
       "<div>\n",
       "<style scoped>\n",
       "    .dataframe tbody tr th:only-of-type {\n",
       "        vertical-align: middle;\n",
       "    }\n",
       "\n",
       "    .dataframe tbody tr th {\n",
       "        vertical-align: top;\n",
       "    }\n",
       "\n",
       "    .dataframe thead th {\n",
       "        text-align: right;\n",
       "    }\n",
       "</style>\n",
       "<table border=\"1\" class=\"dataframe\">\n",
       "  <thead>\n",
       "    <tr style=\"text-align: right;\">\n",
       "      <th></th>\n",
       "      <th>VIDEO_NAME</th>\n",
       "      <th>count</th>\n",
       "    </tr>\n",
       "  </thead>\n",
       "  <tbody>\n",
       "    <tr>\n",
       "      <th>0</th>\n",
       "      <td>Eminem - Love The Way You Lie ft. Rihanna</td>\n",
       "      <td>446</td>\n",
       "    </tr>\n",
       "    <tr>\n",
       "      <th>1</th>\n",
       "      <td>LMFAO - Party Rock Anthem ft. Lauren Bennett, ...</td>\n",
       "      <td>438</td>\n",
       "    </tr>\n",
       "    <tr>\n",
       "      <th>2</th>\n",
       "      <td>Shakira - Waka Waka</td>\n",
       "      <td>369</td>\n",
       "    </tr>\n",
       "    <tr>\n",
       "      <th>3</th>\n",
       "      <td>PSY - GANGNAM STYLE(?????) M/V</td>\n",
       "      <td>350</td>\n",
       "    </tr>\n",
       "    <tr>\n",
       "      <th>4</th>\n",
       "      <td>Katy Perry - Roar</td>\n",
       "      <td>350</td>\n",
       "    </tr>\n",
       "  </tbody>\n",
       "</table>\n",
       "</div>"
      ],
      "text/plain": [
       "                                          VIDEO_NAME  count\n",
       "0          Eminem - Love The Way You Lie ft. Rihanna    446\n",
       "1  LMFAO - Party Rock Anthem ft. Lauren Bennett, ...    438\n",
       "2                               Shakira - Waka Waka     369\n",
       "3                     PSY - GANGNAM STYLE(?????) M/V    350\n",
       "4                                  Katy Perry - Roar    350"
      ]
     },
     "execution_count": 21,
     "metadata": {},
     "output_type": "execute_result"
    }
   ],
   "source": [
    "video_distrib = pd.DataFrame(df[\"VIDEO_NAME\"].value_counts().reset_index())\n",
    "video_distrib"
   ]
  },
  {
   "cell_type": "code",
   "execution_count": 22,
   "metadata": {},
   "outputs": [
    {
     "data": {
      "application/vnd.plotly.v1+json": {
       "config": {
        "plotlyServerURL": "https://plot.ly"
       },
       "data": [
        {
         "alignmentgroup": "True",
         "hovertemplate": "VIDEO_NAME=%{x}<br>count=%{y}<extra></extra>",
         "legendgroup": "Eminem - Love The Way You Lie ft. Rihanna",
         "marker": {
          "color": "#636efa",
          "pattern": {
           "shape": ""
          }
         },
         "name": "Eminem - Love The Way You Lie ft. Rihanna",
         "offsetgroup": "Eminem - Love The Way You Lie ft. Rihanna",
         "orientation": "v",
         "showlegend": true,
         "textposition": "auto",
         "type": "bar",
         "x": [
          "Eminem - Love The Way You Lie ft. Rihanna"
         ],
         "xaxis": "x",
         "y": [
          446
         ],
         "yaxis": "y"
        },
        {
         "alignmentgroup": "True",
         "hovertemplate": "VIDEO_NAME=%{x}<br>count=%{y}<extra></extra>",
         "legendgroup": "LMFAO - Party Rock Anthem ft. Lauren Bennett, GoonRock",
         "marker": {
          "color": "#EF553B",
          "pattern": {
           "shape": ""
          }
         },
         "name": "LMFAO - Party Rock Anthem ft. Lauren Bennett, GoonRock",
         "offsetgroup": "LMFAO - Party Rock Anthem ft. Lauren Bennett, GoonRock",
         "orientation": "v",
         "showlegend": true,
         "textposition": "auto",
         "type": "bar",
         "x": [
          "LMFAO - Party Rock Anthem ft. Lauren Bennett, GoonRock"
         ],
         "xaxis": "x",
         "y": [
          438
         ],
         "yaxis": "y"
        },
        {
         "alignmentgroup": "True",
         "hovertemplate": "VIDEO_NAME=%{x}<br>count=%{y}<extra></extra>",
         "legendgroup": "Shakira - Waka Waka ",
         "marker": {
          "color": "#00cc96",
          "pattern": {
           "shape": ""
          }
         },
         "name": "Shakira - Waka Waka ",
         "offsetgroup": "Shakira - Waka Waka ",
         "orientation": "v",
         "showlegend": true,
         "textposition": "auto",
         "type": "bar",
         "x": [
          "Shakira - Waka Waka "
         ],
         "xaxis": "x",
         "y": [
          369
         ],
         "yaxis": "y"
        },
        {
         "alignmentgroup": "True",
         "hovertemplate": "VIDEO_NAME=%{x}<br>count=%{y}<extra></extra>",
         "legendgroup": "PSY - GANGNAM STYLE(?????) M/V",
         "marker": {
          "color": "#ab63fa",
          "pattern": {
           "shape": ""
          }
         },
         "name": "PSY - GANGNAM STYLE(?????) M/V",
         "offsetgroup": "PSY - GANGNAM STYLE(?????) M/V",
         "orientation": "v",
         "showlegend": true,
         "textposition": "auto",
         "type": "bar",
         "x": [
          "PSY - GANGNAM STYLE(?????) M/V"
         ],
         "xaxis": "x",
         "y": [
          350
         ],
         "yaxis": "y"
        },
        {
         "alignmentgroup": "True",
         "hovertemplate": "VIDEO_NAME=%{x}<br>count=%{y}<extra></extra>",
         "legendgroup": "Katy Perry - Roar",
         "marker": {
          "color": "#FFA15A",
          "pattern": {
           "shape": ""
          }
         },
         "name": "Katy Perry - Roar",
         "offsetgroup": "Katy Perry - Roar",
         "orientation": "v",
         "showlegend": true,
         "textposition": "auto",
         "type": "bar",
         "x": [
          "Katy Perry - Roar"
         ],
         "xaxis": "x",
         "y": [
          350
         ],
         "yaxis": "y"
        }
       ],
       "layout": {
        "barmode": "relative",
        "legend": {
         "title": {
          "text": "VIDEO_NAME"
         },
         "tracegroupgap": 0
        },
        "showlegend": false,
        "template": {
         "data": {
          "bar": [
           {
            "error_x": {
             "color": "#2a3f5f"
            },
            "error_y": {
             "color": "#2a3f5f"
            },
            "marker": {
             "line": {
              "color": "#E5ECF6",
              "width": 0.5
             },
             "pattern": {
              "fillmode": "overlay",
              "size": 10,
              "solidity": 0.2
             }
            },
            "type": "bar"
           }
          ],
          "barpolar": [
           {
            "marker": {
             "line": {
              "color": "#E5ECF6",
              "width": 0.5
             },
             "pattern": {
              "fillmode": "overlay",
              "size": 10,
              "solidity": 0.2
             }
            },
            "type": "barpolar"
           }
          ],
          "carpet": [
           {
            "aaxis": {
             "endlinecolor": "#2a3f5f",
             "gridcolor": "white",
             "linecolor": "white",
             "minorgridcolor": "white",
             "startlinecolor": "#2a3f5f"
            },
            "baxis": {
             "endlinecolor": "#2a3f5f",
             "gridcolor": "white",
             "linecolor": "white",
             "minorgridcolor": "white",
             "startlinecolor": "#2a3f5f"
            },
            "type": "carpet"
           }
          ],
          "choropleth": [
           {
            "colorbar": {
             "outlinewidth": 0,
             "ticks": ""
            },
            "type": "choropleth"
           }
          ],
          "contour": [
           {
            "colorbar": {
             "outlinewidth": 0,
             "ticks": ""
            },
            "colorscale": [
             [
              0,
              "#0d0887"
             ],
             [
              0.1111111111111111,
              "#46039f"
             ],
             [
              0.2222222222222222,
              "#7201a8"
             ],
             [
              0.3333333333333333,
              "#9c179e"
             ],
             [
              0.4444444444444444,
              "#bd3786"
             ],
             [
              0.5555555555555556,
              "#d8576b"
             ],
             [
              0.6666666666666666,
              "#ed7953"
             ],
             [
              0.7777777777777778,
              "#fb9f3a"
             ],
             [
              0.8888888888888888,
              "#fdca26"
             ],
             [
              1,
              "#f0f921"
             ]
            ],
            "type": "contour"
           }
          ],
          "contourcarpet": [
           {
            "colorbar": {
             "outlinewidth": 0,
             "ticks": ""
            },
            "type": "contourcarpet"
           }
          ],
          "heatmap": [
           {
            "colorbar": {
             "outlinewidth": 0,
             "ticks": ""
            },
            "colorscale": [
             [
              0,
              "#0d0887"
             ],
             [
              0.1111111111111111,
              "#46039f"
             ],
             [
              0.2222222222222222,
              "#7201a8"
             ],
             [
              0.3333333333333333,
              "#9c179e"
             ],
             [
              0.4444444444444444,
              "#bd3786"
             ],
             [
              0.5555555555555556,
              "#d8576b"
             ],
             [
              0.6666666666666666,
              "#ed7953"
             ],
             [
              0.7777777777777778,
              "#fb9f3a"
             ],
             [
              0.8888888888888888,
              "#fdca26"
             ],
             [
              1,
              "#f0f921"
             ]
            ],
            "type": "heatmap"
           }
          ],
          "heatmapgl": [
           {
            "colorbar": {
             "outlinewidth": 0,
             "ticks": ""
            },
            "colorscale": [
             [
              0,
              "#0d0887"
             ],
             [
              0.1111111111111111,
              "#46039f"
             ],
             [
              0.2222222222222222,
              "#7201a8"
             ],
             [
              0.3333333333333333,
              "#9c179e"
             ],
             [
              0.4444444444444444,
              "#bd3786"
             ],
             [
              0.5555555555555556,
              "#d8576b"
             ],
             [
              0.6666666666666666,
              "#ed7953"
             ],
             [
              0.7777777777777778,
              "#fb9f3a"
             ],
             [
              0.8888888888888888,
              "#fdca26"
             ],
             [
              1,
              "#f0f921"
             ]
            ],
            "type": "heatmapgl"
           }
          ],
          "histogram": [
           {
            "marker": {
             "pattern": {
              "fillmode": "overlay",
              "size": 10,
              "solidity": 0.2
             }
            },
            "type": "histogram"
           }
          ],
          "histogram2d": [
           {
            "colorbar": {
             "outlinewidth": 0,
             "ticks": ""
            },
            "colorscale": [
             [
              0,
              "#0d0887"
             ],
             [
              0.1111111111111111,
              "#46039f"
             ],
             [
              0.2222222222222222,
              "#7201a8"
             ],
             [
              0.3333333333333333,
              "#9c179e"
             ],
             [
              0.4444444444444444,
              "#bd3786"
             ],
             [
              0.5555555555555556,
              "#d8576b"
             ],
             [
              0.6666666666666666,
              "#ed7953"
             ],
             [
              0.7777777777777778,
              "#fb9f3a"
             ],
             [
              0.8888888888888888,
              "#fdca26"
             ],
             [
              1,
              "#f0f921"
             ]
            ],
            "type": "histogram2d"
           }
          ],
          "histogram2dcontour": [
           {
            "colorbar": {
             "outlinewidth": 0,
             "ticks": ""
            },
            "colorscale": [
             [
              0,
              "#0d0887"
             ],
             [
              0.1111111111111111,
              "#46039f"
             ],
             [
              0.2222222222222222,
              "#7201a8"
             ],
             [
              0.3333333333333333,
              "#9c179e"
             ],
             [
              0.4444444444444444,
              "#bd3786"
             ],
             [
              0.5555555555555556,
              "#d8576b"
             ],
             [
              0.6666666666666666,
              "#ed7953"
             ],
             [
              0.7777777777777778,
              "#fb9f3a"
             ],
             [
              0.8888888888888888,
              "#fdca26"
             ],
             [
              1,
              "#f0f921"
             ]
            ],
            "type": "histogram2dcontour"
           }
          ],
          "mesh3d": [
           {
            "colorbar": {
             "outlinewidth": 0,
             "ticks": ""
            },
            "type": "mesh3d"
           }
          ],
          "parcoords": [
           {
            "line": {
             "colorbar": {
              "outlinewidth": 0,
              "ticks": ""
             }
            },
            "type": "parcoords"
           }
          ],
          "pie": [
           {
            "automargin": true,
            "type": "pie"
           }
          ],
          "scatter": [
           {
            "fillpattern": {
             "fillmode": "overlay",
             "size": 10,
             "solidity": 0.2
            },
            "type": "scatter"
           }
          ],
          "scatter3d": [
           {
            "line": {
             "colorbar": {
              "outlinewidth": 0,
              "ticks": ""
             }
            },
            "marker": {
             "colorbar": {
              "outlinewidth": 0,
              "ticks": ""
             }
            },
            "type": "scatter3d"
           }
          ],
          "scattercarpet": [
           {
            "marker": {
             "colorbar": {
              "outlinewidth": 0,
              "ticks": ""
             }
            },
            "type": "scattercarpet"
           }
          ],
          "scattergeo": [
           {
            "marker": {
             "colorbar": {
              "outlinewidth": 0,
              "ticks": ""
             }
            },
            "type": "scattergeo"
           }
          ],
          "scattergl": [
           {
            "marker": {
             "colorbar": {
              "outlinewidth": 0,
              "ticks": ""
             }
            },
            "type": "scattergl"
           }
          ],
          "scattermapbox": [
           {
            "marker": {
             "colorbar": {
              "outlinewidth": 0,
              "ticks": ""
             }
            },
            "type": "scattermapbox"
           }
          ],
          "scatterpolar": [
           {
            "marker": {
             "colorbar": {
              "outlinewidth": 0,
              "ticks": ""
             }
            },
            "type": "scatterpolar"
           }
          ],
          "scatterpolargl": [
           {
            "marker": {
             "colorbar": {
              "outlinewidth": 0,
              "ticks": ""
             }
            },
            "type": "scatterpolargl"
           }
          ],
          "scatterternary": [
           {
            "marker": {
             "colorbar": {
              "outlinewidth": 0,
              "ticks": ""
             }
            },
            "type": "scatterternary"
           }
          ],
          "surface": [
           {
            "colorbar": {
             "outlinewidth": 0,
             "ticks": ""
            },
            "colorscale": [
             [
              0,
              "#0d0887"
             ],
             [
              0.1111111111111111,
              "#46039f"
             ],
             [
              0.2222222222222222,
              "#7201a8"
             ],
             [
              0.3333333333333333,
              "#9c179e"
             ],
             [
              0.4444444444444444,
              "#bd3786"
             ],
             [
              0.5555555555555556,
              "#d8576b"
             ],
             [
              0.6666666666666666,
              "#ed7953"
             ],
             [
              0.7777777777777778,
              "#fb9f3a"
             ],
             [
              0.8888888888888888,
              "#fdca26"
             ],
             [
              1,
              "#f0f921"
             ]
            ],
            "type": "surface"
           }
          ],
          "table": [
           {
            "cells": {
             "fill": {
              "color": "#EBF0F8"
             },
             "line": {
              "color": "white"
             }
            },
            "header": {
             "fill": {
              "color": "#C8D4E3"
             },
             "line": {
              "color": "white"
             }
            },
            "type": "table"
           }
          ]
         },
         "layout": {
          "annotationdefaults": {
           "arrowcolor": "#2a3f5f",
           "arrowhead": 0,
           "arrowwidth": 1
          },
          "autotypenumbers": "strict",
          "coloraxis": {
           "colorbar": {
            "outlinewidth": 0,
            "ticks": ""
           }
          },
          "colorscale": {
           "diverging": [
            [
             0,
             "#8e0152"
            ],
            [
             0.1,
             "#c51b7d"
            ],
            [
             0.2,
             "#de77ae"
            ],
            [
             0.3,
             "#f1b6da"
            ],
            [
             0.4,
             "#fde0ef"
            ],
            [
             0.5,
             "#f7f7f7"
            ],
            [
             0.6,
             "#e6f5d0"
            ],
            [
             0.7,
             "#b8e186"
            ],
            [
             0.8,
             "#7fbc41"
            ],
            [
             0.9,
             "#4d9221"
            ],
            [
             1,
             "#276419"
            ]
           ],
           "sequential": [
            [
             0,
             "#0d0887"
            ],
            [
             0.1111111111111111,
             "#46039f"
            ],
            [
             0.2222222222222222,
             "#7201a8"
            ],
            [
             0.3333333333333333,
             "#9c179e"
            ],
            [
             0.4444444444444444,
             "#bd3786"
            ],
            [
             0.5555555555555556,
             "#d8576b"
            ],
            [
             0.6666666666666666,
             "#ed7953"
            ],
            [
             0.7777777777777778,
             "#fb9f3a"
            ],
            [
             0.8888888888888888,
             "#fdca26"
            ],
            [
             1,
             "#f0f921"
            ]
           ],
           "sequentialminus": [
            [
             0,
             "#0d0887"
            ],
            [
             0.1111111111111111,
             "#46039f"
            ],
            [
             0.2222222222222222,
             "#7201a8"
            ],
            [
             0.3333333333333333,
             "#9c179e"
            ],
            [
             0.4444444444444444,
             "#bd3786"
            ],
            [
             0.5555555555555556,
             "#d8576b"
            ],
            [
             0.6666666666666666,
             "#ed7953"
            ],
            [
             0.7777777777777778,
             "#fb9f3a"
            ],
            [
             0.8888888888888888,
             "#fdca26"
            ],
            [
             1,
             "#f0f921"
            ]
           ]
          },
          "colorway": [
           "#636efa",
           "#EF553B",
           "#00cc96",
           "#ab63fa",
           "#FFA15A",
           "#19d3f3",
           "#FF6692",
           "#B6E880",
           "#FF97FF",
           "#FECB52"
          ],
          "font": {
           "color": "#2a3f5f"
          },
          "geo": {
           "bgcolor": "white",
           "lakecolor": "white",
           "landcolor": "#E5ECF6",
           "showlakes": true,
           "showland": true,
           "subunitcolor": "white"
          },
          "hoverlabel": {
           "align": "left"
          },
          "hovermode": "closest",
          "mapbox": {
           "style": "light"
          },
          "paper_bgcolor": "white",
          "plot_bgcolor": "#E5ECF6",
          "polar": {
           "angularaxis": {
            "gridcolor": "white",
            "linecolor": "white",
            "ticks": ""
           },
           "bgcolor": "#E5ECF6",
           "radialaxis": {
            "gridcolor": "white",
            "linecolor": "white",
            "ticks": ""
           }
          },
          "scene": {
           "xaxis": {
            "backgroundcolor": "#E5ECF6",
            "gridcolor": "white",
            "gridwidth": 2,
            "linecolor": "white",
            "showbackground": true,
            "ticks": "",
            "zerolinecolor": "white"
           },
           "yaxis": {
            "backgroundcolor": "#E5ECF6",
            "gridcolor": "white",
            "gridwidth": 2,
            "linecolor": "white",
            "showbackground": true,
            "ticks": "",
            "zerolinecolor": "white"
           },
           "zaxis": {
            "backgroundcolor": "#E5ECF6",
            "gridcolor": "white",
            "gridwidth": 2,
            "linecolor": "white",
            "showbackground": true,
            "ticks": "",
            "zerolinecolor": "white"
           }
          },
          "shapedefaults": {
           "line": {
            "color": "#2a3f5f"
           }
          },
          "ternary": {
           "aaxis": {
            "gridcolor": "white",
            "linecolor": "white",
            "ticks": ""
           },
           "baxis": {
            "gridcolor": "white",
            "linecolor": "white",
            "ticks": ""
           },
           "bgcolor": "#E5ECF6",
           "caxis": {
            "gridcolor": "white",
            "linecolor": "white",
            "ticks": ""
           }
          },
          "title": {
           "x": 0.05
          },
          "xaxis": {
           "automargin": true,
           "gridcolor": "white",
           "linecolor": "white",
           "ticks": "",
           "title": {
            "standoff": 15
           },
           "zerolinecolor": "white",
           "zerolinewidth": 2
          },
          "yaxis": {
           "automargin": true,
           "gridcolor": "white",
           "linecolor": "white",
           "ticks": "",
           "title": {
            "standoff": 15
           },
           "zerolinecolor": "white",
           "zerolinewidth": 2
          }
         }
        },
        "title": {
         "text": "How many comment sections do we have?"
        },
        "xaxis": {
         "anchor": "y",
         "categoryarray": [
          "Eminem - Love The Way You Lie ft. Rihanna",
          "LMFAO - Party Rock Anthem ft. Lauren Bennett, GoonRock",
          "Shakira - Waka Waka ",
          "PSY - GANGNAM STYLE(?????) M/V",
          "Katy Perry - Roar"
         ],
         "categoryorder": "array",
         "domain": [
          0,
          1
         ],
         "title": {
          "text": "VIDEO_NAME"
         }
        },
        "yaxis": {
         "anchor": "x",
         "domain": [
          0,
          1
         ],
         "title": {
          "text": "count"
         }
        }
       }
      }
     },
     "metadata": {},
     "output_type": "display_data"
    }
   ],
   "source": [
    "video_distrib_plot = px.bar(video_distrib, x= \"VIDEO_NAME\", y=\"count\", \n",
    "                            color= \"VIDEO_NAME\",\n",
    "                            title= \"How many comment sections do we have?\")\n",
    "\n",
    "\n",
    "\n",
    "\n",
    "video_distrib_plot.update_layout(showlegend = False)\n",
    "video_distrib_plot.show()"
   ]
  },
  {
   "cell_type": "markdown",
   "metadata": {},
   "source": [
    "So we have 5 video comment sections"
   ]
  },
  {
   "cell_type": "code",
   "execution_count": 23,
   "metadata": {},
   "outputs": [
    {
     "data": {
      "text/html": [
       "<div>\n",
       "<style scoped>\n",
       "    .dataframe tbody tr th:only-of-type {\n",
       "        vertical-align: middle;\n",
       "    }\n",
       "\n",
       "    .dataframe tbody tr th {\n",
       "        vertical-align: top;\n",
       "    }\n",
       "\n",
       "    .dataframe thead th {\n",
       "        text-align: right;\n",
       "    }\n",
       "</style>\n",
       "<table border=\"1\" class=\"dataframe\">\n",
       "  <thead>\n",
       "    <tr style=\"text-align: right;\">\n",
       "      <th></th>\n",
       "      <th>VIDEO_NAME</th>\n",
       "      <th>CLASS</th>\n",
       "      <th>count</th>\n",
       "    </tr>\n",
       "  </thead>\n",
       "  <tbody>\n",
       "    <tr>\n",
       "      <th>0</th>\n",
       "      <td>Eminem - Love The Way You Lie ft. Rihanna</td>\n",
       "      <td>1</td>\n",
       "      <td>243</td>\n",
       "    </tr>\n",
       "    <tr>\n",
       "      <th>1</th>\n",
       "      <td>Eminem - Love The Way You Lie ft. Rihanna</td>\n",
       "      <td>0</td>\n",
       "      <td>203</td>\n",
       "    </tr>\n",
       "    <tr>\n",
       "      <th>2</th>\n",
       "      <td>Katy Perry - Roar</td>\n",
       "      <td>0</td>\n",
       "      <td>175</td>\n",
       "    </tr>\n",
       "    <tr>\n",
       "      <th>3</th>\n",
       "      <td>Katy Perry - Roar</td>\n",
       "      <td>1</td>\n",
       "      <td>175</td>\n",
       "    </tr>\n",
       "    <tr>\n",
       "      <th>4</th>\n",
       "      <td>LMFAO - Party Rock Anthem ft. Lauren Bennett, ...</td>\n",
       "      <td>1</td>\n",
       "      <td>236</td>\n",
       "    </tr>\n",
       "    <tr>\n",
       "      <th>5</th>\n",
       "      <td>LMFAO - Party Rock Anthem ft. Lauren Bennett, ...</td>\n",
       "      <td>0</td>\n",
       "      <td>202</td>\n",
       "    </tr>\n",
       "    <tr>\n",
       "      <th>6</th>\n",
       "      <td>PSY - GANGNAM STYLE(?????) M/V</td>\n",
       "      <td>0</td>\n",
       "      <td>175</td>\n",
       "    </tr>\n",
       "    <tr>\n",
       "      <th>7</th>\n",
       "      <td>PSY - GANGNAM STYLE(?????) M/V</td>\n",
       "      <td>1</td>\n",
       "      <td>175</td>\n",
       "    </tr>\n",
       "    <tr>\n",
       "      <th>8</th>\n",
       "      <td>Shakira - Waka Waka</td>\n",
       "      <td>0</td>\n",
       "      <td>195</td>\n",
       "    </tr>\n",
       "    <tr>\n",
       "      <th>9</th>\n",
       "      <td>Shakira - Waka Waka</td>\n",
       "      <td>1</td>\n",
       "      <td>174</td>\n",
       "    </tr>\n",
       "  </tbody>\n",
       "</table>\n",
       "</div>"
      ],
      "text/plain": [
       "                                          VIDEO_NAME  CLASS  count\n",
       "0          Eminem - Love The Way You Lie ft. Rihanna      1    243\n",
       "1          Eminem - Love The Way You Lie ft. Rihanna      0    203\n",
       "2                                  Katy Perry - Roar      0    175\n",
       "3                                  Katy Perry - Roar      1    175\n",
       "4  LMFAO - Party Rock Anthem ft. Lauren Bennett, ...      1    236\n",
       "5  LMFAO - Party Rock Anthem ft. Lauren Bennett, ...      0    202\n",
       "6                     PSY - GANGNAM STYLE(?????) M/V      0    175\n",
       "7                     PSY - GANGNAM STYLE(?????) M/V      1    175\n",
       "8                               Shakira - Waka Waka       0    195\n",
       "9                               Shakira - Waka Waka       1    174"
      ]
     },
     "execution_count": 23,
     "metadata": {},
     "output_type": "execute_result"
    }
   ],
   "source": [
    "spam_per_vid = pd.DataFrame(df.groupby(\"VIDEO_NAME\")[\"CLASS\"].value_counts().reset_index())\n",
    "spam_per_vid"
   ]
  },
  {
   "cell_type": "code",
   "execution_count": 24,
   "metadata": {},
   "outputs": [
    {
     "data": {
      "application/vnd.plotly.v1+json": {
       "config": {
        "plotlyServerURL": "https://plot.ly"
       },
       "data": [
        {
         "alignmentgroup": "True",
         "hovertemplate": "VIDEO_NAME=%{x}<br>count=%{y}<br>CLASS=%{marker.color}<extra></extra>",
         "legendgroup": "",
         "marker": {
          "color": [
           1,
           0,
           0,
           1,
           1,
           0,
           0,
           1,
           0,
           1
          ],
          "coloraxis": "coloraxis",
          "pattern": {
           "shape": ""
          }
         },
         "name": "",
         "offsetgroup": "",
         "orientation": "v",
         "showlegend": false,
         "textposition": "auto",
         "type": "bar",
         "x": [
          "Eminem - Love The Way You Lie ft. Rihanna",
          "Eminem - Love The Way You Lie ft. Rihanna",
          "Katy Perry - Roar",
          "Katy Perry - Roar",
          "LMFAO - Party Rock Anthem ft. Lauren Bennett, GoonRock",
          "LMFAO - Party Rock Anthem ft. Lauren Bennett, GoonRock",
          "PSY - GANGNAM STYLE(?????) M/V",
          "PSY - GANGNAM STYLE(?????) M/V",
          "Shakira - Waka Waka ",
          "Shakira - Waka Waka "
         ],
         "xaxis": "x",
         "y": [
          243,
          203,
          175,
          175,
          236,
          202,
          175,
          175,
          195,
          174
         ],
         "yaxis": "y"
        }
       ],
       "layout": {
        "barmode": "relative",
        "coloraxis": {
         "colorbar": {
          "title": {
           "text": "CLASS"
          }
         },
         "colorscale": [
          [
           0,
           "#0d0887"
          ],
          [
           0.1111111111111111,
           "#46039f"
          ],
          [
           0.2222222222222222,
           "#7201a8"
          ],
          [
           0.3333333333333333,
           "#9c179e"
          ],
          [
           0.4444444444444444,
           "#bd3786"
          ],
          [
           0.5555555555555556,
           "#d8576b"
          ],
          [
           0.6666666666666666,
           "#ed7953"
          ],
          [
           0.7777777777777778,
           "#fb9f3a"
          ],
          [
           0.8888888888888888,
           "#fdca26"
          ],
          [
           1,
           "#f0f921"
          ]
         ]
        },
        "legend": {
         "tracegroupgap": 0
        },
        "showlegend": false,
        "template": {
         "data": {
          "bar": [
           {
            "error_x": {
             "color": "#2a3f5f"
            },
            "error_y": {
             "color": "#2a3f5f"
            },
            "marker": {
             "line": {
              "color": "#E5ECF6",
              "width": 0.5
             },
             "pattern": {
              "fillmode": "overlay",
              "size": 10,
              "solidity": 0.2
             }
            },
            "type": "bar"
           }
          ],
          "barpolar": [
           {
            "marker": {
             "line": {
              "color": "#E5ECF6",
              "width": 0.5
             },
             "pattern": {
              "fillmode": "overlay",
              "size": 10,
              "solidity": 0.2
             }
            },
            "type": "barpolar"
           }
          ],
          "carpet": [
           {
            "aaxis": {
             "endlinecolor": "#2a3f5f",
             "gridcolor": "white",
             "linecolor": "white",
             "minorgridcolor": "white",
             "startlinecolor": "#2a3f5f"
            },
            "baxis": {
             "endlinecolor": "#2a3f5f",
             "gridcolor": "white",
             "linecolor": "white",
             "minorgridcolor": "white",
             "startlinecolor": "#2a3f5f"
            },
            "type": "carpet"
           }
          ],
          "choropleth": [
           {
            "colorbar": {
             "outlinewidth": 0,
             "ticks": ""
            },
            "type": "choropleth"
           }
          ],
          "contour": [
           {
            "colorbar": {
             "outlinewidth": 0,
             "ticks": ""
            },
            "colorscale": [
             [
              0,
              "#0d0887"
             ],
             [
              0.1111111111111111,
              "#46039f"
             ],
             [
              0.2222222222222222,
              "#7201a8"
             ],
             [
              0.3333333333333333,
              "#9c179e"
             ],
             [
              0.4444444444444444,
              "#bd3786"
             ],
             [
              0.5555555555555556,
              "#d8576b"
             ],
             [
              0.6666666666666666,
              "#ed7953"
             ],
             [
              0.7777777777777778,
              "#fb9f3a"
             ],
             [
              0.8888888888888888,
              "#fdca26"
             ],
             [
              1,
              "#f0f921"
             ]
            ],
            "type": "contour"
           }
          ],
          "contourcarpet": [
           {
            "colorbar": {
             "outlinewidth": 0,
             "ticks": ""
            },
            "type": "contourcarpet"
           }
          ],
          "heatmap": [
           {
            "colorbar": {
             "outlinewidth": 0,
             "ticks": ""
            },
            "colorscale": [
             [
              0,
              "#0d0887"
             ],
             [
              0.1111111111111111,
              "#46039f"
             ],
             [
              0.2222222222222222,
              "#7201a8"
             ],
             [
              0.3333333333333333,
              "#9c179e"
             ],
             [
              0.4444444444444444,
              "#bd3786"
             ],
             [
              0.5555555555555556,
              "#d8576b"
             ],
             [
              0.6666666666666666,
              "#ed7953"
             ],
             [
              0.7777777777777778,
              "#fb9f3a"
             ],
             [
              0.8888888888888888,
              "#fdca26"
             ],
             [
              1,
              "#f0f921"
             ]
            ],
            "type": "heatmap"
           }
          ],
          "heatmapgl": [
           {
            "colorbar": {
             "outlinewidth": 0,
             "ticks": ""
            },
            "colorscale": [
             [
              0,
              "#0d0887"
             ],
             [
              0.1111111111111111,
              "#46039f"
             ],
             [
              0.2222222222222222,
              "#7201a8"
             ],
             [
              0.3333333333333333,
              "#9c179e"
             ],
             [
              0.4444444444444444,
              "#bd3786"
             ],
             [
              0.5555555555555556,
              "#d8576b"
             ],
             [
              0.6666666666666666,
              "#ed7953"
             ],
             [
              0.7777777777777778,
              "#fb9f3a"
             ],
             [
              0.8888888888888888,
              "#fdca26"
             ],
             [
              1,
              "#f0f921"
             ]
            ],
            "type": "heatmapgl"
           }
          ],
          "histogram": [
           {
            "marker": {
             "pattern": {
              "fillmode": "overlay",
              "size": 10,
              "solidity": 0.2
             }
            },
            "type": "histogram"
           }
          ],
          "histogram2d": [
           {
            "colorbar": {
             "outlinewidth": 0,
             "ticks": ""
            },
            "colorscale": [
             [
              0,
              "#0d0887"
             ],
             [
              0.1111111111111111,
              "#46039f"
             ],
             [
              0.2222222222222222,
              "#7201a8"
             ],
             [
              0.3333333333333333,
              "#9c179e"
             ],
             [
              0.4444444444444444,
              "#bd3786"
             ],
             [
              0.5555555555555556,
              "#d8576b"
             ],
             [
              0.6666666666666666,
              "#ed7953"
             ],
             [
              0.7777777777777778,
              "#fb9f3a"
             ],
             [
              0.8888888888888888,
              "#fdca26"
             ],
             [
              1,
              "#f0f921"
             ]
            ],
            "type": "histogram2d"
           }
          ],
          "histogram2dcontour": [
           {
            "colorbar": {
             "outlinewidth": 0,
             "ticks": ""
            },
            "colorscale": [
             [
              0,
              "#0d0887"
             ],
             [
              0.1111111111111111,
              "#46039f"
             ],
             [
              0.2222222222222222,
              "#7201a8"
             ],
             [
              0.3333333333333333,
              "#9c179e"
             ],
             [
              0.4444444444444444,
              "#bd3786"
             ],
             [
              0.5555555555555556,
              "#d8576b"
             ],
             [
              0.6666666666666666,
              "#ed7953"
             ],
             [
              0.7777777777777778,
              "#fb9f3a"
             ],
             [
              0.8888888888888888,
              "#fdca26"
             ],
             [
              1,
              "#f0f921"
             ]
            ],
            "type": "histogram2dcontour"
           }
          ],
          "mesh3d": [
           {
            "colorbar": {
             "outlinewidth": 0,
             "ticks": ""
            },
            "type": "mesh3d"
           }
          ],
          "parcoords": [
           {
            "line": {
             "colorbar": {
              "outlinewidth": 0,
              "ticks": ""
             }
            },
            "type": "parcoords"
           }
          ],
          "pie": [
           {
            "automargin": true,
            "type": "pie"
           }
          ],
          "scatter": [
           {
            "fillpattern": {
             "fillmode": "overlay",
             "size": 10,
             "solidity": 0.2
            },
            "type": "scatter"
           }
          ],
          "scatter3d": [
           {
            "line": {
             "colorbar": {
              "outlinewidth": 0,
              "ticks": ""
             }
            },
            "marker": {
             "colorbar": {
              "outlinewidth": 0,
              "ticks": ""
             }
            },
            "type": "scatter3d"
           }
          ],
          "scattercarpet": [
           {
            "marker": {
             "colorbar": {
              "outlinewidth": 0,
              "ticks": ""
             }
            },
            "type": "scattercarpet"
           }
          ],
          "scattergeo": [
           {
            "marker": {
             "colorbar": {
              "outlinewidth": 0,
              "ticks": ""
             }
            },
            "type": "scattergeo"
           }
          ],
          "scattergl": [
           {
            "marker": {
             "colorbar": {
              "outlinewidth": 0,
              "ticks": ""
             }
            },
            "type": "scattergl"
           }
          ],
          "scattermapbox": [
           {
            "marker": {
             "colorbar": {
              "outlinewidth": 0,
              "ticks": ""
             }
            },
            "type": "scattermapbox"
           }
          ],
          "scatterpolar": [
           {
            "marker": {
             "colorbar": {
              "outlinewidth": 0,
              "ticks": ""
             }
            },
            "type": "scatterpolar"
           }
          ],
          "scatterpolargl": [
           {
            "marker": {
             "colorbar": {
              "outlinewidth": 0,
              "ticks": ""
             }
            },
            "type": "scatterpolargl"
           }
          ],
          "scatterternary": [
           {
            "marker": {
             "colorbar": {
              "outlinewidth": 0,
              "ticks": ""
             }
            },
            "type": "scatterternary"
           }
          ],
          "surface": [
           {
            "colorbar": {
             "outlinewidth": 0,
             "ticks": ""
            },
            "colorscale": [
             [
              0,
              "#0d0887"
             ],
             [
              0.1111111111111111,
              "#46039f"
             ],
             [
              0.2222222222222222,
              "#7201a8"
             ],
             [
              0.3333333333333333,
              "#9c179e"
             ],
             [
              0.4444444444444444,
              "#bd3786"
             ],
             [
              0.5555555555555556,
              "#d8576b"
             ],
             [
              0.6666666666666666,
              "#ed7953"
             ],
             [
              0.7777777777777778,
              "#fb9f3a"
             ],
             [
              0.8888888888888888,
              "#fdca26"
             ],
             [
              1,
              "#f0f921"
             ]
            ],
            "type": "surface"
           }
          ],
          "table": [
           {
            "cells": {
             "fill": {
              "color": "#EBF0F8"
             },
             "line": {
              "color": "white"
             }
            },
            "header": {
             "fill": {
              "color": "#C8D4E3"
             },
             "line": {
              "color": "white"
             }
            },
            "type": "table"
           }
          ]
         },
         "layout": {
          "annotationdefaults": {
           "arrowcolor": "#2a3f5f",
           "arrowhead": 0,
           "arrowwidth": 1
          },
          "autotypenumbers": "strict",
          "coloraxis": {
           "colorbar": {
            "outlinewidth": 0,
            "ticks": ""
           }
          },
          "colorscale": {
           "diverging": [
            [
             0,
             "#8e0152"
            ],
            [
             0.1,
             "#c51b7d"
            ],
            [
             0.2,
             "#de77ae"
            ],
            [
             0.3,
             "#f1b6da"
            ],
            [
             0.4,
             "#fde0ef"
            ],
            [
             0.5,
             "#f7f7f7"
            ],
            [
             0.6,
             "#e6f5d0"
            ],
            [
             0.7,
             "#b8e186"
            ],
            [
             0.8,
             "#7fbc41"
            ],
            [
             0.9,
             "#4d9221"
            ],
            [
             1,
             "#276419"
            ]
           ],
           "sequential": [
            [
             0,
             "#0d0887"
            ],
            [
             0.1111111111111111,
             "#46039f"
            ],
            [
             0.2222222222222222,
             "#7201a8"
            ],
            [
             0.3333333333333333,
             "#9c179e"
            ],
            [
             0.4444444444444444,
             "#bd3786"
            ],
            [
             0.5555555555555556,
             "#d8576b"
            ],
            [
             0.6666666666666666,
             "#ed7953"
            ],
            [
             0.7777777777777778,
             "#fb9f3a"
            ],
            [
             0.8888888888888888,
             "#fdca26"
            ],
            [
             1,
             "#f0f921"
            ]
           ],
           "sequentialminus": [
            [
             0,
             "#0d0887"
            ],
            [
             0.1111111111111111,
             "#46039f"
            ],
            [
             0.2222222222222222,
             "#7201a8"
            ],
            [
             0.3333333333333333,
             "#9c179e"
            ],
            [
             0.4444444444444444,
             "#bd3786"
            ],
            [
             0.5555555555555556,
             "#d8576b"
            ],
            [
             0.6666666666666666,
             "#ed7953"
            ],
            [
             0.7777777777777778,
             "#fb9f3a"
            ],
            [
             0.8888888888888888,
             "#fdca26"
            ],
            [
             1,
             "#f0f921"
            ]
           ]
          },
          "colorway": [
           "#636efa",
           "#EF553B",
           "#00cc96",
           "#ab63fa",
           "#FFA15A",
           "#19d3f3",
           "#FF6692",
           "#B6E880",
           "#FF97FF",
           "#FECB52"
          ],
          "font": {
           "color": "#2a3f5f"
          },
          "geo": {
           "bgcolor": "white",
           "lakecolor": "white",
           "landcolor": "#E5ECF6",
           "showlakes": true,
           "showland": true,
           "subunitcolor": "white"
          },
          "hoverlabel": {
           "align": "left"
          },
          "hovermode": "closest",
          "mapbox": {
           "style": "light"
          },
          "paper_bgcolor": "white",
          "plot_bgcolor": "#E5ECF6",
          "polar": {
           "angularaxis": {
            "gridcolor": "white",
            "linecolor": "white",
            "ticks": ""
           },
           "bgcolor": "#E5ECF6",
           "radialaxis": {
            "gridcolor": "white",
            "linecolor": "white",
            "ticks": ""
           }
          },
          "scene": {
           "xaxis": {
            "backgroundcolor": "#E5ECF6",
            "gridcolor": "white",
            "gridwidth": 2,
            "linecolor": "white",
            "showbackground": true,
            "ticks": "",
            "zerolinecolor": "white"
           },
           "yaxis": {
            "backgroundcolor": "#E5ECF6",
            "gridcolor": "white",
            "gridwidth": 2,
            "linecolor": "white",
            "showbackground": true,
            "ticks": "",
            "zerolinecolor": "white"
           },
           "zaxis": {
            "backgroundcolor": "#E5ECF6",
            "gridcolor": "white",
            "gridwidth": 2,
            "linecolor": "white",
            "showbackground": true,
            "ticks": "",
            "zerolinecolor": "white"
           }
          },
          "shapedefaults": {
           "line": {
            "color": "#2a3f5f"
           }
          },
          "ternary": {
           "aaxis": {
            "gridcolor": "white",
            "linecolor": "white",
            "ticks": ""
           },
           "baxis": {
            "gridcolor": "white",
            "linecolor": "white",
            "ticks": ""
           },
           "bgcolor": "#E5ECF6",
           "caxis": {
            "gridcolor": "white",
            "linecolor": "white",
            "ticks": ""
           }
          },
          "title": {
           "x": 0.05
          },
          "xaxis": {
           "automargin": true,
           "gridcolor": "white",
           "linecolor": "white",
           "ticks": "",
           "title": {
            "standoff": 15
           },
           "zerolinecolor": "white",
           "zerolinewidth": 2
          },
          "yaxis": {
           "automargin": true,
           "gridcolor": "white",
           "linecolor": "white",
           "ticks": "",
           "title": {
            "standoff": 15
           },
           "zerolinecolor": "white",
           "zerolinewidth": 2
          }
         }
        },
        "title": {
         "text": "How is the class distribution for each video?"
        },
        "xaxis": {
         "anchor": "y",
         "domain": [
          0,
          1
         ],
         "title": {
          "text": "VIDEO_NAME"
         }
        },
        "yaxis": {
         "anchor": "x",
         "domain": [
          0,
          1
         ],
         "title": {
          "text": "count"
         }
        }
       }
      }
     },
     "metadata": {},
     "output_type": "display_data"
    }
   ],
   "source": [
    "spam_per_vid_plot = px.bar(spam_per_vid, x = \"VIDEO_NAME\", y=\"count\", color=\"CLASS\",\n",
    "                           title= \"How is the class distribution for each video?\")\n",
    "spam_per_vid_plot.update_layout(showlegend=False)\n",
    "spam_per_vid_plot"
   ]
  },
  {
   "cell_type": "code",
   "execution_count": 25,
   "metadata": {},
   "outputs": [
    {
     "data": {
      "text/html": [
       "<div>\n",
       "<style scoped>\n",
       "    .dataframe tbody tr th:only-of-type {\n",
       "        vertical-align: middle;\n",
       "    }\n",
       "\n",
       "    .dataframe tbody tr th {\n",
       "        vertical-align: top;\n",
       "    }\n",
       "\n",
       "    .dataframe thead th {\n",
       "        text-align: right;\n",
       "    }\n",
       "</style>\n",
       "<table border=\"1\" class=\"dataframe\">\n",
       "  <thead>\n",
       "    <tr style=\"text-align: right;\">\n",
       "      <th></th>\n",
       "      <th>VIDEO_NAME</th>\n",
       "      <th>count</th>\n",
       "    </tr>\n",
       "  </thead>\n",
       "  <tbody>\n",
       "    <tr>\n",
       "      <th>0</th>\n",
       "      <td>Eminem - Love The Way You Lie ft. Rihanna</td>\n",
       "      <td>446</td>\n",
       "    </tr>\n",
       "    <tr>\n",
       "      <th>1</th>\n",
       "      <td>LMFAO - Party Rock Anthem ft. Lauren Bennett, ...</td>\n",
       "      <td>438</td>\n",
       "    </tr>\n",
       "    <tr>\n",
       "      <th>2</th>\n",
       "      <td>Shakira - Waka Waka</td>\n",
       "      <td>369</td>\n",
       "    </tr>\n",
       "    <tr>\n",
       "      <th>3</th>\n",
       "      <td>PSY - GANGNAM STYLE(?????) M/V</td>\n",
       "      <td>350</td>\n",
       "    </tr>\n",
       "    <tr>\n",
       "      <th>4</th>\n",
       "      <td>Katy Perry - Roar</td>\n",
       "      <td>350</td>\n",
       "    </tr>\n",
       "  </tbody>\n",
       "</table>\n",
       "</div>"
      ],
      "text/plain": [
       "                                          VIDEO_NAME  count\n",
       "0          Eminem - Love The Way You Lie ft. Rihanna    446\n",
       "1  LMFAO - Party Rock Anthem ft. Lauren Bennett, ...    438\n",
       "2                               Shakira - Waka Waka     369\n",
       "3                     PSY - GANGNAM STYLE(?????) M/V    350\n",
       "4                                  Katy Perry - Roar    350"
      ]
     },
     "execution_count": 25,
     "metadata": {},
     "output_type": "execute_result"
    }
   ],
   "source": [
    "video_distrib"
   ]
  },
  {
   "cell_type": "markdown",
   "metadata": {},
   "source": [
    "#### **3. Authors and content analysis**"
   ]
  },
  {
   "cell_type": "code",
   "execution_count": 26,
   "metadata": {},
   "outputs": [],
   "source": [
    "frequent_authors = pd.DataFrame(df.groupby(\"AUTHOR\").size().sort_values(ascending = False).head().reset_index())\n",
    "frequent_authors.rename(columns= {0: \"Number of comments posted\"}, inplace=True)"
   ]
  },
  {
   "cell_type": "code",
   "execution_count": 27,
   "metadata": {},
   "outputs": [
    {
     "data": {
      "application/vnd.plotly.v1+json": {
       "config": {
        "plotlyServerURL": "https://plot.ly"
       },
       "data": [
        {
         "alignmentgroup": "True",
         "hovertemplate": "AUTHOR=%{x}<br>Number of comments posted=%{y}<extra></extra>",
         "legendgroup": "M.E.S",
         "marker": {
          "color": "#636efa",
          "pattern": {
           "shape": ""
          }
         },
         "name": "M.E.S",
         "offsetgroup": "M.E.S",
         "orientation": "v",
         "showlegend": true,
         "textposition": "auto",
         "type": "bar",
         "x": [
          "M.E.S"
         ],
         "xaxis": "x",
         "y": [
          8
         ],
         "yaxis": "y"
        },
        {
         "alignmentgroup": "True",
         "hovertemplate": "AUTHOR=%{x}<br>Number of comments posted=%{y}<extra></extra>",
         "legendgroup": "Louis Bryant",
         "marker": {
          "color": "#EF553B",
          "pattern": {
           "shape": ""
          }
         },
         "name": "Louis Bryant",
         "offsetgroup": "Louis Bryant",
         "orientation": "v",
         "showlegend": true,
         "textposition": "auto",
         "type": "bar",
         "x": [
          "Louis Bryant"
         ],
         "xaxis": "x",
         "y": [
          7
         ],
         "yaxis": "y"
        },
        {
         "alignmentgroup": "True",
         "hovertemplate": "AUTHOR=%{x}<br>Number of comments posted=%{y}<extra></extra>",
         "legendgroup": "Shadrach Grentz",
         "marker": {
          "color": "#00cc96",
          "pattern": {
           "shape": ""
          }
         },
         "name": "Shadrach Grentz",
         "offsetgroup": "Shadrach Grentz",
         "orientation": "v",
         "showlegend": true,
         "textposition": "auto",
         "type": "bar",
         "x": [
          "Shadrach Grentz"
         ],
         "xaxis": "x",
         "y": [
          7
         ],
         "yaxis": "y"
        },
        {
         "alignmentgroup": "True",
         "hovertemplate": "AUTHOR=%{x}<br>Number of comments posted=%{y}<extra></extra>",
         "legendgroup": "5000palo",
         "marker": {
          "color": "#ab63fa",
          "pattern": {
           "shape": ""
          }
         },
         "name": "5000palo",
         "offsetgroup": "5000palo",
         "orientation": "v",
         "showlegend": true,
         "textposition": "auto",
         "type": "bar",
         "x": [
          "5000palo"
         ],
         "xaxis": "x",
         "y": [
          7
         ],
         "yaxis": "y"
        },
        {
         "alignmentgroup": "True",
         "hovertemplate": "AUTHOR=%{x}<br>Number of comments posted=%{y}<extra></extra>",
         "legendgroup": "DanteBTV",
         "marker": {
          "color": "#FFA15A",
          "pattern": {
           "shape": ""
          }
         },
         "name": "DanteBTV",
         "offsetgroup": "DanteBTV",
         "orientation": "v",
         "showlegend": true,
         "textposition": "auto",
         "type": "bar",
         "x": [
          "DanteBTV"
         ],
         "xaxis": "x",
         "y": [
          6
         ],
         "yaxis": "y"
        }
       ],
       "layout": {
        "barmode": "relative",
        "legend": {
         "title": {
          "text": "AUTHOR"
         },
         "tracegroupgap": 0
        },
        "showlegend": false,
        "template": {
         "data": {
          "bar": [
           {
            "error_x": {
             "color": "#2a3f5f"
            },
            "error_y": {
             "color": "#2a3f5f"
            },
            "marker": {
             "line": {
              "color": "#E5ECF6",
              "width": 0.5
             },
             "pattern": {
              "fillmode": "overlay",
              "size": 10,
              "solidity": 0.2
             }
            },
            "type": "bar"
           }
          ],
          "barpolar": [
           {
            "marker": {
             "line": {
              "color": "#E5ECF6",
              "width": 0.5
             },
             "pattern": {
              "fillmode": "overlay",
              "size": 10,
              "solidity": 0.2
             }
            },
            "type": "barpolar"
           }
          ],
          "carpet": [
           {
            "aaxis": {
             "endlinecolor": "#2a3f5f",
             "gridcolor": "white",
             "linecolor": "white",
             "minorgridcolor": "white",
             "startlinecolor": "#2a3f5f"
            },
            "baxis": {
             "endlinecolor": "#2a3f5f",
             "gridcolor": "white",
             "linecolor": "white",
             "minorgridcolor": "white",
             "startlinecolor": "#2a3f5f"
            },
            "type": "carpet"
           }
          ],
          "choropleth": [
           {
            "colorbar": {
             "outlinewidth": 0,
             "ticks": ""
            },
            "type": "choropleth"
           }
          ],
          "contour": [
           {
            "colorbar": {
             "outlinewidth": 0,
             "ticks": ""
            },
            "colorscale": [
             [
              0,
              "#0d0887"
             ],
             [
              0.1111111111111111,
              "#46039f"
             ],
             [
              0.2222222222222222,
              "#7201a8"
             ],
             [
              0.3333333333333333,
              "#9c179e"
             ],
             [
              0.4444444444444444,
              "#bd3786"
             ],
             [
              0.5555555555555556,
              "#d8576b"
             ],
             [
              0.6666666666666666,
              "#ed7953"
             ],
             [
              0.7777777777777778,
              "#fb9f3a"
             ],
             [
              0.8888888888888888,
              "#fdca26"
             ],
             [
              1,
              "#f0f921"
             ]
            ],
            "type": "contour"
           }
          ],
          "contourcarpet": [
           {
            "colorbar": {
             "outlinewidth": 0,
             "ticks": ""
            },
            "type": "contourcarpet"
           }
          ],
          "heatmap": [
           {
            "colorbar": {
             "outlinewidth": 0,
             "ticks": ""
            },
            "colorscale": [
             [
              0,
              "#0d0887"
             ],
             [
              0.1111111111111111,
              "#46039f"
             ],
             [
              0.2222222222222222,
              "#7201a8"
             ],
             [
              0.3333333333333333,
              "#9c179e"
             ],
             [
              0.4444444444444444,
              "#bd3786"
             ],
             [
              0.5555555555555556,
              "#d8576b"
             ],
             [
              0.6666666666666666,
              "#ed7953"
             ],
             [
              0.7777777777777778,
              "#fb9f3a"
             ],
             [
              0.8888888888888888,
              "#fdca26"
             ],
             [
              1,
              "#f0f921"
             ]
            ],
            "type": "heatmap"
           }
          ],
          "heatmapgl": [
           {
            "colorbar": {
             "outlinewidth": 0,
             "ticks": ""
            },
            "colorscale": [
             [
              0,
              "#0d0887"
             ],
             [
              0.1111111111111111,
              "#46039f"
             ],
             [
              0.2222222222222222,
              "#7201a8"
             ],
             [
              0.3333333333333333,
              "#9c179e"
             ],
             [
              0.4444444444444444,
              "#bd3786"
             ],
             [
              0.5555555555555556,
              "#d8576b"
             ],
             [
              0.6666666666666666,
              "#ed7953"
             ],
             [
              0.7777777777777778,
              "#fb9f3a"
             ],
             [
              0.8888888888888888,
              "#fdca26"
             ],
             [
              1,
              "#f0f921"
             ]
            ],
            "type": "heatmapgl"
           }
          ],
          "histogram": [
           {
            "marker": {
             "pattern": {
              "fillmode": "overlay",
              "size": 10,
              "solidity": 0.2
             }
            },
            "type": "histogram"
           }
          ],
          "histogram2d": [
           {
            "colorbar": {
             "outlinewidth": 0,
             "ticks": ""
            },
            "colorscale": [
             [
              0,
              "#0d0887"
             ],
             [
              0.1111111111111111,
              "#46039f"
             ],
             [
              0.2222222222222222,
              "#7201a8"
             ],
             [
              0.3333333333333333,
              "#9c179e"
             ],
             [
              0.4444444444444444,
              "#bd3786"
             ],
             [
              0.5555555555555556,
              "#d8576b"
             ],
             [
              0.6666666666666666,
              "#ed7953"
             ],
             [
              0.7777777777777778,
              "#fb9f3a"
             ],
             [
              0.8888888888888888,
              "#fdca26"
             ],
             [
              1,
              "#f0f921"
             ]
            ],
            "type": "histogram2d"
           }
          ],
          "histogram2dcontour": [
           {
            "colorbar": {
             "outlinewidth": 0,
             "ticks": ""
            },
            "colorscale": [
             [
              0,
              "#0d0887"
             ],
             [
              0.1111111111111111,
              "#46039f"
             ],
             [
              0.2222222222222222,
              "#7201a8"
             ],
             [
              0.3333333333333333,
              "#9c179e"
             ],
             [
              0.4444444444444444,
              "#bd3786"
             ],
             [
              0.5555555555555556,
              "#d8576b"
             ],
             [
              0.6666666666666666,
              "#ed7953"
             ],
             [
              0.7777777777777778,
              "#fb9f3a"
             ],
             [
              0.8888888888888888,
              "#fdca26"
             ],
             [
              1,
              "#f0f921"
             ]
            ],
            "type": "histogram2dcontour"
           }
          ],
          "mesh3d": [
           {
            "colorbar": {
             "outlinewidth": 0,
             "ticks": ""
            },
            "type": "mesh3d"
           }
          ],
          "parcoords": [
           {
            "line": {
             "colorbar": {
              "outlinewidth": 0,
              "ticks": ""
             }
            },
            "type": "parcoords"
           }
          ],
          "pie": [
           {
            "automargin": true,
            "type": "pie"
           }
          ],
          "scatter": [
           {
            "fillpattern": {
             "fillmode": "overlay",
             "size": 10,
             "solidity": 0.2
            },
            "type": "scatter"
           }
          ],
          "scatter3d": [
           {
            "line": {
             "colorbar": {
              "outlinewidth": 0,
              "ticks": ""
             }
            },
            "marker": {
             "colorbar": {
              "outlinewidth": 0,
              "ticks": ""
             }
            },
            "type": "scatter3d"
           }
          ],
          "scattercarpet": [
           {
            "marker": {
             "colorbar": {
              "outlinewidth": 0,
              "ticks": ""
             }
            },
            "type": "scattercarpet"
           }
          ],
          "scattergeo": [
           {
            "marker": {
             "colorbar": {
              "outlinewidth": 0,
              "ticks": ""
             }
            },
            "type": "scattergeo"
           }
          ],
          "scattergl": [
           {
            "marker": {
             "colorbar": {
              "outlinewidth": 0,
              "ticks": ""
             }
            },
            "type": "scattergl"
           }
          ],
          "scattermapbox": [
           {
            "marker": {
             "colorbar": {
              "outlinewidth": 0,
              "ticks": ""
             }
            },
            "type": "scattermapbox"
           }
          ],
          "scatterpolar": [
           {
            "marker": {
             "colorbar": {
              "outlinewidth": 0,
              "ticks": ""
             }
            },
            "type": "scatterpolar"
           }
          ],
          "scatterpolargl": [
           {
            "marker": {
             "colorbar": {
              "outlinewidth": 0,
              "ticks": ""
             }
            },
            "type": "scatterpolargl"
           }
          ],
          "scatterternary": [
           {
            "marker": {
             "colorbar": {
              "outlinewidth": 0,
              "ticks": ""
             }
            },
            "type": "scatterternary"
           }
          ],
          "surface": [
           {
            "colorbar": {
             "outlinewidth": 0,
             "ticks": ""
            },
            "colorscale": [
             [
              0,
              "#0d0887"
             ],
             [
              0.1111111111111111,
              "#46039f"
             ],
             [
              0.2222222222222222,
              "#7201a8"
             ],
             [
              0.3333333333333333,
              "#9c179e"
             ],
             [
              0.4444444444444444,
              "#bd3786"
             ],
             [
              0.5555555555555556,
              "#d8576b"
             ],
             [
              0.6666666666666666,
              "#ed7953"
             ],
             [
              0.7777777777777778,
              "#fb9f3a"
             ],
             [
              0.8888888888888888,
              "#fdca26"
             ],
             [
              1,
              "#f0f921"
             ]
            ],
            "type": "surface"
           }
          ],
          "table": [
           {
            "cells": {
             "fill": {
              "color": "#EBF0F8"
             },
             "line": {
              "color": "white"
             }
            },
            "header": {
             "fill": {
              "color": "#C8D4E3"
             },
             "line": {
              "color": "white"
             }
            },
            "type": "table"
           }
          ]
         },
         "layout": {
          "annotationdefaults": {
           "arrowcolor": "#2a3f5f",
           "arrowhead": 0,
           "arrowwidth": 1
          },
          "autotypenumbers": "strict",
          "coloraxis": {
           "colorbar": {
            "outlinewidth": 0,
            "ticks": ""
           }
          },
          "colorscale": {
           "diverging": [
            [
             0,
             "#8e0152"
            ],
            [
             0.1,
             "#c51b7d"
            ],
            [
             0.2,
             "#de77ae"
            ],
            [
             0.3,
             "#f1b6da"
            ],
            [
             0.4,
             "#fde0ef"
            ],
            [
             0.5,
             "#f7f7f7"
            ],
            [
             0.6,
             "#e6f5d0"
            ],
            [
             0.7,
             "#b8e186"
            ],
            [
             0.8,
             "#7fbc41"
            ],
            [
             0.9,
             "#4d9221"
            ],
            [
             1,
             "#276419"
            ]
           ],
           "sequential": [
            [
             0,
             "#0d0887"
            ],
            [
             0.1111111111111111,
             "#46039f"
            ],
            [
             0.2222222222222222,
             "#7201a8"
            ],
            [
             0.3333333333333333,
             "#9c179e"
            ],
            [
             0.4444444444444444,
             "#bd3786"
            ],
            [
             0.5555555555555556,
             "#d8576b"
            ],
            [
             0.6666666666666666,
             "#ed7953"
            ],
            [
             0.7777777777777778,
             "#fb9f3a"
            ],
            [
             0.8888888888888888,
             "#fdca26"
            ],
            [
             1,
             "#f0f921"
            ]
           ],
           "sequentialminus": [
            [
             0,
             "#0d0887"
            ],
            [
             0.1111111111111111,
             "#46039f"
            ],
            [
             0.2222222222222222,
             "#7201a8"
            ],
            [
             0.3333333333333333,
             "#9c179e"
            ],
            [
             0.4444444444444444,
             "#bd3786"
            ],
            [
             0.5555555555555556,
             "#d8576b"
            ],
            [
             0.6666666666666666,
             "#ed7953"
            ],
            [
             0.7777777777777778,
             "#fb9f3a"
            ],
            [
             0.8888888888888888,
             "#fdca26"
            ],
            [
             1,
             "#f0f921"
            ]
           ]
          },
          "colorway": [
           "#636efa",
           "#EF553B",
           "#00cc96",
           "#ab63fa",
           "#FFA15A",
           "#19d3f3",
           "#FF6692",
           "#B6E880",
           "#FF97FF",
           "#FECB52"
          ],
          "font": {
           "color": "#2a3f5f"
          },
          "geo": {
           "bgcolor": "white",
           "lakecolor": "white",
           "landcolor": "#E5ECF6",
           "showlakes": true,
           "showland": true,
           "subunitcolor": "white"
          },
          "hoverlabel": {
           "align": "left"
          },
          "hovermode": "closest",
          "mapbox": {
           "style": "light"
          },
          "paper_bgcolor": "white",
          "plot_bgcolor": "#E5ECF6",
          "polar": {
           "angularaxis": {
            "gridcolor": "white",
            "linecolor": "white",
            "ticks": ""
           },
           "bgcolor": "#E5ECF6",
           "radialaxis": {
            "gridcolor": "white",
            "linecolor": "white",
            "ticks": ""
           }
          },
          "scene": {
           "xaxis": {
            "backgroundcolor": "#E5ECF6",
            "gridcolor": "white",
            "gridwidth": 2,
            "linecolor": "white",
            "showbackground": true,
            "ticks": "",
            "zerolinecolor": "white"
           },
           "yaxis": {
            "backgroundcolor": "#E5ECF6",
            "gridcolor": "white",
            "gridwidth": 2,
            "linecolor": "white",
            "showbackground": true,
            "ticks": "",
            "zerolinecolor": "white"
           },
           "zaxis": {
            "backgroundcolor": "#E5ECF6",
            "gridcolor": "white",
            "gridwidth": 2,
            "linecolor": "white",
            "showbackground": true,
            "ticks": "",
            "zerolinecolor": "white"
           }
          },
          "shapedefaults": {
           "line": {
            "color": "#2a3f5f"
           }
          },
          "ternary": {
           "aaxis": {
            "gridcolor": "white",
            "linecolor": "white",
            "ticks": ""
           },
           "baxis": {
            "gridcolor": "white",
            "linecolor": "white",
            "ticks": ""
           },
           "bgcolor": "#E5ECF6",
           "caxis": {
            "gridcolor": "white",
            "linecolor": "white",
            "ticks": ""
           }
          },
          "title": {
           "x": 0.05
          },
          "xaxis": {
           "automargin": true,
           "gridcolor": "white",
           "linecolor": "white",
           "ticks": "",
           "title": {
            "standoff": 15
           },
           "zerolinecolor": "white",
           "zerolinewidth": 2
          },
          "yaxis": {
           "automargin": true,
           "gridcolor": "white",
           "linecolor": "white",
           "ticks": "",
           "title": {
            "standoff": 15
           },
           "zerolinecolor": "white",
           "zerolinewidth": 2
          }
         }
        },
        "title": {
         "text": "Who are the most frequent authors?"
        },
        "xaxis": {
         "anchor": "y",
         "categoryarray": [
          "M.E.S",
          "Louis Bryant",
          "Shadrach Grentz",
          "5000palo",
          "DanteBTV"
         ],
         "categoryorder": "array",
         "domain": [
          0,
          1
         ],
         "title": {
          "text": "AUTHOR"
         }
        },
        "yaxis": {
         "anchor": "x",
         "domain": [
          0,
          1
         ],
         "title": {
          "text": "Number of comments posted"
         }
        }
       }
      }
     },
     "metadata": {},
     "output_type": "display_data"
    }
   ],
   "source": [
    "frequent_authors_plot = px.bar(frequent_authors, color=\"AUTHOR\", x=\"AUTHOR\", y=\"Number of comments posted\",\n",
    "                              title= \"Who are the most frequent authors?\")\n",
    "\n",
    "frequent_authors_plot.update_layout(showlegend = False)\n",
    "\n",
    "frequent_authors_plot.show()"
   ]
  },
  {
   "cell_type": "markdown",
   "metadata": {},
   "source": [
    "There are none, because although some authors appear more than once in the dataset, the maximum number of comments left by a single author is 8, which is 0.4% of the dataset, aka `insignificant`"
   ]
  },
  {
   "cell_type": "code",
   "execution_count": 28,
   "metadata": {},
   "outputs": [
    {
     "data": {
      "text/html": [
       "<div>\n",
       "<style scoped>\n",
       "    .dataframe tbody tr th:only-of-type {\n",
       "        vertical-align: middle;\n",
       "    }\n",
       "\n",
       "    .dataframe tbody tr th {\n",
       "        vertical-align: top;\n",
       "    }\n",
       "\n",
       "    .dataframe thead th {\n",
       "        text-align: right;\n",
       "    }\n",
       "</style>\n",
       "<table border=\"1\" class=\"dataframe\">\n",
       "  <thead>\n",
       "    <tr style=\"text-align: right;\">\n",
       "      <th></th>\n",
       "      <th>COMMENT_ID</th>\n",
       "      <th>AUTHOR</th>\n",
       "      <th>CONTENT</th>\n",
       "      <th>VIDEO_NAME</th>\n",
       "      <th>CLASS</th>\n",
       "      <th>LABEL_NAME</th>\n",
       "    </tr>\n",
       "  </thead>\n",
       "  <tbody>\n",
       "    <tr>\n",
       "      <th>0</th>\n",
       "      <td>LZQPQhLyRh80UYxNuaDWhIGQYNQ96IuCg-AYWqNPjpU</td>\n",
       "      <td>Julius NM</td>\n",
       "      <td>Huh, anyway check out this you[tube] channel: ...</td>\n",
       "      <td>PSY - GANGNAM STYLE(?????) M/V</td>\n",
       "      <td>1</td>\n",
       "      <td>Spam</td>\n",
       "    </tr>\n",
       "    <tr>\n",
       "      <th>1</th>\n",
       "      <td>LZQPQhLyRh_C2cTtd9MvFRJedxydaVW-2sNg5Diuo4A</td>\n",
       "      <td>adam riyati</td>\n",
       "      <td>Hey guys check out my new channel and our firs...</td>\n",
       "      <td>PSY - GANGNAM STYLE(?????) M/V</td>\n",
       "      <td>1</td>\n",
       "      <td>Spam</td>\n",
       "    </tr>\n",
       "    <tr>\n",
       "      <th>2</th>\n",
       "      <td>LZQPQhLyRh9MSZYnf8djyk0gEF9BHDPYrrK-qCczIY8</td>\n",
       "      <td>Evgeny Murashkin</td>\n",
       "      <td>just for test I have to say murdev.com</td>\n",
       "      <td>PSY - GANGNAM STYLE(?????) M/V</td>\n",
       "      <td>1</td>\n",
       "      <td>Spam</td>\n",
       "    </tr>\n",
       "    <tr>\n",
       "      <th>3</th>\n",
       "      <td>z13jhp0bxqncu512g22wvzkasxmvvzjaz04</td>\n",
       "      <td>ElNino Melendez</td>\n",
       "      <td>me shaking my sexy ass on my channel enjoy ^_^ ﻿</td>\n",
       "      <td>PSY - GANGNAM STYLE(?????) M/V</td>\n",
       "      <td>1</td>\n",
       "      <td>Spam</td>\n",
       "    </tr>\n",
       "    <tr>\n",
       "      <th>4</th>\n",
       "      <td>z13fwbwp1oujthgqj04chlngpvzmtt3r3dw</td>\n",
       "      <td>GsMega</td>\n",
       "      <td>watch?v=vtaRGgvGtWQ   Check this out .﻿</td>\n",
       "      <td>PSY - GANGNAM STYLE(?????) M/V</td>\n",
       "      <td>1</td>\n",
       "      <td>Spam</td>\n",
       "    </tr>\n",
       "  </tbody>\n",
       "</table>\n",
       "</div>"
      ],
      "text/plain": [
       "                                    COMMENT_ID            AUTHOR  \\\n",
       "0  LZQPQhLyRh80UYxNuaDWhIGQYNQ96IuCg-AYWqNPjpU         Julius NM   \n",
       "1  LZQPQhLyRh_C2cTtd9MvFRJedxydaVW-2sNg5Diuo4A       adam riyati   \n",
       "2  LZQPQhLyRh9MSZYnf8djyk0gEF9BHDPYrrK-qCczIY8  Evgeny Murashkin   \n",
       "3          z13jhp0bxqncu512g22wvzkasxmvvzjaz04   ElNino Melendez   \n",
       "4          z13fwbwp1oujthgqj04chlngpvzmtt3r3dw            GsMega   \n",
       "\n",
       "                                             CONTENT  \\\n",
       "0  Huh, anyway check out this you[tube] channel: ...   \n",
       "1  Hey guys check out my new channel and our firs...   \n",
       "2             just for test I have to say murdev.com   \n",
       "3   me shaking my sexy ass on my channel enjoy ^_^ ﻿   \n",
       "4            watch?v=vtaRGgvGtWQ   Check this out .﻿   \n",
       "\n",
       "                       VIDEO_NAME  CLASS LABEL_NAME  \n",
       "0  PSY - GANGNAM STYLE(?????) M/V      1       Spam  \n",
       "1  PSY - GANGNAM STYLE(?????) M/V      1       Spam  \n",
       "2  PSY - GANGNAM STYLE(?????) M/V      1       Spam  \n",
       "3  PSY - GANGNAM STYLE(?????) M/V      1       Spam  \n",
       "4  PSY - GANGNAM STYLE(?????) M/V      1       Spam  "
      ]
     },
     "execution_count": 28,
     "metadata": {},
     "output_type": "execute_result"
    }
   ],
   "source": [
    "df.head()"
   ]
  },
  {
   "cell_type": "markdown",
   "metadata": {},
   "source": [
    "### **Part 2: First Model**"
   ]
  },
  {
   "cell_type": "code",
   "execution_count": 29,
   "metadata": {},
   "outputs": [],
   "source": [
    "from sklearn.linear_model import LogisticRegression\n",
    "from sklearn.model_selection import train_test_split\n",
    "from sklearn.feature_extraction.text import TfidfVectorizer, CountVectorizer\n",
    "from sklearn.metrics import classification_report, roc_auc_score, roc_curve, confusion_matrix"
   ]
  },
  {
   "cell_type": "code",
   "execution_count": 30,
   "metadata": {},
   "outputs": [],
   "source": [
    "import seaborn as sns"
   ]
  },
  {
   "cell_type": "code",
   "execution_count": 31,
   "metadata": {},
   "outputs": [],
   "source": [
    "X= df[\"CONTENT\"]\n",
    "y = df[\"CLASS\"]"
   ]
  },
  {
   "cell_type": "markdown",
   "metadata": {},
   "source": [
    "#### **TF-IDF**\n",
    "\n",
    "I started with this model because I had already done some research about it last year for another NLP project, but I wasn't able to use it then, so I jumped at this chance. "
   ]
  },
  {
   "cell_type": "code",
   "execution_count": 32,
   "metadata": {},
   "outputs": [],
   "source": [
    "def log_reg_tfidf(X, y):\n",
    "\n",
    "    tfidf_vec = TfidfVectorizer()    \n",
    "\n",
    "    X_train, X_test, y_train, y_test = train_test_split(X, y, test_size=0.2, random_state=13)\n",
    "    \n",
    "    # Transform text data into TF-IDF features\n",
    "    X_train = tfidf_vec.fit_transform(X_train)\n",
    "    X_test = tfidf_vec.transform(X_test)\n",
    "    \n",
    "    log = LogisticRegression(random_state=13).fit(X_train, y_train)\n",
    "    \n",
    "    predictions = log.predict(X_test)\n",
    "    \n",
    "    # Printing results\n",
    "    print(\"Train Score:\", log.score(X_train, y_train))\n",
    "    print(\"Test Score:\", log.score(X_test, y_test))\n",
    "    \n",
    "    cm = confusion_matrix(y_test, predictions)\n",
    "\n",
    "    # Plotting confusion matrix\n",
    "    plt.figure(figsize=(6,4))\n",
    "    sns.heatmap(cm, annot=True, fmt='d', cmap='Blues', cbar=False)\n",
    "    plt.title('Logistic Regression Confusion Matrix')\n",
    "    plt.ylabel('Actual')\n",
    "    plt.xlabel('Predicted')\n",
    "    plt.show()\n",
    "        \n",
    "    # Get predicted probabilities for class 1 (positive class)\n",
    "    probabilities = log.predict_proba(X_test)[:, 1]\n",
    "    \n",
    "    # Compute and print ROC-AUC score\n",
    "    roc_auc = roc_auc_score(y_test, probabilities)\n",
    "    print(\"ROC-AUC score:\", roc_auc)\n",
    "    \n",
    "    # Compute ROC curve\n",
    "    fpr, tpr, _ = roc_curve(y_test, probabilities)\n",
    "    \n",
    "    # Plot ROC curve\n",
    "    plt.figure(figsize=(8, 6))\n",
    "    plt.plot(fpr, tpr, color='blue', label=f'ROC curve (area = {roc_auc:.2f})')\n",
    "    plt.plot([0, 1], [0, 1], color='gray', linestyle='--')  # Diagonal line for random guessing\n",
    "    plt.xlabel('False Positive Rate')\n",
    "    plt.ylabel('True Positive Rate')\n",
    "    plt.title('Receiver Operating Characteristic (ROC) Curve')\n",
    "    plt.legend(loc='lower right')\n",
    "    plt.show()\n"
   ]
  },
  {
   "cell_type": "code",
   "execution_count": 33,
   "metadata": {},
   "outputs": [
    {
     "name": "stdout",
     "output_type": "stream",
     "text": [
      "Train Score: 0.9737516005121639\n",
      "Test Score: 0.948849104859335\n"
     ]
    },
    {
     "data": {
      "image/png": "[encoded data removed]",
      "text/plain": [
       "<Figure size 600x400 with 1 Axes>"
      ]
     },
     "metadata": {},
     "output_type": "display_data"
    },
    {
     "name": "stdout",
     "output_type": "stream",
     "text": [
      "ROC-AUC score: 0.9823236296879099\n"
     ]
    },
    {
     "data": {
      "image/png": "[encoded data removed]",
      "text/plain": [
       "<Figure size 800x600 with 1 Axes>"
      ]
     },
     "metadata": {},
     "output_type": "display_data"
    }
   ],
   "source": [
    "log_reg_tfidf(X,y)"
   ]
  },
  {
   "cell_type": "markdown",
   "metadata": {},
   "source": [
    "DAMN I'M GOOD "
   ]
  },
  {
   "cell_type": "markdown",
   "metadata": {},
   "source": [
    "but still can get a higher score "
   ]
  },
  {
   "cell_type": "markdown",
   "metadata": {},
   "source": [
    "### **Part 3: Improving the model**"
   ]
  },
  {
   "cell_type": "markdown",
   "metadata": {},
   "source": [
    "#### **Count Vectorizer**\n",
    "\n",
    "While I was researching for the first model, I watched many videos that compared CountVectorizer to TfidfVectorizer, so I kind of had to try it. "
   ]
  },
  {
   "cell_type": "code",
   "execution_count": 34,
   "metadata": {},
   "outputs": [],
   "source": [
    "def log_reg_count_vect(X, y):\n",
    "\n",
    "    vect = CountVectorizer()\n",
    "    \n",
    "    X_train, X_test, y_train, y_test = train_test_split(X, y, test_size=0.2, random_state=13)\n",
    "    \n",
    "    # Transform text data into count vectors\n",
    "    X_train = vect.fit_transform(X_train)\n",
    "    X_test = vect.transform(X_test)\n",
    "    \n",
    "    log = LogisticRegression(random_state=13).fit(X_train, y_train)\n",
    "    \n",
    "    predictions = log.predict(X_test)\n",
    "    \n",
    "    print(\"Train Score:\", log.score(X_train, y_train))\n",
    "    print(\"Test Score:\", log.score(X_test, y_test))\n",
    "    \n",
    "    cm = confusion_matrix(y_test, predictions)\n",
    "\n",
    "    # Plotting confusion matrix\n",
    "    plt.figure(figsize=(6,4))\n",
    "    sns.heatmap(cm, annot=True, fmt='d', cmap='Blues', cbar=False)\n",
    "    plt.title('Logistic Regression Confusion Matrix')\n",
    "    plt.ylabel('Actual')\n",
    "    plt.xlabel('Predicted')\n",
    "    plt.show()    \n",
    "    \n",
    "    # Get predicted probabilities for class 1 (positive class)\n",
    "    probabilities = log.predict_proba(X_test)[:, 1]\n",
    "    \n",
    "    # Compute and print ROC-AUC score\n",
    "    roc_auc = roc_auc_score(y_test, probabilities)\n",
    "    print(\"ROC-AUC score:\", roc_auc)\n",
    "    \n",
    "    # Compute ROC curve\n",
    "    fpr, tpr, _ = roc_curve(y_test, probabilities)\n",
    "    \n",
    "    # Plot ROC curve\n",
    "    plt.figure(figsize=(8, 6))\n",
    "    plt.plot(fpr, tpr, color='blue', label=f'ROC curve (area = {roc_auc:.2f})')\n",
    "    plt.plot([0, 1], [0, 1], color='gray', linestyle='--')  # Diagonal line for random guessing\n",
    "    plt.xlabel('False Positive Rate')\n",
    "    plt.ylabel('True Positive Rate')\n",
    "    plt.title('Receiver Operating Characteristic (ROC) Curve')\n",
    "    plt.legend(loc='lower right')\n",
    "    plt.show()"
   ]
  },
  {
   "cell_type": "code",
   "execution_count": 35,
   "metadata": {},
   "outputs": [
    {
     "name": "stdout",
     "output_type": "stream",
     "text": [
      "Train Score: 0.9916773367477593\n",
      "Test Score: 0.9411764705882353\n"
     ]
    },
    {
     "data": {
      "image/png": "[encoded data removed]",
      "text/plain": [
       "<Figure size 600x400 with 1 Axes>"
      ]
     },
     "metadata": {},
     "output_type": "display_data"
    },
    {
     "name": "stdout",
     "output_type": "stream",
     "text": [
      "ROC-AUC score: 0.9846052976658799\n"
     ]
    },
    {
     "data": {
      "image/png": "[encoded data removed]",
      "text/plain": [
       "<Figure size 800x600 with 1 Axes>"
      ]
     },
     "metadata": {},
     "output_type": "display_data"
    }
   ],
   "source": [
    "log_reg_count_vect(X,y)"
   ]
  },
  {
   "cell_type": "markdown",
   "metadata": {},
   "source": [
    "TF-IDF Vectorizer seems to be a better option on our dataset.\n",
    "\n",
    "#### **Now, let's try to apply what we saw in class**"
   ]
  },
  {
   "cell_type": "markdown",
   "metadata": {},
   "source": [
    "### **2. Cross Validation and Hyperparameter Tuning**"
   ]
  },
  {
   "cell_type": "code",
   "execution_count": 36,
   "metadata": {},
   "outputs": [],
   "source": [
    "from sklearn.model_selection import cross_val_score\n",
    "from sklearn.model_selection import GridSearchCV"
   ]
  },
  {
   "cell_type": "markdown",
   "metadata": {},
   "source": [
    "I first did a hyperparameter tuning on `Count Vectorizer` because before solving the data leakage problem it had better performance metrics than `TF-IDF`. "
   ]
  },
  {
   "cell_type": "code",
   "execution_count": 37,
   "metadata": {},
   "outputs": [],
   "source": [
    "# def log_reg_count_vect_cross_val(X, y):\n",
    "#     vect = CountVectorizer()\n",
    "#     X_train, X_test, y_train, y_test = train_test_split(X, y, test_size=0.2, random_state=13)\n",
    "    \n",
    "#     # Transform text data into count vectors\n",
    "#     X_train = vect.fit_transform(X_train)\n",
    "#     X_test = vect.transform(X_test)\n",
    "    \n",
    "#     log = LogisticRegression(random_state=13)\n",
    "    \n",
    "#     # Define parameter grid for GridSearchCV\n",
    "#     param_grid = {\n",
    "#         \"C\": [0.01, 0.1, 1, 10, 100],\n",
    "#         \"solver\": [\"lbfgs\", \"liblinear\"]\n",
    "#     }\n",
    "    \n",
    "#     grid_search = GridSearchCV(log, param_grid=param_grid, cv=5, scoring='accuracy')\n",
    "    \n",
    "#     grid_search.fit(X_train, y_train)\n",
    "    \n",
    "#     # Best parameters and cross-validation score\n",
    "#     print('Best params:', grid_search.best_params_)\n",
    "#     print('Best cross-val score:', grid_search.best_score_)\n",
    "    \n",
    "#     # Evaluate on test data with best model\n",
    "#     best_log = grid_search.best_estimator_\n",
    "#     predictions = best_log.predict(X_test)\n",
    "    \n",
    "#     print(\"Test Score:\", best_log.score(X_test, y_test))\n",
    "#     print(\"Classification report:\\n\", classification_report(y_test, predictions))\n",
    "    "
   ]
  },
  {
   "cell_type": "code",
   "execution_count": 38,
   "metadata": {},
   "outputs": [],
   "source": [
    "# log_reg_count_vect_cross_val(X,y)"
   ]
  },
  {
   "cell_type": "markdown",
   "metadata": {},
   "source": [
    "- Best params:  {'C': 10, 'solver': 'liblinear'}\n",
    "- Best cross-val score:  0.9545650036864094"
   ]
  },
  {
   "cell_type": "code",
   "execution_count": 39,
   "metadata": {},
   "outputs": [],
   "source": [
    "def log_reg_count_tfidf_cross_val(X, y):\n",
    "    tfidf = TfidfVectorizer()\n",
    "    X_train, X_test, y_train, y_test = train_test_split(X, y, test_size=0.2, random_state=13)\n",
    "    \n",
    "    # Transform text data into count vectors\n",
    "    X_train = tfidf.fit_transform(X_train)\n",
    "    X_test = tfidf.transform(X_test)\n",
    "    \n",
    "    log = LogisticRegression(random_state=13)\n",
    "    \n",
    "    # Define parameter grid for GridSearchCV\n",
    "    param_grid = {\n",
    "        \"C\": [0.01, 0.1, 1, 10, 100],\n",
    "        \"solver\": [\"lbfgs\", \"liblinear\"]\n",
    "    }\n",
    "    \n",
    "    grid_search = GridSearchCV(log, param_grid=param_grid, cv=5, scoring='accuracy')\n",
    "    \n",
    "    grid_search.fit(X_train, y_train)\n",
    "    \n",
    "    # Best parameters and cross-validation score\n",
    "    print('Best params:', grid_search.best_params_)\n",
    "    print('Best cross-val score:', grid_search.best_score_)\n",
    "    \n",
    "    # Evaluate on test data with best model\n",
    "    best_log = grid_search.best_estimator_\n",
    "    predictions = best_log.predict(X_test)\n",
    "    \n",
    "    print(\"Test Score:\", best_log.score(X_test, y_test))\n",
    "    print(\"Classification report:\\n\", classification_report(y_test, predictions))\n",
    "    "
   ]
  },
  {
   "cell_type": "code",
   "execution_count": 40,
   "metadata": {},
   "outputs": [
    {
     "name": "stdout",
     "output_type": "stream",
     "text": [
      "Best params: {'C': 10, 'solver': 'lbfgs'}\n",
      "Best cross-val score: 0.947503481608913\n",
      "Test Score: 0.9437340153452686\n",
      "Classification report:\n",
      "               precision    recall  f1-score   support\n",
      "\n",
      "           0       0.93      0.96      0.94       186\n",
      "           1       0.96      0.93      0.95       205\n",
      "\n",
      "    accuracy                           0.94       391\n",
      "   macro avg       0.94      0.94      0.94       391\n",
      "weighted avg       0.94      0.94      0.94       391\n",
      "\n"
     ]
    }
   ],
   "source": [
    "log_reg_count_tfidf_cross_val(X,y)"
   ]
  },
  {
   "cell_type": "markdown",
   "metadata": {},
   "source": [
    "- Best params: {'C': 10, 'solver': 'lbfgs'}\n",
    "- Best cross-val score: 0.947503481608913\n",
    "- Test Score: 0.9437340153452686"
   ]
  },
  {
   "cell_type": "markdown",
   "metadata": {},
   "source": [
    "#### **Testing with best params and score**"
   ]
  },
  {
   "cell_type": "code",
   "execution_count": 41,
   "metadata": {},
   "outputs": [],
   "source": [
    "def count_vect_bests(X,y):\n",
    "    vect = CountVectorizer()\n",
    "    X = vect.fit_transform(X)\n",
    "    \n",
    "    X_train, X_test, y_train, y_test = train_test_split(X,y, test_size=0.2, random_state=13)\n",
    "    \n",
    "    log = LogisticRegression(C= 10, solver= \"liblinear\", random_state=13).fit(X_train,y_train)\n",
    "    predictions = log.predict(X_test)\n",
    "    \n",
    "    print(\"Train Score\", log.score(X_train,y_train))\n",
    "    print(\"Test Score\", log.score(X_test,y_test))\n",
    "    print(\"Classification report:\", classification_report(y_test, predictions))\n",
    "    \n",
    "    probabilities = log.predict_proba(X_test)[:, 1]  # Probabilities for the positive class (class 1)\n",
    "\n",
    "    cm = confusion_matrix(y_test, predictions)\n",
    "\n",
    "    # Plotting confusion matrix\n",
    "    plt.figure(figsize=(6,4))\n",
    "    sns.heatmap(cm, annot=True, fmt='d', cmap='Blues', cbar=False)\n",
    "    plt.title('Logistic Regression Confusion Matrix')\n",
    "    plt.ylabel('Actual')\n",
    "    plt.xlabel('Predicted')\n",
    "    plt.show()\n",
    "    \n",
    "    roc_auc = roc_auc_score(y_test, probabilities)\n",
    "    print(\"ROC-AUC score:\", roc_auc)\n",
    "    \n",
    "    # Compute ROC curve and plot it\n",
    "    fpr, tpr, _ = roc_curve(y_test, probabilities)\n",
    "    \n",
    "    plt.figure(figsize=(8, 6))\n",
    "    plt.plot(fpr, tpr, color='blue', label=f'ROC curve (area = {roc_auc:.2f})')\n",
    "    plt.plot([0, 1], [0, 1], color='gray', linestyle='--')  # Diagonal line for random guessing\n",
    "    plt.xlabel('False Positive Rate')\n",
    "    plt.ylabel('True Positive Rate')\n",
    "    plt.title('Receiver Operating Characteristic (ROC) Curve')\n",
    "    plt.legend(loc='lower right')\n",
    "    plt.show()    \n",
    "    "
   ]
  },
  {
   "cell_type": "code",
   "execution_count": 42,
   "metadata": {},
   "outputs": [
    {
     "name": "stdout",
     "output_type": "stream",
     "text": [
      "Train Score 1.0\n",
      "Test Score 0.9411764705882353\n",
      "Classification report:               precision    recall  f1-score   support\n",
      "\n",
      "           0       0.91      0.97      0.94       186\n",
      "           1       0.97      0.92      0.94       205\n",
      "\n",
      "    accuracy                           0.94       391\n",
      "   macro avg       0.94      0.94      0.94       391\n",
      "weighted avg       0.94      0.94      0.94       391\n",
      "\n"
     ]
    },
    {
     "data": {
      "image/png": "[encoded data removed]",
      "text/plain": [
       "<Figure size 600x400 with 1 Axes>"
      ]
     },
     "metadata": {},
     "output_type": "display_data"
    },
    {
     "name": "stdout",
     "output_type": "stream",
     "text": [
      "ROC-AUC score: 0.9862575399947547\n"
     ]
    },
    {
     "data": {
      "image/png": "[encoded data removed]",
      "text/plain": [
       "<Figure size 800x600 with 1 Axes>"
      ]
     },
     "metadata": {},
     "output_type": "display_data"
    }
   ],
   "source": [
    "count_vect_bests(X,y)"
   ]
  },
  {
   "cell_type": "markdown",
   "metadata": {},
   "source": [
    "#### **Good but the baseline model is this better**"
   ]
  },
  {
   "cell_type": "markdown",
   "metadata": {},
   "source": [
    "#### **What if TfidfVectorizer worked even better with the optimal parameters ?**"
   ]
  },
  {
   "cell_type": "code",
   "execution_count": 43,
   "metadata": {},
   "outputs": [],
   "source": [
    "def log_reg_tfidf_bests(X, y):\n",
    "\n",
    "    X_train_raw, X_test_raw, y_train, y_test = train_test_split(X, y, test_size=0.2, random_state=13)\n",
    "    \n",
    "    # Initialize TF-IDF vectorizer and fit only on the training data\n",
    "    tfidf_vec = TfidfVectorizer()\n",
    "    X_train = tfidf_vec.fit_transform(X_train_raw)\n",
    "    X_test = tfidf_vec.transform(X_test_raw)\n",
    "     \n",
    "    \n",
    "    # Using the best parameters \n",
    "    log = LogisticRegression(C=10, solver=\"liblinear\", random_state=13).fit(X_train, y_train)\n",
    "    predictions = log.predict(X_test)\n",
    "\n",
    "    print(\"Train Score:\", log.score(X_train, y_train))\n",
    "    print(\"Test Score:\", log.score(X_test, y_test))\n",
    "    print(\"Classification report:\\n\", classification_report(y_test, predictions))\n",
    "    \n",
    "    # Getting the predicted probabilities for each test sample\n",
    "    probabilities = log.predict_proba(X_test)\n",
    "    \n",
    "    # # Printing the predicted probabilities and corresponding raw text from X_test_raw\n",
    "    # print(\"\\nPredicted Probabilities for each test sample:\")\n",
    "    # for i, (prob_0, prob_1) in enumerate(probabilities):\n",
    "    #     print(f\"Sample {i + 1}: Class 0 Probability: {prob_0:.4f}, Class 1 Probability: {prob_1:.4f}\")\n",
    "    #     print(f\"Comment: {X_test_raw.iloc[i]}\\n\")  # Use X_test_raw for the original text\n",
    "    \n",
    "    # Calculating and printing ROC-AUC score\n",
    "    roc_auc = roc_auc_score(y_test, probabilities[:, 1])\n",
    "    print(\"\\nROC-AUC score:\", roc_auc)\n",
    "    \n",
    "    # Compute and plot ROC curve\n",
    "    fpr, tpr, _ = roc_curve(y_test, probabilities[:, 1])\n",
    "    plt.figure(figsize=(8, 6))\n",
    "    plt.plot(fpr, tpr, color='blue', label=f'ROC curve (area = {roc_auc:.2f})')\n",
    "    plt.plot([0, 1], [0, 1], color='gray', linestyle='--')  # Diagonal line for random guessing\n",
    "    plt.xlabel('False Positive Rate')\n",
    "    plt.ylabel('True Positive Rate')\n",
    "    plt.title('Receiver Operating Characteristic (ROC) Curve')\n",
    "    plt.legend(loc='lower right')\n",
    "    plt.show()\n"
   ]
  },
  {
   "cell_type": "code",
   "execution_count": 44,
   "metadata": {},
   "outputs": [
    {
     "name": "stdout",
     "output_type": "stream",
     "text": [
      "Train Score: 0.9993597951344431\n",
      "Test Score: 0.9462915601023018\n",
      "Classification report:\n",
      "               precision    recall  f1-score   support\n",
      "\n",
      "           0       0.93      0.96      0.94       186\n",
      "           1       0.96      0.94      0.95       205\n",
      "\n",
      "    accuracy                           0.95       391\n",
      "   macro avg       0.95      0.95      0.95       391\n",
      "weighted avg       0.95      0.95      0.95       391\n",
      "\n",
      "\n",
      "ROC-AUC score: 0.9868607395751376\n"
     ]
    },
    {
     "data": {
      "image/png": "[encoded data removed]",
      "text/plain": [
       "<Figure size 800x600 with 1 Axes>"
      ]
     },
     "metadata": {},
     "output_type": "display_data"
    }
   ],
   "source": [
    "log_reg_tfidf_bests(X,y)"
   ]
  },
  {
   "cell_type": "markdown",
   "metadata": {},
   "source": [
    "Weirdly enough the baseline model still works better than the one with the optimal parameters ?? \n",
    "Yes the accuracy is better on trained data for the optimal parameters model, but test is better with baseline!"
   ]
  },
  {
   "cell_type": "markdown",
   "metadata": {},
   "source": [
    "Logistic regression might have reached it's limits tho"
   ]
  },
  {
   "cell_type": "markdown",
   "metadata": {},
   "source": [
    "#### **Lets keep trying something else**"
   ]
  },
  {
   "cell_type": "markdown",
   "metadata": {},
   "source": [
    "Bernoulli is known for handling well binary classification, let's try it!"
   ]
  },
  {
   "cell_type": "code",
   "execution_count": 45,
   "metadata": {},
   "outputs": [],
   "source": [
    "from sklearn.naive_bayes import BernoulliNB"
   ]
  },
  {
   "cell_type": "code",
   "execution_count": 46,
   "metadata": {},
   "outputs": [],
   "source": [
    "def bernoulli(X,y):\n",
    "    \n",
    "    vect = CountVectorizer(binary=True)\n",
    "    X = vect.fit_transform(X)\n",
    "    \n",
    "    X_train, X_test, y_train, y_test = train_test_split(X,y, test_size=0.2, random_state=13)\n",
    "\n",
    "    ber = BernoulliNB()\n",
    "    \n",
    "    ber.fit(X_train, y_train)\n",
    "    predictions = ber.predict(X_test)\n",
    "    \n",
    "    print(\"Train Score\", ber.score(X_train,y_train))\n",
    "    print(\"Test Score\", ber.score(X_test,y_test))\n",
    "    \n",
    "    \n",
    "    probabilities = ber.predict_proba(X_test)[:, 1]  # Probabilities for the positive class (class 1)\n",
    "    \n",
    "    cm = confusion_matrix(y_test, predictions)\n",
    "\n",
    "    # Plotting confusion matrix\n",
    "    plt.figure(figsize=(6,4))\n",
    "    sns.heatmap(cm, annot=True, fmt='d', cmap='Blues', cbar=False)\n",
    "    plt.title('Naive Bayes Confusion Matrix')\n",
    "    plt.ylabel('Actual')\n",
    "    plt.xlabel('Predicted')\n",
    "    plt.show()\n",
    "    \n",
    "    roc_auc = roc_auc_score(y_test, probabilities)\n",
    "    print(\"ROC-AUC score:\", roc_auc)\n",
    "    \n",
    "    # Compute ROC curve and plot it\n",
    "    fpr, tpr, _ = roc_curve(y_test, probabilities)\n",
    "    \n",
    "    plt.figure(figsize=(8, 6))\n",
    "    plt.plot(fpr, tpr, color='blue', label=f'ROC curve (area = {roc_auc:.2f})')\n",
    "    plt.plot([0, 1], [0, 1], color='gray', linestyle='--')  # Diagonal line for random guessing\n",
    "    plt.xlabel('False Positive Rate')\n",
    "    plt.ylabel('True Positive Rate')\n",
    "    plt.title('Receiver Operating Characteristic (ROC) Curve')\n",
    "    plt.legend(loc='lower right')\n",
    "    plt.show()    \n",
    "    "
   ]
  },
  {
   "cell_type": "code",
   "execution_count": 47,
   "metadata": {},
   "outputs": [
    {
     "name": "stdout",
     "output_type": "stream",
     "text": [
      "Train Score 0.912291933418694\n",
      "Test Score 0.8746803069053708\n"
     ]
    },
    {
     "data": {
      "image/png": "[encoded data removed]",
      "text/plain": [
       "<Figure size 600x400 with 1 Axes>"
      ]
     },
     "metadata": {},
     "output_type": "display_data"
    },
    {
     "name": "stdout",
     "output_type": "stream",
     "text": [
      "ROC-AUC score: 0.9820613690007867\n"
     ]
    },
    {
     "data": {
      "image/png": "[encoded data removed]",
      "text/plain": [
       "<Figure size 800x600 with 1 Axes>"
      ]
     },
     "metadata": {},
     "output_type": "display_data"
    }
   ],
   "source": [
    "bernoulli(X,y)"
   ]
  },
  {
   "cell_type": "markdown",
   "metadata": {},
   "source": [
    "That's a **flop**"
   ]
  },
  {
   "cell_type": "markdown",
   "metadata": {},
   "source": [
    "Logistic Regression seems more efficient than Bernoulli NB, which makes sense when we're classifying spam comments for which frequency and use might be more important than simple appearance."
   ]
  },
  {
   "cell_type": "markdown",
   "metadata": {},
   "source": [
    "#### **Let's try and boost this puppy**"
   ]
  },
  {
   "cell_type": "code",
   "execution_count": 48,
   "metadata": {},
   "outputs": [],
   "source": [
    "import xgboost as xgb\n",
    "from sklearn.metrics import accuracy_score\n"
   ]
  },
  {
   "cell_type": "code",
   "execution_count": 81,
   "metadata": {},
   "outputs": [],
   "source": [
    "import xgboost as xgb\n",
    "from sklearn.feature_extraction.text import TfidfVectorizer\n",
    "from sklearn.model_selection import train_test_split\n",
    "from sklearn.metrics import confusion_matrix, accuracy_score, roc_auc_score, roc_curve\n",
    "import matplotlib.pyplot as plt\n",
    "import seaborn as sns\n",
    "\n",
    "def xgb_model(X, y):\n",
    "\n",
    "    # Vectorize text using TF-IDF\n",
    "    tfidf_vec = TfidfVectorizer()\n",
    "    \n",
    "    X_train, X_test, y_train, y_test = train_test_split(X, y, test_size=0.2, random_state=13)\n",
    "    \n",
    "    X_train_tfidf = tfidf_vec.fit_transform(X_train)\n",
    "    X_test_tfidf = tfidf_vec.transform(X_test)\n",
    "\n",
    "    # Converting to DMatrix (XGBoost's optimized data structure)\n",
    "    dtrain = xgb.DMatrix(X_train_tfidf, label=y_train)\n",
    "    dtest = xgb.DMatrix(X_test_tfidf, label=y_test)\n",
    "    \n",
    "    # XGBoost parameters\n",
    "    params = {\n",
    "        'objective': 'binary:logistic',\n",
    "        'max_depth': 6,  # Adjust as necessary\n",
    "        'learning_rate': 0.1,\n",
    "        'eval_metric': 'logloss'\n",
    "    }\n",
    "    \n",
    "    # Training the XGBoost model\n",
    "    xgb_model = xgb.train(params, dtrain, num_boost_round=100)\n",
    "\n",
    "    # Predict probabilities on the test set\n",
    "    test_predictions = xgb_model.predict(dtest)\n",
    "    \n",
    "    \n",
    "    # Converting probabilities to binary predictions (0 or 1)\n",
    "    test_binary_predictions = [1 if pred >= 0.5 else 0 for pred in test_predictions]\n",
    "    \n",
    "    # Evaluation\n",
    "    test_accuracy = accuracy_score(y_test, test_binary_predictions)\n",
    "    print(f\"Test Accuracy: {test_accuracy:.4f}\")\n",
    "\n",
    "    # Confusion Matrix\n",
    "    print(\"\\nConfusion Matrix:\")\n",
    "    cm = confusion_matrix(y_test, test_binary_predictions)\n",
    "\n",
    "    plt.figure(figsize=(6,4))\n",
    "    sns.heatmap(cm, annot=True, fmt='d', cmap='Blues', cbar=False)\n",
    "    plt.title('XGBoost Confusion Matrix')\n",
    "    plt.ylabel('Actual')\n",
    "    plt.xlabel('Predicted')\n",
    "    plt.show()\n",
    "        \n",
    "    # ROC AUC Score\n",
    "    roc_auc = roc_auc_score(y_test, test_predictions)\n",
    "    print(f\"ROC AUC Score: {roc_auc:.4f}\")\n",
    "\n",
    "\n",
    "    fpr, tpr, thresholds = roc_curve(y_test, test_predictions)\n",
    "    plt.plot(fpr, tpr, label=f'ROC AUC = {roc_auc:.4f}')\n",
    "    plt.plot([0, 1], [0, 1], 'k--')  # Diagonal line for a random classifier\n",
    "    plt.xlabel('False Positive Rate')\n",
    "    plt.ylabel('True Positive Rate')\n",
    "    plt.title('ROC Curve')\n",
    "    plt.legend()\n",
    "    plt.show()\n"
   ]
  },
  {
   "cell_type": "code",
   "execution_count": 82,
   "metadata": {},
   "outputs": [
    {
     "name": "stdout",
     "output_type": "stream",
     "text": [
      "Test Accuracy: 0.9540\n",
      "\n",
      "Confusion Matrix:\n"
     ]
    },
    {
     "data": {
      "image/png": "[encoded data removed]",
      "text/plain": [
       "<Figure size 600x400 with 1 Axes>"
      ]
     },
     "metadata": {},
     "output_type": "display_data"
    },
    {
     "name": "stdout",
     "output_type": "stream",
     "text": [
      "ROC AUC Score: 0.9837\n"
     ]
    },
    {
     "data": {
      "image/png": "[encoded data removed]",
      "text/plain": [
       "<Figure size 640x480 with 1 Axes>"
      ]
     },
     "metadata": {},
     "output_type": "display_data"
    }
   ],
   "source": [
    "xgb_model(df[\"CONTENT\"], df[\"CLASS\"])\n"
   ]
  },
  {
   "cell_type": "code",
   "execution_count": null,
   "metadata": {},
   "outputs": [],
   "source": []
  },
  {
   "cell_type": "code",
   "execution_count": null,
   "metadata": {},
   "outputs": [],
   "source": []
  }
 ],
 "metadata": {
  "kernelspec": {
   "display_name": ".venv",
   "language": "python",
   "name": "python3"
  },
  "language_info": {
   "codemirror_mode": {
    "name": "ipython",
    "version": 3
   },
   "file_extension": ".py",
   "mimetype": "text/x-python",
   "name": "python",
   "nbconvert_exporter": "python",
   "pygments_lexer": "ipython3",
   "version": "3.13.0"
  }
 },
 "nbformat": 4,
 "nbformat_minor": 2
}
